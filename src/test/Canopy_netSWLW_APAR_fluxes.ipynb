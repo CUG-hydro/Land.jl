{
 "cells": [
  {
   "cell_type": "markdown",
   "metadata": {},
   "source": [
    "# Canopy LW + SW net Energy Balance test per layer"
   ]
  },
  {
   "cell_type": "code",
   "execution_count": 1,
   "metadata": {},
   "outputs": [],
   "source": [
    "# Add PATH (adapt!)\n",
    "push!(LOAD_PATH, \"/Volumes/cfranken/code/gitHub/LSM-SPAM/src/Leaf/\");\n",
    "push!(LOAD_PATH, \"/Volumes/cfranken/code/gitHub/LSM-SPAM/src/Utils/\");\n",
    "#push!(LOAD_PATH, \"/Volumes/cfranken/code/gitHub/LSM-SPAM/src/tools/\");\n",
    "\n",
    "# Use Plots:\n",
    "using Plots\n",
    "using BenchmarkTools\n",
    "using Statistics\n",
    "using Parameters"
   ]
  },
  {
   "cell_type": "code",
   "execution_count": 2,
   "metadata": {},
   "outputs": [],
   "source": [
    "using Revise\n",
    "using CanopyRTMod"
   ]
  },
  {
   "cell_type": "code",
   "execution_count": 3,
   "metadata": {},
   "outputs": [],
   "source": [
    "@unpack wl,wle,wlf, soil = CanopyRTMod;\n",
    "# Create an array of standard leaves (needs to be in Module later on:\n",
    "arrayOfLeaves = Array{leafbio{FT}, 1}(undef, CanopyRTMod.canopy.nlayers)\n",
    "for i = 1:CanopyRTMod.canopy.nlayers\n",
    "    arrayOfLeaves[i] = leafbio{FT, length(wl), length(wle), length(wlf)}()\n",
    "    CanopyRTMod.fluspect!(arrayOfLeaves[i], CanopyRTMod.optis)\n",
    "end"
   ]
  },
  {
   "cell_type": "code",
   "execution_count": 4,
   "metadata": {},
   "outputs": [],
   "source": [
    "# 4 Different steps to compute Short-Wave RT\n",
    "CanopyRTMod.computeCanopyGeomProps!(canopy, angles,canOpt)\n",
    "CanopyRTMod.computeCanopyMatrices!(arrayOfLeaves,canOpt);\n",
    "CanopyRTMod.RTM_SW!(canopy, canOpt, canRad,sunRad, CanopyRTMod.soil);\n",
    "CanopyRTMod.deriveCanopyFluxes!(canopy, canOpt, canRad,sunRad, CanopyRTMod.soil, arrayOfLeaves);"
   ]
  },
  {
   "cell_type": "code",
   "execution_count": 5,
   "metadata": {},
   "outputs": [
    {
     "name": "stdout",
     "output_type": "stream",
     "text": [
      "F⁻[:, end] = Float32[67.9579]\n",
      "F⁺[:, end] = Float32[367.72128]\n",
      "canRad.T_sun = Float32[280.0, 280.0, 280.0, 280.0, 280.0, 280.0, 280.0, 280.0, 280.0, 280.0, 280.0, 280.0, 280.0, 280.0, 280.0, 280.0, 280.0, 280.0, 280.0, 280.0]\n",
      "canRad.T_shade = Float32[280.0, 280.0, 280.0, 280.0, 280.0, 280.0, 280.0, 280.0, 280.0, 280.0, 280.0, 280.0, 280.0, 280.0, 280.0, 280.0, 280.0, 280.0, 280.0, 280.0]\n"
     ]
    }
   ],
   "source": [
    "# Compute Long Wave (Last term is LW incoming in W m^-2)\n",
    "Emin,Eplu,netLW =  CanopyRTMod.computeThermalFluxes(arrayOfLeaves, canOpt, canRad, canopy, soil, [Float32(400.0)]);\n",
    "# Layer Temperatures are here:\n",
    "@show canRad.T_sun;\n",
    "@show canRad.T_shade;"
   ]
  },
  {
   "cell_type": "code",
   "execution_count": 6,
   "metadata": {},
   "outputs": [
    {
     "name": "stdout",
     "output_type": "stream",
     "text": [
      "canRad.intNetLW_shade = Float32[-33.553574, -40.79455, -46.836624, -51.83625, -55.922886, -59.202374, -61.759624, -63.660862, -64.95533, -65.67654, -65.84316, -65.45952, -64.515686, -62.9872, -60.834496, -58.00182, -54.41583, -49.983654, -44.590523, -38.096764]\n",
      "canRad.intNetLW_sunlit = Float32[-33.553574, -40.79455, -46.836624, -51.83625, -55.922886, -59.202374, -61.759624, -63.660862, -64.95533, -65.67654, -65.84316, -65.45952, -64.515686, -62.9872, -60.834496, -58.00182, -54.41583, -49.983654, -44.590523, -38.096764]\n",
      "canRad.intNetSW_shade = Float32[142.27963, 128.6942, 116.84857, 106.50427, 97.45883, 89.541214, 82.60717, 76.5357, 71.22568, 66.593544, 62.570835, 59.102795, 56.14653, 53.670284, 51.652374, 50.080692, 48.952396, 48.273613, 48.059868, 48.336094]\n",
      "canRad.intNetSW_sunlit = Float32[267.1786, 253.59317, 241.74748, 231.4032, 222.35779, 214.44016, 207.5062, 201.43463, 196.12463, 191.49252, 187.46973, 184.00177, 181.0455, 178.56921, 176.55127, 174.97963, 173.85136, 173.1726, 172.9588, 173.23503]\n",
      "canRad.RnSoilLW = -299.76337f0\n",
      "canRad.RnSoil = 111.684845f0\n",
      "1.0e6 * canRad.absPAR_shadeCab = [484.53870113007724, 421.9040565658361, 367.9757355712354, 321.5701144654304, 281.6759515553713, 247.43020185269415, 218.09809550177306, 193.05605383124202, 171.77687550429255, 153.81767298094928, 138.80965707357973, 126.44963862840086, 116.49298539850861, 108.74825966311619, 103.072750789579, 99.36940477928147, 97.58463420439512, 97.70740143721923, 99.76897126762196, 103.84394408902153]\n"
     ]
    }
   ],
   "source": [
    "# Net Energy fluxes\n",
    "@show canRad.intNetLW_shade;\n",
    "@show canRad.intNetLW_sunlit;\n",
    "@show canRad.intNetSW_shade;\n",
    "@show canRad.intNetSW_sunlit;\n",
    "@show canRad.RnSoilLW;\n",
    "@show canRad.RnSoil;\n",
    "#@show 1e6 * canRad.absPAR_sunCab;\n",
    "@show 1e6 * canRad.absPAR_shadeCab;"
   ]
  },
  {
   "cell_type": "code",
   "execution_count": null,
   "metadata": {},
   "outputs": [],
   "source": [
    "plot(Emin', label=\"Downwelling Thermal\")\n",
    "plot!(Eplu', label=\"Upwelling Thermal\")"
   ]
  },
  {
   "cell_type": "code",
   "execution_count": null,
   "metadata": {},
   "outputs": [],
   "source": [
    "plot(wl, canRad.netSW_sunlit)"
   ]
  },
  {
   "cell_type": "code",
   "execution_count": null,
   "metadata": {},
   "outputs": [],
   "source": [
    "iLAI = 4 /20.\n",
    "plot(wl,1 ./canOpt.Ps[10] / iLAI * canRad.netSW_sunlit[:,10])\n",
    "plot!(wl, sunRad.E_direct)"
   ]
  },
  {
   "cell_type": "code",
   "execution_count": null,
   "metadata": {},
   "outputs": [],
   "source": [
    "1 ./canOpt.Ps[10]"
   ]
  },
  {
   "cell_type": "code",
   "execution_count": null,
   "metadata": {},
   "outputs": [],
   "source": []
  }
 ],
 "metadata": {
  "kernelspec": {
   "display_name": "Julia 1.4.0",
   "language": "julia",
   "name": "julia-1.4"
  },
  "language_info": {
   "file_extension": ".jl",
   "mimetype": "application/julia",
   "name": "julia",
   "version": "1.4.0"
  }
 },
 "nbformat": 4,
 "nbformat_minor": 2
}
