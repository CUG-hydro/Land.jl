{
 "cells": [
  {
   "cell_type": "markdown",
   "metadata": {},
   "source": [
    "# Canopy RT module (rewrite from mSCOPE)\n",
    "---\n",
    "### Testing the diffuse RT with internal sources here (generalized to do both thermal and SIF).\n",
    "---\n",
    "\n"
   ]
  },
  {
   "cell_type": "code",
   "execution_count": 1,
   "metadata": {},
   "outputs": [],
   "source": [
    "# Add PATH (adapt!)\n",
    "push!(LOAD_PATH, \"/Volumes/cfranken/code/gitHub/LSM-SPAM/src/Leaf/\");\n",
    "push!(LOAD_PATH, \"/Volumes/cfranken/code/gitHub/LSM-SPAM/src/Utils/\");\n",
    "#push!(LOAD_PATH, \"/Volumes/cfranken/code/gitHub/LSM-SPAM/src/tools/\");\n",
    "\n",
    "# Use Plots:\n",
    "using Plots\n",
    "#using PhotoStructs\n",
    "#plotly()"
   ]
  },
  {
   "cell_type": "code",
   "execution_count": 2,
   "metadata": {},
   "outputs": [
    {
     "name": "stderr",
     "output_type": "stream",
     "text": [
      "┌ Info: Precompiling CanopyRTMod [top-level]\n",
      "└ @ Base loading.jl:1260\n"
     ]
    },
    {
     "name": "stdout",
     "output_type": "stream",
     "text": [
      "Reading Optical Parameters from 400.0 to 2380.0 length: 115\n"
     ]
    }
   ],
   "source": [
    "using CanopyRTMod\n",
    "using BenchmarkTools\n",
    "using Statistics\n",
    "using Parameters\n",
    "using Revise"
   ]
  },
  {
   "cell_type": "code",
   "execution_count": 3,
   "metadata": {},
   "outputs": [],
   "source": [
    "@unpack wl,wle,wlf, soil = CanopyRTMod;"
   ]
  },
  {
   "cell_type": "code",
   "execution_count": 4,
   "metadata": {},
   "outputs": [
    {
     "data": {
      "text/plain": [
       "leafbio{Float32,114,45,29}\n",
       "  N: Float32 1.4f0\n",
       "  Cab: Float32 40.0f0\n",
       "  Car: Float32 10.0f0\n",
       "  Ant: Float32 0.0f0\n",
       "  Cs: Float32 0.0f0\n",
       "  Cw: Float32 0.009f0\n",
       "  Cm: Float32 0.012f0\n",
       "  Cx: Float32 0.0f0\n",
       "  ρ_LW: Float32 0.01f0\n",
       "  τ_LW: Float32 0.01f0\n",
       "  fqe: Float32 0.01f0\n",
       "  ρ_SW: Array{Float32}((114,)) Float32[0.0, 0.0, 0.0, 0.0, 0.0, 0.0, 0.0, 0.0, 0.0, 0.0  …  0.0, 0.0, 0.0, 0.0, 0.0, 0.0, 0.0, 0.0, 0.0, 0.0]\n",
       "  τ_SW: Array{Float32}((114,)) Float32[0.0, 0.0, 0.0, 0.0, 0.0, 0.0, 0.0, 0.0, 0.0, 0.0  …  0.0, 0.0, 0.0, 0.0, 0.0, 0.0, 0.0, 0.0, 0.0, 0.0]\n",
       "  kChlrel: Array{Float32}((114,)) Float32[0.0, 0.0, 0.0, 0.0, 0.0, 0.0, 0.0, 0.0, 0.0, 0.0  …  0.0, 0.0, 0.0, 0.0, 0.0, 0.0, 0.0, 0.0, 0.0, 0.0]\n",
       "  kChlrel_old: Array{Float32}((114,)) Float32[0.0, 0.0, 0.0, 0.0, 0.0, 0.0, 0.0, 0.0, 0.0, 0.0  …  0.0, 0.0, 0.0, 0.0, 0.0, 0.0, 0.0, 0.0, 0.0, 0.0]\n",
       "  Mb: Array{Float32}((45, 29)) Float32[0.0 0.0 … 0.0 0.0; 0.0 0.0 … 0.0 0.0; … ; 0.0 0.0 … 0.0 0.0; 0.0 0.0 … 0.0 0.0]\n",
       "  Mf: Array{Float32}((45, 29)) Float32[0.0 0.0 … 0.0 0.0; 0.0 0.0 … 0.0 0.0; … ; 0.0 0.0 … 0.0 0.0; 0.0 0.0 … 0.0 0.0]\n"
      ]
     },
     "execution_count": 4,
     "metadata": {},
     "output_type": "execute_result"
    }
   ],
   "source": [
    "leaf = leafbio{FT, length(wl), length(wle), length(wlf)}();\n",
    "soilAlbedo = 0.07;\n",
    "incomingLW = 400.0 #W/m2\n",
    "arrayOfLeaves = Array{leafbio{FT}, 1}(undef, 1)\n",
    "arrayOfLeaves[1]=leaf"
   ]
  },
  {
   "cell_type": "code",
   "execution_count": 5,
   "metadata": {},
   "outputs": [],
   "source": [
    "leaf.fqe=0.01\n",
    "CanopyRTMod.fluspect!(leaf, CanopyRTMod.optis)\n",
    "CanopyRTMod.computeCanopyGeomProps!(canopy, angles,canOpt)\n",
    "CanopyRTMod.computeCanopyMatrices!(arrayOfLeaves,canOpt);"
   ]
  },
  {
   "cell_type": "code",
   "execution_count": 6,
   "metadata": {},
   "outputs": [
    {
     "data": {
      "text/plain": [
       "PhysCon.phys{Float32}\n",
       "  grav: Float32 9.80665f0\n",
       "  tfrz: Float32 273.15f0\n",
       "  σ: Float32 5.67f-8\n",
       "  mmdry: Float32 0.02897f0\n",
       "  mmh2o: Float32 0.01802f0\n",
       "  Cpd: Float32 1005.0f0\n",
       "  Cpw: Float32 1846.0f0\n",
       "  Rgas: Float32 8.31446f0\n",
       "  visc_0: Float32 1.33f-5\n",
       "  Dh_0: Float32 1.89f-5\n",
       "  Dv_0: Float32 2.18f-5\n",
       "  Dc_0: Float32 1.38f-5\n"
      ]
     },
     "execution_count": 6,
     "metadata": {},
     "output_type": "execute_result"
    }
   ],
   "source": [
    "using PhysCon\n",
    "consts = PhysCon.phys{Float32}()"
   ]
  },
  {
   "cell_type": "code",
   "execution_count": 7,
   "metadata": {},
   "outputs": [
    {
     "data": {
      "text/plain": [
       "0.19600000195205217"
      ]
     },
     "execution_count": 7,
     "metadata": {},
     "output_type": "execute_result"
    }
   ],
   "source": [
    "# Hack Thermal optical properties per layer here:\n",
    "nl = 20\n",
    "nwl = 1\n",
    "iLAI    = 0.2;#canopy.LAI/nl;\n",
    "sigf = canOpt.ddf*leaf.ρ_LW + canOpt.ddb*leaf.τ_LW\n",
    "sigb = canOpt.ddb*leaf.ρ_LW + canOpt.ddf*leaf.τ_LW\n",
    "τ_dd = (1 - (1-sigf)*iLAI)*ones(nwl,nl)\n",
    "ρ_dd = (sigb*iLAI)*ones(nwl,nl)\n",
    "\n",
    "1.0-τ_dd[1,1]-ρ_dd[1,1]"
   ]
  },
  {
   "cell_type": "code",
   "execution_count": 8,
   "metadata": {},
   "outputs": [
    {
     "data": {
      "text/plain": [
       "(1, 20)"
      ]
     },
     "execution_count": 8,
     "metadata": {},
     "output_type": "execute_result"
    }
   ],
   "source": [
    "S⁺ = zeros(nwl,nl).+152*iLAI*0.98\n",
    "S⁻ = zeros(nwl,nl).+152*iLAI*0.98\n",
    "S⁺[1,9:11].=200*iLAI\n",
    "S⁻[1,9:11].=200*iLAI\n",
    "size(S⁺)\n"
   ]
  },
  {
   "cell_type": "code",
   "execution_count": 9,
   "metadata": {},
   "outputs": [],
   "source": [
    "Emin,Eplu,netLW =  CanopyRTMod.RTM_diffuseS(τ_dd, ρ_dd,S⁻, S⁺, [0.0], [300.0], [0.06]);"
   ]
  },
  {
   "cell_type": "code",
   "execution_count": 10,
   "metadata": {},
   "outputs": [],
   "source": [
    "#iLAI = canopy.LAI/canopy.nlayers;\n",
    "sumLAI = [0:iLAI:nl*iLAI;];"
   ]
  },
  {
   "cell_type": "code",
   "execution_count": 11,
   "metadata": {},
   "outputs": [
    {
     "ename": "UndefVarError",
     "evalue": "UndefVarError: Emin2 not defined",
     "output_type": "error",
     "traceback": [
      "UndefVarError: Emin2 not defined",
      "",
      "Stacktrace:",
      " [1] top-level scope at In[11]:3"
     ]
    }
   ],
   "source": [
    "plot(Emin',-sumLAI, label=\"Downwelling Thermal\")\n",
    "plot!(Eplu',-sumLAI, label=\"Upwelling Thermal\")\n",
    "plot!(1 .+Emin2',-sumLAI2, label=\"Downwelling Thermal fine\")\n",
    "plot!(1 .+Eplu2',-sumLAI2, label=\"Upwelling Thermal fine\")\n",
    "xlabel!(\"W/m2\")\n",
    "ylabel!(\"-Cum LAI\")\n",
    "#plot!(Eplu',1:1:21, label=\"Upwnwelling Thermal\")"
   ]
  },
  {
   "cell_type": "code",
   "execution_count": 12,
   "metadata": {},
   "outputs": [
    {
     "data": {
      "text/plain": [
       "393.0077560399347"
      ]
     },
     "execution_count": 12,
     "metadata": {},
     "output_type": "execute_result"
    }
   ],
   "source": [
    "(0.98*consts.σ*290^4)\n"
   ]
  },
  {
   "cell_type": "code",
   "execution_count": null,
   "metadata": {},
   "outputs": [],
   "source": [
    "plot(netLW'-S⁺'-S⁻',-sumLAI[1:nl], label=\"net Thermal\")\n",
    "#plot!(Eplu',-sumLAI, label=\"Upwelling Thermal\")\n",
    "xlabel!(\"W/m2\")\n",
    "ylabel!(\"-Cum LAI\")"
   ]
  },
  {
   "cell_type": "code",
   "execution_count": null,
   "metadata": {},
   "outputs": [],
   "source": [
    "# Hack Thermal optical properties per layer here:\n",
    "nl = 200\n",
    "nwl = 1\n",
    "iLAI    = 0.02;#canopy.LAI/nl;\n",
    "sigf = canOpt.ddf*leaf.ρ_LW + canOpt.ddb*leaf.τ_LW\n",
    "sigb = canOpt.ddb*leaf.ρ_LW + canOpt.ddf*leaf.τ_LW\n",
    "τ_dd = (1 - (1-sigf)*iLAI)*ones(nwl,nl)\n",
    "ρ_dd = (sigb*iLAI)*ones(nwl,nl)\n",
    "\n",
    "1.0-τ_dd[1,1]-ρ_dd[1,1]"
   ]
  },
  {
   "cell_type": "code",
   "execution_count": null,
   "metadata": {},
   "outputs": [],
   "source": [
    "S⁺ = zeros(nwl,nl).+150*iLAI*0.98\n",
    "S⁻ = zeros(nwl,nl).+150*iLAI*0.98\n",
    "#S⁺[1,80:109].=200*iLAI\n",
    "#S⁻[1,80:109].=200*iLAI\n",
    "size(S⁺)\n",
    "Emin2,Eplu2,netLW2 =  CanopyRTMod.RTM_diffuseS(τ_dd, ρ_dd,S⁻, S⁺, [0.0], [300.0], [0.06]);\n"
   ]
  },
  {
   "cell_type": "code",
   "execution_count": null,
   "metadata": {},
   "outputs": [],
   "source": [
    "sumLAI2 = [0:iLAI:nl*iLAI;];\n",
    "plot(Emin2',-sumLAI2, label=\"Downwelling Thermal\")\n",
    "plot!(Eplu2',-sumLAI2, label=\"Upwelling Thermal\")\n",
    "xlabel!(\"W/m2\")\n",
    "ylabel!(\"-Cum LAI\")"
   ]
  },
  {
   "cell_type": "code",
   "execution_count": null,
   "metadata": {},
   "outputs": [],
   "source": [
    "# Hack Thermal optical properties per layer here:\n",
    "nl = 40\n",
    "nwl = 1\n",
    "iLAI    = 4/nl;0.002;#canopy.LAI/nl;\n",
    "sigf = canOpt.ddf*leaf.ρ_LW + canOpt.ddb*leaf.τ_LW\n",
    "sigb = canOpt.ddb*leaf.ρ_LW + canOpt.ddf*leaf.τ_LW\n",
    "τ_dd = (1 - (1-sigf)*iLAI)*ones(nwl,nl)\n",
    "ρ_dd = (sigb*iLAI)*ones(nwl,nl)\n",
    "\n",
    "1.0-τ_dd[1,1]-ρ_dd[1,1]\n",
    "S⁺ = zeros(nwl,nl).+150*iLAI*0.98\n",
    "S⁻ = zeros(nwl,nl).+150*iLAI*0.98\n",
    "#S⁺[1,80:109].=200*iLAI\n",
    "#S⁻[1,80:109].=200*iLAI\n",
    "size(S⁺)\n",
    "Emin3,Eplu3,netLW3 =  CanopyRTMod.RTM_diffuseS(τ_dd, ρ_dd,S⁻, S⁺, [0.0], [300.0], [0.06]);\n",
    "sumLAI3 = [0:iLAI:nl*iLAI;];\n",
    "plot(Emin2',-sumLAI2, label=\"Downwelling Thermal\")\n",
    "plot!(Eplu2',-sumLAI2, label=\"Upwelling Thermal\")\n",
    "xlabel!(\"W/m2\")\n",
    "ylabel!(\"-Cum LAI\")"
   ]
  },
  {
   "cell_type": "code",
   "execution_count": null,
   "metadata": {},
   "outputs": [],
   "source": [
    "plot(Emin3',-sumLAI3, label=\"Downwelling Thermal\")\n",
    "plot!(Eplu3',-sumLAI3, label=\"Upwelling Thermal\")\n",
    "plot!(1 .+Emin2',-sumLAI2, label=\"Downwelling Thermal fine\")\n",
    "plot!(1 .+Eplu2',-sumLAI2, label=\"Upwelling Thermal fine\")\n",
    "xlabel!(\"W/m2\")\n",
    "ylabel!(\"-Cum LAI\")"
   ]
  },
  {
   "cell_type": "code",
   "execution_count": null,
   "metadata": {},
   "outputs": [],
   "source": []
  }
 ],
 "metadata": {
  "kernelspec": {
   "display_name": "Julia 1.4.0",
   "language": "julia",
   "name": "julia-1.4"
  },
  "language_info": {
   "file_extension": ".jl",
   "mimetype": "application/julia",
   "name": "julia",
   "version": "1.4.0"
  }
 },
 "nbformat": 4,
 "nbformat_minor": 2
}
