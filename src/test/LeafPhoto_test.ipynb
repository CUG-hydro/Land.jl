{
 "cells": [
  {
   "cell_type": "code",
   "execution_count": 1,
   "metadata": {},
   "outputs": [],
   "source": [
    "# Add PATH\n",
    "push!(LOAD_PATH, \"/home/cfranken/code/gitHub/CLIMA_LSM/src/Leaf/\");\n",
    "push!(LOAD_PATH, \"/home/cfranken/code/gitHub/CLIMA_LSM/src/Utils/\");"
   ]
  },
  {
   "cell_type": "code",
   "execution_count": 2,
   "metadata": {},
   "outputs": [
    {
     "name": "stderr",
     "output_type": "stream",
     "text": [
      "┌ Info: Recompiling stale cache file /home/cfranken/.julia/compiled/v1.1/MathToolsMod.ji for MathToolsMod [top-level]\n",
      "└ @ Base loading.jl:1184\n",
      "┌ Warning: Module MathToolsMod with build ID 9419434074488934 is missing from the cache.\n",
      "│ This may mean MathToolsMod [top-level] does not support precompilation but is imported by a module that does.\n",
      "└ @ Base loading.jl:947\n"
     ]
    }
   ],
   "source": [
    "using Leaf\n",
    "using MathToolsMod\n",
    "using LeafPhotosynthesisMod\n",
    "using BenchmarkTools\n",
    "using Plots"
   ]
  },
  {
   "cell_type": "code",
   "execution_count": 3,
   "metadata": {},
   "outputs": [],
   "source": [
    "# Create a leaf structure\n",
    "l = leaf_params{Float32}();\n",
    "# Create a Flux structure\n",
    "f = LeafPhotosynthesisMod.fluxes{Float32}();"
   ]
  },
  {
   "cell_type": "code",
   "execution_count": 4,
   "metadata": {},
   "outputs": [],
   "source": [
    "# initialize some reasonable values\n",
    "f.je = 100;\n",
    "f.gbc = 100;\n",
    "f.gbv = 100;\n",
    "f.ceair=1500;\n",
    "f.eair = 1500;\n",
    "f.APAR = 500;"
   ]
  },
  {
   "cell_type": "code",
   "execution_count": 7,
   "metadata": {},
   "outputs": [],
   "source": [
    "l.Kn = 2.44\n",
    "LeafPhotosynthesisMod.LeafPhotosynthesis(f,l,298.0);"
   ]
  },
  {
   "cell_type": "code",
   "execution_count": 8,
   "metadata": {},
   "outputs": [
    {
     "data": {
      "text/plain": [
       "leaf_params{Float32}\n",
       "  Kf: Float32 0.05f0\n",
       "  Kd: Float32 0.85f0\n",
       "  Kp: Float32 4.0f0\n",
       "  Kn: Float32 2.44f0\n",
       "  Kn_ss: Float32 1.6098189f0\n",
       "  maxPSII: Float32 0.81632656f0\n",
       "  effcon: Float32 0.2f0\n",
       "  CO2_per_electron: Float32 0.12620832f0\n",
       "  Ja: Float32 0.0f0\n",
       "  C3: Bool true\n",
       "  use_colim: Bool true\n",
       "  gstyp: Int64 1\n",
       "  o₂: Float32 209.0f0\n",
       "  T: Float32 298.0f0\n",
       "  esat: Float32 3140.9888f0\n",
       "  desat: Float32 187.46216f0\n",
       "  θ_j: Float32 0.9f0\n",
       "  g0: Float32 0.01f0\n",
       "  g1: Float32 9.0f0\n",
       "  vpd_min: Float64 100.0\n",
       "  gm: Float32 Inf32\n",
       "  gs: Float32 0.16858746f0\n",
       "  kc_25: Float32 404.9f0\n",
       "  ko_25: Float32 278.4f0\n",
       "  Γ_25_: Float32 42.75f0\n",
       "  sco: Float32 2444.4443f0\n",
       "  Γ_25: Float32 42.75f0\n",
       "  kcha: Float32 79430.0f0\n",
       "  koha: Float32 36380.0f0\n",
       "  cpha: Float32 37830.0f0\n",
       "  vcmaxha: Float32 65330.0f0\n",
       "  jmaxha: Float32 43540.0f0\n",
       "  rdha: Float32 46390.0f0\n",
       "  vcmaxhd: Float32 150000.0f0\n",
       "  jmaxhd: Float32 150000.0f0\n",
       "  rdhd: Float32 150000.0f0\n",
       "  vcmaxse: Float32 490.0f0\n",
       "  jmaxse: Float32 490.0f0\n",
       "  rdse: Float32 490.0f0\n",
       "  vcmaxc: Float32 1.2068284f0\n",
       "  jmaxc: Float32 1.2068284f0\n",
       "  rdc: Float32 1.2068284f0\n",
       "  kc: Float32 398.42224f0\n",
       "  ko: Float32 276.3511f0\n",
       "  Γstar: Float32 42.42289f0\n",
       "  vcmax25: Float32 80.0f0\n",
       "  jmax25: Float32 157.6f0\n",
       "  rd25: Float32 0.7605f0\n",
       "  vcmax: Float32 79.35378f0\n",
       "  jmax: Float32 157.02013f0\n",
       "  rdleaf: Float32 0.7572635f0\n",
       "  Ci: Float32 260.0946f0\n",
       "  je: Float32 0.0f0\n"
      ]
     },
     "execution_count": 8,
     "metadata": {},
     "output_type": "execute_result"
    }
   ],
   "source": [
    "l"
   ]
  },
  {
   "cell_type": "code",
   "execution_count": 6,
   "metadata": {},
   "outputs": [
    {
     "ename": "LoadError",
     "evalue": "UndefVarError: @benchmark not defined",
     "output_type": "error",
     "traceback": [
      "UndefVarError: @benchmark not defined",
      ""
     ]
    }
   ],
   "source": [
    "# Test speed \n",
    "@benchmark LeafPhotosynthesisMod.LeafPhotosynthesis(f,l,rand(Float32,1)[1]+300)"
   ]
  },
  {
   "cell_type": "code",
   "execution_count": 7,
   "metadata": {},
   "outputs": [
    {
     "ename": "LoadError",
     "evalue": "UndefVarError: @benchmark not defined",
     "output_type": "error",
     "traceback": [
      "UndefVarError: @benchmark not defined",
      ""
     ]
    }
   ],
   "source": [
    "@benchmark zbrent(f,l,LeafPhotosynthesisMod.CiFunc!,0.7*(rand(Float32,1)[1]+400),0.7*0.99*400,xtol=1.)"
   ]
  },
  {
   "cell_type": "code",
   "execution_count": 8,
   "metadata": {},
   "outputs": [
    {
     "ename": "LoadError",
     "evalue": "UndefVarError: @benchmark not defined",
     "output_type": "error",
     "traceback": [
      "UndefVarError: @benchmark not defined",
      ""
     ]
    }
   ],
   "source": [
    "@benchmark hybrid(f,l,LeafPhotosynthesisMod.CiFunc!,0.7*(rand(Float32,1)[1]+400),0.7*0.99*400,0.1)"
   ]
  },
  {
   "cell_type": "code",
   "execution_count": 9,
   "metadata": {},
   "outputs": [
    {
     "data": {
      "text/plain": [
       "0:100:1000"
      ]
     },
     "execution_count": 9,
     "metadata": {},
     "output_type": "execute_result"
    }
   ],
   "source": [
    "APAR = 0:100:1000"
   ]
  },
  {
   "cell_type": "code",
   "execution_count": 10,
   "metadata": {},
   "outputs": [
    {
     "ename": "UndefVarError",
     "evalue": "UndefVarError: l not defined",
     "output_type": "error",
     "traceback": [
      "UndefVarError: l not defined",
      "",
      "Stacktrace:",
      " [1] top-level scope at In[10]:1"
     ]
    }
   ],
   "source": [
    "l.vcmax25 = 90\n",
    "l.jmax25 = 90*1.9\n",
    "for f.APAR in APAR\n",
    "    LeafPhotosynthesisMod.LeafPhotosynthesis(f,l,298.0);\n",
    "    println(f.APAR, \" \", f.ag, \" \", f.an)\n",
    "end"
   ]
  },
  {
   "cell_type": "code",
   "execution_count": 11,
   "metadata": {},
   "outputs": [
    {
     "ename": "LoadError",
     "evalue": "UndefVarError: @benchmark not defined",
     "output_type": "error",
     "traceback": [
      "UndefVarError: @benchmark not defined",
      ""
     ]
    }
   ],
   "source": [
    "@benchmark setLeafT!(l, rand(Float32,1)[1]+300)"
   ]
  },
  {
   "cell_type": "code",
   "execution_count": null,
   "metadata": {},
   "outputs": [],
   "source": []
  }
 ],
 "metadata": {
  "kernelspec": {
   "display_name": "Julia 1.1.0",
   "language": "julia",
   "name": "julia-1.1"
  },
  "language_info": {
   "file_extension": ".jl",
   "mimetype": "application/julia",
   "name": "julia",
   "version": "1.1.0"
  }
 },
 "nbformat": 4,
 "nbformat_minor": 2
}
