{
 "cells": [
  {
   "cell_type": "code",
   "execution_count": 1,
   "metadata": {},
   "outputs": [
    {
     "name": "stderr",
     "output_type": "stream",
     "text": [
      "┌ Info: Precompiling LSM [top-level]\n",
      "└ @ Base loading.jl:1242\n"
     ]
    },
    {
     "data": {
      "text/plain": [
       "\"/Users/gentine/Dropbox/Collaborations_Projects/Optimal_Stomata/LSM-SPAM/test/../output\""
      ]
     },
     "execution_count": 1,
     "metadata": {},
     "output_type": "execute_result"
    }
   ],
   "source": [
    "\n",
    "# Add PATH\n",
    "push!(LOAD_PATH, joinpath(@__DIR__, \"..\", \"src\"))\n",
    "\n",
    "#using PyPlot\n",
    "using Plots\n",
    "using BenchmarkTools\n",
    "using DifferentialEquations\n",
    "\n",
    "using LSM.PhysCon\n",
    "using LSM.WaterVaporMod\n",
    "using LSM.LeafPhotosynthesisMod\n",
    "\n",
    "output_dir = joinpath(@__DIR__,\"..\",\"output\")\n",
    "mkpath(output_dir)"
   ]
  },
  {
   "cell_type": "code",
   "execution_count": 2,
   "metadata": {},
   "outputs": [],
   "source": [
    "\n",
    "# function lorenz!(du,u,p,t)\n",
    "#  du[1] = 10.0*(u[2]-u[1]);\n",
    "#  du[2] = u[1]*(28.0-u[3]) - u[2];\n",
    "#  du[3] = u[1]*u[2] - (8/3)*u[3];\n",
    "# end\n",
    "# u0 = [1.0;0.0;0.0];\n",
    "# tspan = (0.0,100.0);\n",
    "# prob = ODEProblem(lorenz!,u0,tspan);\n",
    "# sol = solve(prob);\n",
    "\n",
    "# plot(sol,vars=(1,2,3))\n",
    "\n",
    "# Create a leaf structure\n",
    "l = leaf_params{Float32}();\n",
    "# Create a Flux structure\n",
    "f = LeafPhotosynthesisMod.fluxes{Float32}();\n",
    "# Create a meteo structure\n",
    "met = meteo{Float32}();\n",
    "\n",
    "#met = meteo();\n",
    "\n",
    "# initialize some reasonable values\n",
    "f.Je   = 100; f.gbc  = 100; f.gbv  = 100; f.ceair= 1500; f.eair = 1500; f.APAR = 500; # leaf should not have eair\n",
    "l.Kn = 2.44; l.α=0.2; l.ε=0.98; l.LMA=40e-3; l.c_leaf=50/100*4184;l.ra=50;l.psi_l=-1e6;l.psi_l50 = -2e6;l.ck=3;\n"
   ]
  },
  {
   "cell_type": "code",
   "execution_count": null,
   "metadata": {},
   "outputs": [],
   "source": [
    "\n",
    "# A diurnal cycle for radiation and Tair\n",
    "Deltat  = 60;\n",
    "Samp    = 500; # W/m2 amplitude\n",
    "Tmean   = 273.15+22;\n",
    "DeltaT  = 3;\n",
    "omega   = 2*π/(24*3600);\n",
    "t       = range(0, stop=24*3600, step=Deltat); # diurnal cycle in seconds\n",
    "#print(t)\n",
    "phi_t   = omega*t-π*ones(size(t))/2;\n",
    "Sdown_t = zeros(size(t));\n",
    "Tair_t  = zeros(size(t));\n",
    "zeros_t = zeros(size(t));\n",
    "for i = 1:length(Sdown_t)\n",
    "    Sdown_t[i] = Samp*max( sin(phi_t[i]),zeros_t[i] );#max(sin(phase[i]),zeros(size(t[i])));\n",
    "    Tair_t[i]  = Tmean + DeltaT*sin(phi_t[i]-π/3);\n",
    "end\n",
    "#print(typeof(phase[1]));\n",
    "#print(typeof(Sdown_t[1]));\n",
    "#print(Sdown_t);\n",
    "#clf();\n",
    "#fig = figure(\"Diurnal cycle\", figsize=(10,5));\n",
    "# plot(t/3600,Sdown_t)\n",
    "#plot!(t/3600,10*(Tair_t-273.15*ones(size(Tair_t))))\n",
    "#    title = \"Shortwave Incoming radiation (W/m^2)\");#,\n",
    "#    xlabel = \"Hours\",\n",
    "#    ylabel = \"S_{down} (W/m^2)\")\n",
    "#plot(t/3600,Tair_t-273.15*ones(size(Tair_t)),\n",
    "#    title = \"Temperature (C)\",\n",
    "#    xlabel = \"Hours\",\n",
    "#    ylabel = \"Temperature (C)\")\n"
   ]
  },
  {
   "cell_type": "code",
   "execution_count": null,
   "metadata": {},
   "outputs": [],
   "source": [
    "plot(t/3600,Sdown_t,label=\"Sdown (W/m2)\")\n",
    "plot!(t/3600,10*(Tair_t-273.15*ones(size(Tair_t))),label=\"Tair (C)\")"
   ]
  },
  {
   "cell_type": "code",
   "execution_count": null,
   "metadata": {},
   "outputs": [],
   "source": [
    "psi_s      = -0.3e6 ; # soil water potential (Pa)\n",
    "U          =  1.0;\n",
    "RH         =  65/100;\n",
    "eps_air    =  0.75;\n",
    "tspan      =  (0.0,Deltat);\n",
    "N          =  length(Sdown_t);\n",
    "mutable struct parameters_ode\n",
    "    l::leaf_params;\n",
    "    met::meteo;\n",
    "    f::fluxes;\n",
    "    psi_s;\n",
    "end\n",
    "    "
   ]
  },
  {
   "cell_type": "code",
   "execution_count": null,
   "metadata": {},
   "outputs": [],
   "source": [
    "# small time stepping\n",
    "dt = 0.1*60; # in s\n",
    "T_t    = zeros(size(Sdown_t));\n",
    "psil_t = zeros(size(Sdown_t));\n",
    "Rn_t   = zeros(size(Sdown_t));\n",
    "H_t    = zeros(size(Sdown_t));\n",
    "LE_t   = zeros(size(Sdown_t));\n",
    "dummy  = zeros(5,1);\n",
    "met.zscreen  = 20.0 + 2.0;\n",
    "\n",
    "function f_ode!(du,u,p,t,dummy) # p are parameters\n",
    "    dummy .= LeafEnergyWaterBalance(u[1], u[2], p.met, p.l, p.f, p.psi_s);\n",
    "    du    .= dummy[1:2];\n",
    "    #println(\"du_inside = $(du), u_inside = $(u)\")\n",
    "end\n",
    "\n",
    "let\n",
    "    for i=1:N\n",
    "        met.S_down = Sdown_t[i];\n",
    "        met.L_down = eps_air*physcon.σ*(Tair_t[i])^4;\n",
    "        met.T_air  = Tair_t[i];\n",
    "        met.e_air  = RH*SatVap(Tair_t[i])[1];\n",
    "        met.PAR    = 45/100*physcon.Wtoμmole_s*Sdown_t[i];\n",
    "        f.APAR     = met.PAR;\n",
    "        met.U      = U;\n",
    "        met.Ca     = 400.0; #ppm\n",
    "        flux.APAR      = met.PAR;\n",
    "        for j=1:trunc(Deltat/dt)\n",
    "            u    = [l.T;l.psi_l];\n",
    "            p    = parameters_ode(l,met,f,psi_s);\n",
    "            #(p.met, p.l,  p.psi_s, p.U)    = [l;met;psi_s;U];\n",
    "            #prob = ODEProblem(f_ode!,u0,tspan,p);\n",
    "            du   = zeros(size(u));\n",
    "            f_ode!(du,u,p,t,dummy);\n",
    "            #println(\"du_outside = $(du), u_outside = $(u)\")\n",
    "            (l.T,l.psi_l) = du*dt+u;\n",
    "            T_t[i]  = l.T; psil_t[i]=l.psi_l;\n",
    "            Rn_t[i] = dummy[3]; H_t[i] = dummy[4]; LE_t[i] = dummy[5];\n",
    "        end\n",
    "    end\n",
    "\n",
    "#     l.T        = Tair_t[1]; # initialize temperature of the leaf\n",
    "#     l.psi_l    = psi_s;\n",
    "\n",
    "#     for i=1:N\n",
    "#         met.S_down = Sdown_t[i];\n",
    "#         met.L_down = eps_air*physcon.σ*(Tair_t[i])^4;\n",
    "#         met.T_air  = Tair_t[i];\n",
    "#         met.ea_air = RH*SatVap(Tair_t[i])[1];\n",
    "#         u0   = [l.T;l.psi_l];\n",
    "#         p    = parameters_ode(l,met,psi_s);\n",
    "#         #(p.met, p.l,  p.psi_s, p.U)    = [l;met;psi_s;U];\n",
    "#         prob = ODEProblem(f_ode!,u0,tspan,p);\n",
    "#         sol  = solve(prob);\n",
    "#         (l.T,l.psi_l) = sol[:,end];\n",
    "#         T_t[i] = l.T; psil_t[i]=l.psi_l;\n",
    "#         #print((l.T,l.psi_l) )\n",
    "#         #dT_dt,dH2Ol_dt = LeafEnergyWaterBalance(met, l, psi_s);\n",
    "#         #l.T        = l.T + Deltat*dT_dt;\n",
    "#     end\n",
    "\n",
    "   \n",
    "end\n"
   ]
  },
  {
   "cell_type": "code",
   "execution_count": null,
   "metadata": {},
   "outputs": [],
   "source": [
    "plot(t/3600, T_t-273.15*ones(size(T_t)),xlabel = \"t (hr)\",ylabel = \"T (C)\",label=\"T (C)\",ylim=0:100)\n",
    "plot!(t/3600,-psil_t/100000,xlabel = \"t (hr)\",ylabel = \"|psi_l (1000 hPa)|\",label=\"psi_l\",ylim=0:100)"
   ]
  },
  {
   "cell_type": "code",
   "execution_count": 10,
   "metadata": {},
   "outputs": [],
   "source": [
    "savefig(joinpath(output_dir, \"T_psi_t.png\"))"
   ]
  },
  {
   "cell_type": "code",
   "execution_count": 2,
   "metadata": {},
   "outputs": [
    {
     "ename": "UndefVarError",
     "evalue": "UndefVarError: t not defined",
     "output_type": "error",
     "traceback": [
      "UndefVarError: t not defined",
      "",
      "Stacktrace:",
      " [1] top-level scope at In[2]:1"
     ]
    }
   ],
   "source": [
    "plot(t/3600,  Rn_t,xlabel = \"t (hr)\",ylabel = \"Rn (W/m2)\",label=\"Rn\")\n",
    "plot!(t/3600, H_t,xlabel  = \"t (hr)\",ylabel = \"H (W/m2)\" ,label=\"H\")\n",
    "plot!(t/3600, LE_t,xlabel = \"t (hr)\",ylabel = \"LE (W/m2)\",label=\"LE\")"
   ]
  },
  {
   "cell_type": "code",
   "execution_count": null,
   "metadata": {},
   "outputs": [],
   "source": []
  }
 ],
 "metadata": {
  "kernelspec": {
   "display_name": "Julia 1.2.0",
   "language": "julia",
   "name": "julia-1.2"
  },
  "language_info": {
   "file_extension": ".jl",
   "mimetype": "application/julia",
   "name": "julia",
   "version": "1.2.0"
  }
 },
 "nbformat": 4,
 "nbformat_minor": 2
}
