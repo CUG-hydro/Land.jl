{
 "cells": [
  {
   "cell_type": "markdown",
   "source": [
    "# Temperature dependencies"
   ],
   "metadata": {}
  },
  {
   "outputs": [],
   "cell_type": "code",
   "source": [
    "# load packages\n",
    "using Land.Photosynthesis\n",
    "using PlotPlants\n",
    "FT = Float32;"
   ],
   "metadata": {},
   "execution_count": null
  },
  {
   "cell_type": "markdown",
   "source": [
    "## Arrhenius correction\n",
    "### Without deactivation term"
   ],
   "metadata": {}
  },
  {
   "outputs": [],
   "cell_type": "code",
   "source": [
    "# KcTDCLM is a ArrheniusTD type struct, use it as an example here\n",
    "_td = KcTDCLM(FT);\n",
    "_ts = collect(FT, 273:1:323);\n",
    "_ks = temperature_correction.([_td], _ts);\n",
    "\n",
    "_fig,_axes = create_canvas(\"Arrhenius correction without deactivation\");\n",
    "_ax1 = _axes[1];\n",
    "_ax1.plot(_ts .- 273.15, _ks, \"k-\");\n",
    "_ax1.set_xlabel(\"Leaf temperature (°C)\");\n",
    "_ax1.set_ylabel(\"Relative to 25 °C\");\n",
    "_fig"
   ],
   "metadata": {},
   "execution_count": null
  },
  {
   "cell_type": "markdown",
   "source": [
    "### With deactivation term"
   ],
   "metadata": {}
  },
  {
   "outputs": [],
   "cell_type": "code",
   "source": [
    "# VcmaxTDCLM is a ArrheniusPeakTD type struct, use it as an example here\n",
    "_td = VcmaxTDCLM(FT);\n",
    "_ts = collect(FT, 273:1:323);\n",
    "_ks = temperature_correction.([_td], _ts);\n",
    "\n",
    "_fig,_axes = create_canvas(\"Arrhenius correction with deactivation\");\n",
    "_ax1 = _axes[1];\n",
    "_ax1.plot(_ts .- 273.15, _ks, \"k-\");\n",
    "_ax1.set_xlabel(\"Leaf temperature (°C)\");\n",
    "_ax1.set_ylabel(\"Relative to 25 °C\");\n",
    "_fig"
   ],
   "metadata": {},
   "execution_count": null
  },
  {
   "cell_type": "markdown",
   "source": [
    "## Q10 correction"
   ],
   "metadata": {}
  },
  {
   "outputs": [],
   "cell_type": "code",
   "source": [
    "_td = Q10TD{FT}(1.0, 273.15, 1.7);\n",
    "_ts = collect(FT, 273:1:323);\n",
    "_ks = temperature_correction.([_td], _ts);\n",
    "\n",
    "_fig,_axes = create_canvas(\"Q10 correction\");\n",
    "_ax1 = _axes[1];\n",
    "_ax1.plot(_ts .- 273.15, _ks, \"k-\");\n",
    "_ax1.set_xlabel(\"Leaf temperature (°C)\");\n",
    "_ax1.set_ylabel(\"Relative to 25 °C\");\n",
    "_fig"
   ],
   "metadata": {},
   "execution_count": null
  },
  {
   "cell_type": "markdown",
   "source": [
    "---\n",
    "\n",
    "*This notebook was generated using [Literate.jl](https://github.com/fredrikekre/Literate.jl).*"
   ],
   "metadata": {}
  }
 ],
 "nbformat_minor": 3,
 "metadata": {
  "language_info": {
   "file_extension": ".jl",
   "mimetype": "application/julia",
   "name": "julia",
   "version": "1.6.0"
  },
  "kernelspec": {
   "name": "julia-1.6",
   "display_name": "Julia 1.6.0",
   "language": "julia"
  }
 },
 "nbformat": 4
}
