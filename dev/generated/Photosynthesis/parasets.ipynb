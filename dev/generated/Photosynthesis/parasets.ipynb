{
 "cells": [
  {
   "cell_type": "markdown",
   "source": [
    "# Predefined parameter sets"
   ],
   "metadata": {}
  },
  {
   "outputs": [],
   "cell_type": "code",
   "source": [
    "# load packages\n",
    "using Land.Photosynthesis\n",
    "using PlotPlants\n",
    "FT = Float32;"
   ],
   "metadata": {},
   "execution_count": null
  },
  {
   "cell_type": "markdown",
   "source": [
    "## Jmax"
   ],
   "metadata": {}
  },
  {
   "outputs": [],
   "cell_type": "code",
   "source": [
    "_td_1 = JmaxTDBernacchi(FT);\n",
    "_td_2 = JmaxTDCLM(FT);\n",
    "_td_3 = JmaxTDLeuning(FT);\n",
    "_ts   = collect(FT, 273:1:323);\n",
    "_jm_1 = photo_TD_from_val.([_td_1], FT(100), _ts);\n",
    "_jm_2 = photo_TD_from_val.([_td_2], FT(100), _ts);\n",
    "_jm_3 = photo_TD_from_val.([_td_3], FT(100), _ts);\n",
    "\n",
    "_fig,_axes = create_canvas(\"Jmax\");\n",
    "_ax1 = _axes[1];\n",
    "_ax1.plot(_ts .- 273.15, _jm_1, \"k-\", label=\"Bernacchi\");\n",
    "_ax1.plot(_ts .- 273.15, _jm_2, \"k:\", label=\"CLM\");\n",
    "_ax1.plot(_ts .- 273.15, _jm_3, \"k--\", label=\"Leuning\");\n",
    "_ax1.set_xlabel(\"Leaf temperature (°C)\");\n",
    "_ax1.set_ylabel(\"Jcmax (μmol m⁻² s⁻¹)\");\n",
    "_ax1.legend(loc=\"upper left\");\n",
    "_fig"
   ],
   "metadata": {},
   "execution_count": null
  },
  {
   "cell_type": "markdown",
   "source": [
    "## Kc"
   ],
   "metadata": {}
  },
  {
   "outputs": [],
   "cell_type": "code",
   "source": [
    "_td_1 = KcTDBernacchi(FT);\n",
    "_td_2 = KcTDCLM(FT);\n",
    "_ts   = collect(FT, 273:1:323);\n",
    "_kc_1 = photo_TD_from_set.([_td_1], _ts);\n",
    "_kc_2 = photo_TD_from_set.([_td_2], _ts);\n",
    "\n",
    "_fig,_axes = create_canvas(\"Kc\");\n",
    "_ax1 = _axes[1];\n",
    "_ax1.plot(_ts .- 273.15, _kc_1, \"k-\", label=\"Bernacchi\");\n",
    "_ax1.plot(_ts .- 273.15, _kc_2, \"k:\", label=\"CLM\");\n",
    "_ax1.set_xlabel(\"Leaf temperature (°C)\");\n",
    "_ax1.set_ylabel(\"Kc (Pa)\");\n",
    "_ax1.legend(loc=\"upper left\");\n",
    "_fig"
   ],
   "metadata": {},
   "execution_count": null
  },
  {
   "cell_type": "markdown",
   "source": [
    "## Ko"
   ],
   "metadata": {}
  },
  {
   "outputs": [],
   "cell_type": "code",
   "source": [
    "_td_1 = KoTDBernacchi(FT);\n",
    "_td_2 = KoTDCLM(FT);\n",
    "_ts   = collect(FT, 273:1:323);\n",
    "_ko_1 = photo_TD_from_set.([_td_1], _ts);\n",
    "_ko_2 = photo_TD_from_set.([_td_2], _ts);\n",
    "\n",
    "_fig,_axes = create_canvas(\"Ko\");\n",
    "_ax1 = _axes[1];\n",
    "_ax1.plot(_ts .- 273.15, _ko_1, \"k-\", label=\"Bernacchi\");\n",
    "_ax1.plot(_ts .- 273.15, _ko_2, \"k:\", label=\"CLM\");\n",
    "_ax1.set_xlabel(\"Leaf temperature (°C)\");\n",
    "_ax1.set_ylabel(\"Ko (Pa)\");\n",
    "_ax1.legend(loc=\"upper left\");\n",
    "_fig"
   ],
   "metadata": {},
   "execution_count": null
  },
  {
   "cell_type": "markdown",
   "source": [
    "## Kpep"
   ],
   "metadata": {}
  },
  {
   "outputs": [],
   "cell_type": "code",
   "source": [
    "_td_1 = KpepTDBoyd(FT);\n",
    "_td_2 = KpepTDCLM(FT);\n",
    "_ts   = collect(FT, 273:1:323);\n",
    "_kp_1 = photo_TD_from_set.([_td_1], _ts);\n",
    "_kp_2 = photo_TD_from_set.([_td_2], _ts);\n",
    "\n",
    "_fig,_axes = create_canvas(\"Kpep\");\n",
    "_ax1 = _axes[1];\n",
    "_ax1.plot(_ts .- 273.15, _kp_1, \"k-\", label=\"Boyd\");\n",
    "_ax1.plot(_ts .- 273.15, _kp_2, \"k:\", label=\"CLM\");\n",
    "_ax1.set_xlabel(\"Leaf temperature (°C)\");\n",
    "_ax1.set_ylabel(\"Kpep (Pa)\");\n",
    "_ax1.legend(loc=\"upper left\");\n",
    "_fig"
   ],
   "metadata": {},
   "execution_count": null
  },
  {
   "cell_type": "markdown",
   "source": [
    "## Respiration"
   ],
   "metadata": {}
  },
  {
   "outputs": [],
   "cell_type": "code",
   "source": [
    "_td_1 = RespirationTDBernacchi(FT);\n",
    "_td_2 = RespirationTDCLM(FT);\n",
    "_td_3 = Q10TDAngiosperm(FT);\n",
    "_td_4 = Q10TDGymnosperm(FT);\n",
    "_ts   = collect(FT, 273:1:323);\n",
    "_rd_1 = photo_TD_from_val.([_td_1], FT(1), _ts);\n",
    "_rd_2 = photo_TD_from_val.([_td_2], FT(1), _ts);\n",
    "_rd_3 = photo_TD_from_val.([_td_3], FT(1), _ts);\n",
    "_rd_4 = photo_TD_from_val.([_td_4], FT(1), _ts);\n",
    "\n",
    "_fig,_axes = create_canvas(\"Respiration\");\n",
    "_ax1 = _axes[1];\n",
    "_ax1.plot(_ts .- 273.15, _rd_1, \"k-\", label=\"Bernacchi\");\n",
    "_ax1.plot(_ts .- 273.15, _rd_2, \"k:\", label=\"CLM\");\n",
    "_ax1.plot(_ts .- 273.15, _rd_3, \"r-\", label=\"Q10 Angiosperm\");\n",
    "_ax1.plot(_ts .- 273.15, _rd_4, \"r:\", label=\"Q10 Gymnosperm\");\n",
    "_ax1.set_xlabel(\"Leaf temperature (°C)\");\n",
    "_ax1.set_ylabel(\"Respiration (μmol m⁻² s⁻¹)\");\n",
    "_ax1.legend(loc=\"upper left\");\n",
    "_fig"
   ],
   "metadata": {},
   "execution_count": null
  },
  {
   "cell_type": "markdown",
   "source": [
    "## Vcmax"
   ],
   "metadata": {}
  },
  {
   "outputs": [],
   "cell_type": "code",
   "source": [
    "_td_1 = VcmaxTDBernacchi(FT);\n",
    "_td_2 = VcmaxTDCLM(FT);\n",
    "_td_3 = VcmaxTDLeuning(FT);\n",
    "_ts   = collect(FT, 273:1:323);\n",
    "_vc_1 = photo_TD_from_val.([_td_1], FT(100), _ts);\n",
    "_vc_2 = photo_TD_from_val.([_td_2], FT(100), _ts);\n",
    "_vc_3 = photo_TD_from_val.([_td_3], FT(100), _ts);\n",
    "\n",
    "_fig,_axes = create_canvas(\"Vcmax\");\n",
    "_ax1 = _axes[1];\n",
    "_ax1.plot(_ts .- 273.15, _vc_1, \"k-\", label=\"Bernacchi\");\n",
    "_ax1.plot(_ts .- 273.15, _vc_2, \"k:\", label=\"CLM\");\n",
    "_ax1.plot(_ts .- 273.15, _vc_3, \"k--\", label=\"Leuning\");\n",
    "_ax1.set_xlabel(\"Leaf temperature (°C)\");\n",
    "_ax1.set_ylabel(\"Vcmax (μmol m⁻² s⁻¹)\");\n",
    "_ax1.legend(loc=\"upper left\");\n",
    "_fig"
   ],
   "metadata": {},
   "execution_count": null
  },
  {
   "cell_type": "markdown",
   "source": [
    "## Vomax"
   ],
   "metadata": {}
  },
  {
   "outputs": [],
   "cell_type": "code",
   "source": [
    "_td_1 = VomaxTDBernacchi(FT);\n",
    "_ts   = collect(FT, 273:1:323);\n",
    "_vo_1 = photo_TD_from_val.([_td_1], FT(100), _ts);\n",
    "\n",
    "_fig,_axes = create_canvas(\"Vomax\");\n",
    "_ax1 = _axes[1];\n",
    "_ax1.plot(_ts .- 273.15, _vo_1, \"k-\", label=\"Bernacchi\");\n",
    "_ax1.set_xlabel(\"Leaf temperature (°C)\");\n",
    "_ax1.set_ylabel(\"Vomax (μmol m⁻² s⁻¹)\");\n",
    "_ax1.legend(loc=\"upper left\");\n",
    "_fig"
   ],
   "metadata": {},
   "execution_count": null
  },
  {
   "cell_type": "markdown",
   "source": [
    "## Vpmax"
   ],
   "metadata": {}
  },
  {
   "outputs": [],
   "cell_type": "code",
   "source": [
    "_td_1 = VpmaxTDBoyd(FT);\n",
    "_ts   = collect(FT, 273:1:323);\n",
    "_vp_1 = photo_TD_from_val.([_td_1], FT(100), _ts);\n",
    "\n",
    "_fig,_axes = create_canvas(\"Vpmax\");\n",
    "_ax1 = _axes[1];\n",
    "_ax1.plot(_ts .- 273.15, _vp_1, \"k-\", label=\"Boyd\");\n",
    "_ax1.set_xlabel(\"Leaf temperature (°C)\");\n",
    "_ax1.set_ylabel(\"Vpmax (μmol m⁻² s⁻¹)\");\n",
    "_ax1.legend(loc=\"upper left\");\n",
    "_fig"
   ],
   "metadata": {},
   "execution_count": null
  },
  {
   "cell_type": "markdown",
   "source": [
    "## Γ*"
   ],
   "metadata": {}
  },
  {
   "outputs": [],
   "cell_type": "code",
   "source": [
    "_td_1 = ΓStarTDBernacchi(FT);\n",
    "_td_2 = ΓStarTDCLM(FT);\n",
    "_ts   = collect(FT, 273:1:323);\n",
    "_Γs_1 = photo_TD_from_set.([_td_1], _ts);\n",
    "_Γs_2 = photo_TD_from_set.([_td_2], _ts);\n",
    "\n",
    "_fig,_axes = create_canvas(\"Γ*\");\n",
    "_ax1 = _axes[1];\n",
    "_ax1.plot(_ts .- 273.15, _Γs_1, \"k-\", label=\"Bernacchi\");\n",
    "_ax1.plot(_ts .- 273.15, _Γs_2, \"k:\", label=\"CLM\");\n",
    "_ax1.set_xlabel(\"Leaf temperature (°C)\");\n",
    "_ax1.set_ylabel(\"Γ* (Pa)\");\n",
    "_ax1.legend(loc=\"upper left\");\n",
    "_fig"
   ],
   "metadata": {},
   "execution_count": null
  },
  {
   "cell_type": "markdown",
   "source": [
    "---\n",
    "\n",
    "*This notebook was generated using [Literate.jl](https://github.com/fredrikekre/Literate.jl).*"
   ],
   "metadata": {}
  }
 ],
 "nbformat_minor": 3,
 "metadata": {
  "language_info": {
   "file_extension": ".jl",
   "mimetype": "application/julia",
   "name": "julia",
   "version": "1.6.0"
  },
  "kernelspec": {
   "name": "julia-1.6",
   "display_name": "Julia 1.6.0",
   "language": "julia"
  }
 },
 "nbformat": 4
}
