{
 "cells": [
  {
   "cell_type": "markdown",
   "source": [
    "# SCOPE Model"
   ],
   "metadata": {}
  },
  {
   "outputs": [],
   "cell_type": "code",
   "source": [
    "# load packages\n",
    "using CanopyLayers\n",
    "using PlotPlants\n",
    "FT = Float32;"
   ],
   "metadata": {},
   "execution_count": null
  },
  {
   "cell_type": "markdown",
   "source": [
    "## Initialization\n",
    "Besides the individual functions to initialize parameters for `CanopyLayers`,\n",
    "    a general function is provided to initialize all the parameters directly."
   ],
   "metadata": {}
  },
  {
   "outputs": [],
   "cell_type": "code",
   "source": [
    "angles, can, can_opt, can_rad, in_rad, leaves, rt_con, rt_dim, soil, wls =\n",
    "    initialize_rt_module(FT; nLayer=20, LAI=3);"
   ],
   "metadata": {},
   "execution_count": null
  },
  {
   "cell_type": "markdown",
   "source": [
    "## Steps"
   ],
   "metadata": {}
  },
  {
   "outputs": [],
   "cell_type": "code",
   "source": [
    "# 1. Update canopy optical properties (required)\n",
    "canopy_geometry!(can, angles, can_opt, rt_con);\n",
    "# 2. Update scattering coefficients (required)\n",
    "canopy_matrices!(leaves, can_opt);\n",
    "# 3. Simulate short wave simulation (required)\n",
    "short_wave!(can, can_opt, can_rad, in_rad, soil, rt_con);\n",
    "# 4. Update integrated radiation fluxes (required for photosynthesis)\n",
    "canopy_fluxes!(can, can_opt, can_rad, in_rad, soil, leaves, wls, rt_con);\n",
    "# 5. Update SIF related spectrum (required for SIF)\n",
    "SIF_fluxes!(leaves, can_opt, can_rad, can, soil, wls, rt_con, rt_dim);\n",
    "# 6. Update thermo fluxes (required for leaf energy budget)\n",
    "thermal_fluxes!(leaves, can_opt, can_rad, can, soil, [FT(400.0)], wls);\n",
    "\n",
    "_fig,_axes = create_canvas(\"SIF example\"; ncol=2);\n",
    "_ax1,_ax2 = _axes;\n",
    "_ax1.plot(wls.WL , can_rad.alb_obs, \"k-\");\n",
    "_ax2.plot(wls.WLF, can_rad.SIF_obs, \"k-\");\n",
    "set_xlabels!(_axes, [\"Wave length (nm)\" for i in 1:2], fontsize=12);\n",
    "set_ylabels!(_axes, [\"Albedo\", \"obs SIF (mW m⁻² nm⁻¹ sr⁻¹)\"], fontsize=12);\n",
    "_fig.set_tight_layout(true);\n",
    "_fig"
   ],
   "metadata": {},
   "execution_count": null
  },
  {
   "cell_type": "markdown",
   "source": [
    "## Change FQE"
   ],
   "metadata": {}
  },
  {
   "outputs": [],
   "cell_type": "code",
   "source": [
    "for leaf in leaves\n",
    "    leaf.Cx = 0.5;\n",
    "    leaf.fqe = 0.004;\n",
    "    fluspect!(leaf, wls);\n",
    "end\n",
    "can.Ω = 0.48\n",
    "canopy_geometry!(can, angles, can_opt, rt_con);\n",
    "canopy_matrices!(leaves, can_opt);\n",
    "short_wave!(can, can_opt, can_rad, in_rad, soil, rt_con);\n",
    "canopy_fluxes!(can, can_opt, can_rad, in_rad, soil, leaves, wls, rt_con);\n",
    "SIF_fluxes!(leaves, can_opt, can_rad, can, soil, wls, rt_con, rt_dim);\n",
    "thermal_fluxes!(leaves, can_opt, can_rad, can, soil, [FT(400.0)], wls);\n",
    "\n",
    "_fig,_axes = create_canvas(\"SIF example FQE\"; ncol=2);\n",
    "_ax1,_ax2 = _axes;\n",
    "_ax1.plot(wls.WL , can_rad.alb_obs, \"k-\");\n",
    "_ax2.plot(wls.WLF, can_rad.SIF_obs, \"k-\");\n",
    "set_xlabels!(_axes, [\"Wave length (nm)\" for i in 1:2], fontsize=12);\n",
    "set_ylabels!(_axes, [\"Albedo\", \"obs SIF (mW m⁻² nm⁻¹ sr⁻¹)\"], fontsize=12);\n",
    "_fig.set_tight_layout(true);\n",
    "_fig"
   ],
   "metadata": {},
   "execution_count": null
  },
  {
   "cell_type": "markdown",
   "source": [
    "---\n",
    "\n",
    "*This notebook was generated using [Literate.jl](https://github.com/fredrikekre/Literate.jl).*"
   ],
   "metadata": {}
  }
 ],
 "nbformat_minor": 3,
 "metadata": {
  "language_info": {
   "file_extension": ".jl",
   "mimetype": "application/julia",
   "name": "julia",
   "version": "1.5.3"
  },
  "kernelspec": {
   "name": "julia-1.5",
   "display_name": "Julia 1.5.3",
   "language": "julia"
  }
 },
 "nbformat": 4
}
