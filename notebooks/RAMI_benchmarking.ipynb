{
 "cells": [
  {
   "cell_type": "markdown",
   "metadata": {},
   "source": [
    "### RAMI Benchmarking\n",
    "\n",
    "See https://rami-benchmark.jrc.ec.europa.eu/HTML/RAMI4PILPS/RAMI4PILPS.php"
   ]
  },
  {
   "cell_type": "code",
   "execution_count": null,
   "metadata": {},
   "outputs": [],
   "source": [
    "# Add PATH (adapt!)\n",
    "\n",
    "push!(LOAD_PATH, \"/Users/braghier/Documents/CliMA/CliMA-land/Land/src/Radiation/\");\n",
    "push!(LOAD_PATH, \"/Users/braghier/Documents/CliMA/CliMA-land/Land/src/Utils/\");\n",
    "#push!(LOAD_PATH, \"/Volumes/cfranken/code/gitHub/LSM-SPAM/src/tools/\");\n",
    "\n",
    "# Use Plots:\n",
    "using Plots\n",
    "#using PhotoStructs\n",
    "plotly()"
   ]
  },
  {
   "cell_type": "code",
   "execution_count": null,
   "metadata": {},
   "outputs": [],
   "source": [
    "using CanopyRT\n",
    "using BenchmarkTools\n",
    "using Statistics\n",
    "using Parameters\n",
    "using Revise\n",
    "using Leaf"
   ]
  },
  {
   "cell_type": "code",
   "execution_count": null,
   "metadata": {},
   "outputs": [],
   "source": [
    "@unpack wl,wle,wlf, soil = CanopyRTMod;"
   ]
  },
  {
   "cell_type": "code",
   "execution_count": null,
   "metadata": {},
   "outputs": [],
   "source": [
    "arrayOfLeaves = Array{leafbio{FT,length(wl), length(wle), length(wlf),length(wle)*length(wlf)}, 1}(undef, CanopyRTMod.canopy.nlayers)\n",
    "for i = 1:CanopyRTMod.canopy.nlayers\n",
    "    #@show i\n",
    "    arrayOfLeaves[i] = leafbio{FT, length(wl), length(wle), length(wlf),length(wle)*length(wlf)}()\n",
    "    CanopyRTMod.fluspect!(arrayOfLeaves[i], CanopyRTMod.optis)\n",
    "end\n"
   ]
  },
  {
   "cell_type": "code",
   "execution_count": null,
   "metadata": {},
   "outputs": [],
   "source": [
    "RAMI_SZA = [27.,60.,83.]\n",
    "\n",
    "RAMI_fabsRed_050_BLK =  [0.09380509999999999, 0.16259713, 0.53931207]\n",
    "RAMI_frefRed_050_BLK =  [0.00330673, 0.00517598, 0.01626682]\n",
    "RAMI_ftranRed_050_BLK =  [0.90288817, 0.83222689, 0.44442110999999995]\n",
    "RAMI_fabsRed_150_BLK =  [0.28137804, 0.46514268999999997, 0.89063486]\n",
    "RAMI_frefRed_150_BLK =  [0.00923676, 0.01379672, 0.02970703]\n",
    "RAMI_ftranRed_150_BLK =  [0.7093851999999999, 0.52106059, 0.07965811]\n",
    "RAMI_fabsRed_250_BLK =  [0.46852539, 0.70426097, 0.9461774300000001]\n",
    "RAMI_frefRed_250_BLK =  [0.01445858, 0.02016963, 0.03477486]\n",
    "RAMI_ftranRed_250_BLK =  [0.51701603, 0.2755694, 0.01904771]\n",
    "RAMI_fabsRed_050_MED =  [0.10897124, 0.17760124000000002, 0.54764719]\n",
    "RAMI_frefRed_050_MED =  [0.09759354, 0.09107608, 0.06177913]\n",
    "RAMI_ftranRed_050_MED =  [0.90337609, 0.83265704, 0.44469279]\n",
    "RAMI_fabsRed_150_MED =  [0.31403827, 0.49003033, 0.89432051]\n",
    "RAMI_frefRed_150_MED =  [0.06195053, 0.05151941, 0.03561715]\n",
    "RAMI_ftranRed_150_MED =  [0.7104761399999999, 0.52197456, 0.07977039000000001]\n",
    "RAMI_fabsRed_250_MED =  [0.50540545, 0.72429659, 0.94742381]\n",
    "RAMI_frefRed_250_MED =  [0.03953053, 0.03315039, 0.03580858]\n",
    "RAMI_ftranRed_250_MED =  [0.51811911, 0.27616192, 0.01909098]\n",
    "RAMI_fabsRed_050_SNW =  [0.21471034, 0.28200132, 0.60564705]\n",
    "RAMI_frefRed_050_SNW =  [0.7526521700000001, 0.6879087300000001, 0.37825442000000004]\n",
    "RAMI_ftranRed_050_SNW =  [0.90659694, 0.83583194, 0.44718138]\n",
    "RAMI_fabsRed_150_SNW =  [0.5431621799999999, 0.66519762, 0.9201217300000001]\n",
    "RAMI_frefRed_150_SNW =  [0.43100610000000006, 0.31581022999999997, 0.07698033]\n",
    "RAMI_ftranRed_150_SNW =  [0.71754777, 0.52755972, 0.08049832999999999]\n",
    "RAMI_fabsRed_250_SNW =  [0.76512258, 0.86538802, 0.9562473199999999]\n",
    "RAMI_frefRed_250_SNW =  [0.21595537, 0.124503, 0.043056080000000004]\n",
    "RAMI_ftranRed_250_SNW =  [0.5256125, 0.280805, 0.01935]\n",
    "\n",
    "RAMI_fabsNIR_050_BLK =  [0.04188343, 0.07274452000000001, 0.24100884]\n",
    "RAMI_frefNIR_050_BLK =  [0.033454239999999996, 0.05472391, 0.17891176]\n",
    "RAMI_ftranNIR_050_BLK =  [0.92466233, 0.87253157, 0.5800794]\n",
    "RAMI_fabsNIR_150_BLK =  [0.1334535, 0.22169851000000002, 0.42073783]\n",
    "RAMI_frefNIR_150_BLK =  [0.09744051000000001, 0.15314946000000002, 0.33329437]\n",
    "RAMI_ftranNIR_150_BLK =  [0.76910599, 0.62515203, 0.2459678]\n",
    "RAMI_fabsNIR_250_BLK =  [0.23394282, 0.35396922000000003, 0.46386535]\n",
    "RAMI_frefNIR_250_BLK =  [0.15761001, 0.2319992, 0.39099052]\n",
    "RAMI_ftranNIR_250_BLK =  [0.60844717, 0.41403157999999995, 0.14514412999999998]\n",
    "RAMI_fabsNIR_050_MED =  [0.054370659999999994, 0.08547336, 0.25007769]\n",
    "RAMI_frefNIR_050_MED =  [0.21168520000000002, 0.22133924, 0.28852533]\n",
    "RAMI_ftranNIR_050_MED =  [0.9340088299999999, 0.8821422699999999, 0.58716846]\n",
    "RAMI_fabsNIR_150_MED =  [0.16424751, 0.24776159, 0.43111234000000004]\n",
    "RAMI_frefNIR_150_MED =  [0.21422398999999998, 0.24624797999999998, 0.36978966999999996]\n",
    "RAMI_ftranNIR_150_MED =  [0.79094998, 0.6439175699999999, 0.2533698]\n",
    "RAMI_fabsNIR_250_MED =  [0.27409287, 0.38176366, 0.473585]\n",
    "RAMI_frefNIR_250_MED =  [0.22649945, 0.27795485, 0.40721736999999997]\n",
    "RAMI_ftranNIR_250_MED =  [0.63554044, 0.43303829, 0.15168952000000002]\n",
    "RAMI_fabsNIR_050_SNW =  [0.07514770999999999, 0.10651483, 0.26529625]\n",
    "RAMI_frefNIR_050_SNW =  [0.50400231, 0.49535178, 0.46933011999999996]\n",
    "RAMI_ftranNIR_050_SNW =  [0.9495712500000001, 0.89831541, 0.59876721]\n",
    "RAMI_fabsNIR_150_SNW =  [0.21784508, 0.29322135, 0.44918252000000003]\n",
    "RAMI_frefNIR_150_SNW =  [0.41475434, 0.40704062, 0.43282195]\n",
    "RAMI_ftranNIR_150_SNW =  [0.82897242, 0.67630421, 0.2662354]\n",
    "RAMI_fabsNIR_250_SNW =  [0.34668661, 0.4322433, 0.49112654999999994]\n",
    "RAMI_frefNIR_250_SNW =  [0.34992203000000005, 0.36066338000000003, 0.43639102]\n",
    "RAMI_ftranNIR_250_SNW =  [0.68454729, 0.46726832, 0.16354338]"
   ]
  },
  {
   "cell_type": "code",
   "execution_count": null,
   "metadata": {},
   "outputs": [],
   "source": [
    "#Soil albedo\n",
    "#BLK\n",
    "#CanopyRTMod.soil.albedo_SW[:] .=0.0;\n",
    "#MED\n",
    "#CanopyRTMod.soil.albedo_SW[:] .=0.1217;\n",
    "#SNW\n",
    "CanopyRTMod.soil.albedo_SW[:] .=0.9640;\n",
    "\n",
    "\n",
    "reflRed_SZA = []\n",
    "reflNIR_SZA = []\n",
    "absRed_SZA = []\n",
    "absNIR_SZA = []\n",
    "transRed_SZA = []\n",
    "transNIR_SZA = []\n",
    "\n",
    "#Clumping index\n",
    "#Sparse\n",
    "CanopyRTMod.canopy.Ω = 0.365864235\n",
    "#Medium\n",
    "#CanopyRTMod.canopy.Ω = 0.405417644\n",
    "#Dense\n",
    "#CanopyRTMod.canopy.Ω = 0.45946608\n",
    "\n",
    "#CanopyRTMod.canopy.Ω = 1.0\n",
    "\n",
    "#Viewing Zenith Angle in degrees\n",
    "CanopyRTMod.angles.tto=0.0\n",
    "#Leaf Area index\n",
    "#Sparse\n",
    "CanopyRTMod.canopy.LAI=0.50265\n",
    "#Medium\n",
    "#CanopyRTMod.canopy.LAI=1.5017\n",
    "#Dense\n",
    "#CanopyRTMod.canopy.LAI=2.5007\n",
    "\n",
    "for SZA=0.0:1:85\n",
    "    CanopyRTMod.angles.tts=SZA  \n",
    "\n",
    "   CanopyRTMod.fluspect!(leaf, CanopyRTMod.optis)\n",
    "   CanopyRTMod.computeCanopyGeomProps!(canopy, angles,canOpt)\n",
    "   CanopyRTMod.computeCanopyMatrices!(arrayOfLeaves,canOpt);\n",
    "\n",
    "   # leaf reflectance RED\n",
    "   leaf.ρ_SW[28] = 0.0735\n",
    "   # leaf transmittance\n",
    "   leaf.τ_SW[28]= 0.0566 \n",
    "    \n",
    "   # leaf reflectance NIR\n",
    "   leaf.ρ_SW[52] = 0.3912\n",
    "   # leaf transmittance\n",
    "   leaf.τ_SW[52]= 0.4146 \n",
    "    \n",
    "    CanopyRTMod.RTM_SW!(canopy, canOpt, canRad,sunRad, CanopyRTMod.soil);\n",
    "    push!(reflRed_SZA, canRad.alb_direct[28])\n",
    "    push!(reflNIR_SZA, canRad.alb_direct[52])\n",
    "    push!(absRed_SZA, (sum(canRad.netSW_shade,dims=2)[28,1].+sum(canRad.netSW_sunlit,dims=2)[28,1])./(sunRad.E_diffuse[28].+sunRad.E_direct[28]))\n",
    "    push!(absNIR_SZA, (sum(canRad.netSW_shade,dims=2)[28,1].+sum(canRad.netSW_sunlit,dims=2)[28,1])./(sunRad.E_diffuse[28].+sunRad.E_direct[28]))\n",
    "    push!(transRed_SZA,  ((1. .- (sum(canRad.netSW_shade,dims=2)[28,1].+sum(canRad.netSW_sunlit,dims=2)[28,1])./(sunRad.E_diffuse[28].+sunRad.E_direct[28]) .- canRad.alb_direct[28])./(1. .- CanopyRTMod.soil.albedo_SW[1])))\n",
    "    push!(transNIR_SZA,  ((1. .- (sum(canRad.netSW_shade,dims=2)[52,1].+sum(canRad.netSW_sunlit,dims=2)[52,1])./(sunRad.E_diffuse[52].+sunRad.E_direct[52]) .- canRad.alb_direct[52])./(1. .- CanopyRTMod.soil.albedo_SW[1])))\n",
    "end\n"
   ]
  },
  {
   "cell_type": "code",
   "execution_count": null,
   "metadata": {},
   "outputs": [],
   "source": [
    "SZA=0:1:85\n",
    "\n",
    "plot(SZA, reflRed_SZA,label=\"reflectance\")\n",
    "plot!(SZA, absRed_SZA,label=\"absorptance\")\n",
    "plot!(SZA, transRed_SZA,label=\"transmittance\")\n",
    "\n",
    "scatter!(RAMI_SZA, RAMI_frefRed_050_SNW,label=\"RAMI reflectance\")\n",
    "scatter!(RAMI_SZA, RAMI_fabsRed_050_SNW,label=\"RAMI absorptance\")\n",
    "scatter!(RAMI_SZA, RAMI_ftranRed_050_SNW,label=\"RAMI transmittance\")\n",
    "ylabel!(\"Radiation Partitioning\")\n",
    "xlabel!(\"Sun Zenith Angle\")\n",
    "plot!(xlims = (0.0, 90.), ylims = (-0.05, 1.0), xticks = 0:20:91., yticks = 0:0.2:1.0)"
   ]
  },
  {
   "cell_type": "code",
   "execution_count": null,
   "metadata": {},
   "outputs": [],
   "source": [
    "#RMSE_abs = ((((absRed_SZA[28] .- RAMI_fabsRed_050_BLK[1])^2 + (absRed_SZA[61] .- RAMI_fabsRed_050_BLK[2])^2 + (absRed_SZA[84] .- RAMI_fabsRed_050_BLK[3])^2))./3.)^(0.5) \n",
    "#RMSE_ref = ((((reflRed_SZA[28] .- RAMI_frefRed_050_BLK[1])^2 + (reflRed_SZA[61] .- RAMI_frefRed_050_BLK[2])^2 + (reflRed_SZA[84] .- RAMI_frefRed_050_BLK[3])^2))./3.)^(0.5) \n",
    "#RMSE_tran = ((((transRed_SZA[28] .- RAMI_ftranRed_050_BLK[1])^2 + (transRed_SZA[61] .- RAMI_ftranRed_050_BLK[2])^2 + (transRed_SZA[84] .- RAMI_ftranRed_050_BLK[3])^2))./3.)^(0.5) \n",
    "\n",
    "#RMSE_abs = ((((absRed_SZA[28] .- RAMI_fabsRed_050_MED[1])^2 + (absRed_SZA[61] .- RAMI_fabsRed_050_MED[2])^2 + (absRed_SZA[84] .- RAMI_fabsRed_050_MED[3])^2))./3.)^(0.5) \n",
    "#RMSE_ref = ((((reflRed_SZA[28] .- RAMI_frefRed_050_MED[1])^2 + (reflRed_SZA[61] .- RAMI_frefRed_050_MED[2])^2 + (reflRed_SZA[84] .- RAMI_frefRed_050_MED[3])^2))./3.)^(0.5) \n",
    "#RMSE_tran = ((((transRed_SZA[28] .- RAMI_ftranRed_050_MED[1])^2 + (transRed_SZA[61] .- RAMI_ftranRed_050_MED[2])^2 + (transRed_SZA[84] .- RAMI_ftranRed_050_MED[3])^2))./3.)^(0.5) \n",
    "\n",
    "RMSE_abs = ((((absRed_SZA[28] .- RAMI_fabsRed_050_SNW[1])^2 + (absRed_SZA[61] .- RAMI_fabsRed_050_SNW[2])^2 + (absRed_SZA[84] .- RAMI_fabsRed_050_SNW[3])^2))./3.)^(0.5) \n",
    "RMSE_ref = ((((reflRed_SZA[28] .- RAMI_frefRed_050_SNW[1])^2 + (reflRed_SZA[61] .- RAMI_frefRed_050_SNW[2])^2 + (reflRed_SZA[84] .- RAMI_frefRed_050_SNW[3])^2))./3.)^(0.5) \n",
    "RMSE_tran = ((((transRed_SZA[28] .- RAMI_ftranRed_050_SNW[1])^2 + (transRed_SZA[61] .- RAMI_ftranRed_050_SNW[2])^2 + (transRed_SZA[84] .- RAMI_ftranRed_050_SNW[3])^2))./3.)^(0.5) \n",
    "\n",
    "\n",
    "print(RMSE_abs,\" \")\n",
    "print(RMSE_ref,\" \")\n",
    "#print(RMSE_tran,\" \")\n",
    "\n",
    "RMSE_tot = ((RMSE_abs^2 + RMSE_ref^2 + RMSE_tran^2.)/3.)^0.5\n",
    "#RMSE_tot_2 =  ((RMSE_abs + RMSE_ref + RMSE_tran)/3.)\n",
    "#RMSE_tot_3 = (((absRed_SZA[28] .- RAMI_fabsRed_050_BLK[1])^2 + (absRed_SZA[61] .- RAMI_fabsRed_050_BLK[2])^2 + (absRed_SZA[84] .- RAMI_fabsRed_050_BLK[3])^2\n",
    "             #+ (reflRed_SZA[28] .- RAMI_frefRed_050_BLK[1])^2 + (reflRed_SZA[61] .- RAMI_frefRed_050_BLK[2])^2 + (reflRed_SZA[84] .- RAMI_frefRed_050_BLK[3])^2 \n",
    "             #+ (transRed_SZA[28] .- RAMI_ftranRed_050_BLK[1])^2 + (transRed_SZA[61] .- RAMI_ftranRed_050_BLK[2])^2 + (transRed_SZA[84] .- RAMI_ftranRed_050_BLK[3])^2)./9.)^(0.5) \n",
    "\n",
    "\n",
    "\n",
    "print(RMSE_tot,\" \")\n",
    "#print(RMSE_tot_2,\" \")\n",
    "#print(RMSE_tot_3,\" \")\n"
   ]
  },
  {
   "cell_type": "code",
   "execution_count": null,
   "metadata": {},
   "outputs": [],
   "source": [
    "SZA=0:1:85\n",
    "plot(SZA, reflNIR_SZA,label=\"reflectance\")\n",
    "plot!(SZA, absNIR_SZA,label=\"absorptance\")\n",
    "plot!(SZA, transNIR_SZA,label=\"transmittance\")\n",
    "\n",
    "scatter!(RAMI_SZA, RAMI_reflNIR_050_BLK,label=\"RAMI reflectance\")\n",
    "scatter!(RAMI_SZA, RAMI_absNIR_050_BLK,label=\"RAMI absorptance\")\n",
    "scatter!(RAMI_SZA, RAMI_transNIR_050_BLK,label=\"RAMI transmittance\")\n",
    "ylabel!(\"Radiation Partitioning\")\n",
    "xlabel!(\"Sun Zenith Angle\")"
   ]
  },
  {
   "cell_type": "code",
   "execution_count": null,
   "metadata": {},
   "outputs": [],
   "source": [
    "# Test plots from Christiaan's papers"
   ]
  },
  {
   "cell_type": "code",
   "execution_count": null,
   "metadata": {},
   "outputs": [],
   "source": []
  },
  {
   "cell_type": "code",
   "execution_count": null,
   "metadata": {},
   "outputs": [],
   "source": [
    "reflVIS = Float32[]\n",
    "reflNIR = Float32[]\n",
    "SIF_FR = Float32[]\n",
    "SIF_R  = Float32[]\n",
    "CanopyRTMod.angles.tts=48\n",
    "CanopyRTMod.angles.psi=0\n",
    "CanopyRTMod.canopy.LAI=4.22\n",
    "for psi=0:359\n",
    "    CanopyRTMod.angles.psi=psi\n",
    "    for VZA=0:1:85\n",
    "        CanopyRTMod.angles.tto=VZA\n",
    "\n",
    "        CanopyRTMod.computeCanopyGeomProps!(canopy, angles,canOpt);\n",
    "        CanopyRTMod.computeCanopyMatrices!(arrayOfLeaves,canOpt);\n",
    "        CanopyRTMod.RTM_SW!(canopy, canOpt, canRad,sunRad, CanopyRTMod.soil);\n",
    "        CanopyRTMod.computeSIF_Fluxes!(arrayOfLeaves, canOpt, canRad, canopy, CanopyRTMod.soil);\n",
    "        push!(reflVIS, canRad.alb_obs[28])\n",
    "        push!(reflNIR, canRad.alb_obs[52])\n",
    "        push!(SIF_R , canRad.SIF_obs[8])\n",
    "        push!(SIF_FR, canRad.SIF_obs[20])\n",
    "    end\n",
    "end"
   ]
  },
  {
   "cell_type": "code",
   "execution_count": null,
   "metadata": {},
   "outputs": [],
   "source": [
    "psi = 350.0\n",
    "psi2 = abs(psi-FT(360.0)*round(psi/FT(360.0)))\n",
    "@show CanopyRTMod.volscatt(48.0,89,psi2,85)\n",
    "@show CanopyRTMod.volscatt(48.0,89,psi,85)\n"
   ]
  },
  {
   "cell_type": "code",
   "execution_count": null,
   "metadata": {},
   "outputs": [],
   "source": [
    "A = reshape(reflNIR, ( 86,360));\n",
    "B = reshape(reflVIS, ( 86,360));\n",
    "SIFFER = reshape(SIF_R, ( 86,360));\n",
    "SIFFER_FR = reshape(SIF_FR, ( 86,360));"
   ]
  },
  {
   "cell_type": "code",
   "execution_count": null,
   "metadata": {},
   "outputs": [],
   "source": [
    "using Plots; pyplot()\n",
    "\n",
    "#heatmap(A, cmap=)\n",
    "hm = heatmap(deg2rad.(collect((0:359))),collect(0:1:85),  A,  proj=:polar, color=:viridis,clim=(0.3,0.6))"
   ]
  },
  {
   "cell_type": "code",
   "execution_count": null,
   "metadata": {},
   "outputs": [],
   "source": [
    "#heatmap(A, cmap=)\n",
    "hm = heatmap(deg2rad.(collect((0:359))),collect(0:1:85),  B,  proj=:polar, color=:viridis,clim=(0.0,0.04))"
   ]
  },
  {
   "cell_type": "code",
   "execution_count": null,
   "metadata": {},
   "outputs": [],
   "source": [
    "hm = heatmap(deg2rad.(collect((0:359))),collect(0:1:85),  SIFFER, proj=:polar, color=:viridis)"
   ]
  },
  {
   "cell_type": "code",
   "execution_count": null,
   "metadata": {},
   "outputs": [],
   "source": [
    "hm = heatmap(deg2rad.(collect((0:359))),collect(0:1:85),  SIFFER_FR, proj=:polar, color=:viridis)"
   ]
  },
  {
   "cell_type": "code",
   "execution_count": null,
   "metadata": {},
   "outputs": [],
   "source": [
    "psi"
   ]
  },
  {
   "cell_type": "code",
   "execution_count": null,
   "metadata": {},
   "outputs": [],
   "source": [
    "\n",
    "@show CanopyRTMod.volscatt(35.0,70.0,0.,89.)\n",
    "@show CanopyRTMod.volscatt(35.0,70.0,360.,89.)"
   ]
  },
  {
   "cell_type": "code",
   "execution_count": null,
   "metadata": {},
   "outputs": [],
   "source": [
    "using LinearAlgebra\n",
    "using StaticArrays\n",
    "θ_l = 30.0;\n",
    "θ_s = 30.0;\n",
    "φ_l = 0.0;\n",
    "θ_o = 40.0;\n",
    "φ_o = 180.0;"
   ]
  },
  {
   "cell_type": "code",
   "execution_count": null,
   "metadata": {},
   "outputs": [],
   "source": [
    "l =  [cosd(θ_l); sind(θ_l)*cosd(φ_l);sind(θ_l)*sind(φ_l)];\n",
    "n =  [1.0; 0.0; 0.0]\n",
    "s =  [cosd(θ_s); sind(θ_s); 0]\n",
    "o =  [cosd(θ_o); sind(θ_o)*cosd(φ_o);sind(θ_o)*sind(φ_o)];"
   ]
  },
  {
   "cell_type": "code",
   "execution_count": null,
   "metadata": {},
   "outputs": [],
   "source": [
    "@show cosd(θ_l)*(1 + tand(θ_s)*tand(θ_l)*cosd(φ_l))\n",
    "@show (s⋅l)/(s⋅n)\n",
    "@show (o⋅l)/(o⋅n)\n",
    "@show (cosd(θ_s)*cosd(θ_l) + sind(θ_s)*sind(θ_l)*cosd(φ_l))/cosd(θ_s)"
   ]
  },
  {
   "cell_type": "code",
   "execution_count": null,
   "metadata": {},
   "outputs": [],
   "source": [
    "chi_s = []\n",
    "chi_o = []\n",
    "frho = []\n",
    "ftau = []\n",
    "for VZA=-85:1.01:85\n",
    "    chi_s_,chi_o_,frho_,ftau_ = CanopyRTMod.volscatt(30.0,VZA,0 ,45)\n",
    "    push!(chi_s,chi_s_)\n",
    "    push!(chi_o,chi_o_)\n",
    "    push!(frho,frho_)\n",
    "    push!(ftau,ftau_)\n",
    "end\n",
    "    "
   ]
  },
  {
   "cell_type": "code",
   "execution_count": null,
   "metadata": {},
   "outputs": [],
   "source": [
    "VZA=-85:1.01:85\n",
    "plot(VZA,(frho), label=\"Frho\")\n",
    "plot!(VZA,(ftau), label=\"Ftau\")"
   ]
  },
  {
   "cell_type": "code",
   "execution_count": null,
   "metadata": {},
   "outputs": [],
   "source": [
    "VZA=-85:1.01:85\n",
    "plot(VZA,(chi_s), label=\"chis\")\n",
    "plot!(VZA,(chi_o), label=\"chio\")"
   ]
  },
  {
   "cell_type": "code",
   "execution_count": null,
   "metadata": {},
   "outputs": [],
   "source": [
    "plot(chi_s)\n",
    "plot!(chi_o)"
   ]
  },
  {
   "cell_type": "code",
   "execution_count": null,
   "metadata": {},
   "outputs": [],
   "source": [
    "if true || false || false \n",
    "    println(\"dd\")\n",
    "end"
   ]
  },
  {
   "cell_type": "code",
   "execution_count": null,
   "metadata": {},
   "outputs": [],
   "source": []
  }
 ],
 "metadata": {
  "kernelspec": {
   "display_name": "Julia 1.3.1",
   "language": "julia",
   "name": "julia-1.3"
  },
  "language_info": {
   "file_extension": ".jl",
   "mimetype": "application/julia",
   "name": "julia",
   "version": "1.3.1"
  }
 },
 "nbformat": 4,
 "nbformat_minor": 2
}
