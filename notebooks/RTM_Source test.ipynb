{
 "cells": [
  {
   "cell_type": "markdown",
   "metadata": {},
   "source": [
    "# Canopy RT module (rewrite from mSCOPE)\n",
    "---\n",
    "### Testing the diffuse RT with internal sources here (generalized to do both thermal and SIF).\n",
    "---\n",
    "\n"
   ]
  },
  {
   "cell_type": "code",
   "execution_count": null,
   "metadata": {},
   "outputs": [],
   "source": [
    "# Add PATH (adapt!)\n",
    "push!(LOAD_PATH, \"/Volumes/cfranken/code/gitHub/LSM-SPAM/src/Leaf/\");\n",
    "push!(LOAD_PATH, \"/Volumes/cfranken/code/gitHub/LSM-SPAM/src/Utils/\");\n",
    "#push!(LOAD_PATH, \"/Volumes/cfranken/code/gitHub/LSM-SPAM/src/tools/\");\n",
    "\n",
    "# Use Plots:\n",
    "using Plots\n",
    "#using PhotoStructs\n",
    "#plotly()"
   ]
  },
  {
   "cell_type": "code",
   "execution_count": null,
   "metadata": {},
   "outputs": [],
   "source": [
    "using CanopyRTMod\n",
    "using BenchmarkTools\n",
    "using Statistics\n",
    "using Parameters\n",
    "using Revise"
   ]
  },
  {
   "cell_type": "code",
   "execution_count": null,
   "metadata": {},
   "outputs": [],
   "source": [
    "@unpack wl,wle,wlf, soil = CanopyRTMod;"
   ]
  },
  {
   "cell_type": "code",
   "execution_count": null,
   "metadata": {},
   "outputs": [],
   "source": [
    "leaf = leafbio{FT, length(wl), length(wle), length(wlf)}();\n",
    "soilAlbedo = 0.07;\n",
    "incomingLW = 400.0 #W/m2\n",
    "arrayOfLeaves = Array{leafbio{FT}, 1}(undef, 1)\n",
    "arrayOfLeaves[1]=leaf"
   ]
  },
  {
   "cell_type": "code",
   "execution_count": null,
   "metadata": {},
   "outputs": [],
   "source": [
    "leaf.fqe=0.01\n",
    "CanopyRTMod.fluspect!(leaf, CanopyRTMod.optis)\n",
    "CanopyRTMod.computeCanopyGeomProps!(canopy, angles,canOpt)\n",
    "CanopyRTMod.computeCanopyMatrices!(arrayOfLeaves,canOpt);"
   ]
  },
  {
   "cell_type": "code",
   "execution_count": null,
   "metadata": {},
   "outputs": [],
   "source": [
    "using PhysCon\n",
    "consts = PhysCon.phys{Float32}()"
   ]
  },
  {
   "cell_type": "code",
   "execution_count": null,
   "metadata": {},
   "outputs": [],
   "source": [
    "# Hack Thermal optical properties per layer here:\n",
    "nl = 20\n",
    "nwl = 1\n",
    "iLAI    = 0.2;#canopy.LAI/nl;\n",
    "sigf = canOpt.ddf*leaf.ρ_LW + canOpt.ddb*leaf.τ_LW\n",
    "sigb = canOpt.ddb*leaf.ρ_LW + canOpt.ddf*leaf.τ_LW\n",
    "τ_dd = (1 - (1-sigf)*iLAI)*ones(nwl,nl)\n",
    "ρ_dd = (sigb*iLAI)*ones(nwl,nl)\n",
    "\n",
    "1.0-τ_dd[1,1]-ρ_dd[1,1]"
   ]
  },
  {
   "cell_type": "code",
   "execution_count": null,
   "metadata": {},
   "outputs": [],
   "source": [
    "S⁺ = zeros(nwl,nl).+152*iLAI*0.98\n",
    "S⁻ = zeros(nwl,nl).+152*iLAI*0.98\n",
    "S⁺[1,9:11].=200*iLAI\n",
    "S⁻[1,9:11].=200*iLAI\n",
    "size(S⁺)\n"
   ]
  },
  {
   "cell_type": "code",
   "execution_count": null,
   "metadata": {},
   "outputs": [],
   "source": [
    "Emin,Eplu,netLW =  CanopyRTMod.RTM_diffuseS(τ_dd, ρ_dd,S⁻, S⁺, [0.0], [300.0], [0.06]);"
   ]
  },
  {
   "cell_type": "code",
   "execution_count": null,
   "metadata": {},
   "outputs": [],
   "source": [
    "#iLAI = canopy.LAI/canopy.nlayers;\n",
    "sumLAI = [0:iLAI:nl*iLAI;];"
   ]
  },
  {
   "cell_type": "code",
   "execution_count": null,
   "metadata": {},
   "outputs": [],
   "source": [
    "plot(Emin',-sumLAI, label=\"Downwelling Thermal\")\n",
    "plot!(Eplu',-sumLAI, label=\"Upwelling Thermal\")\n",
    "plot!(1 .+Emin2',-sumLAI2, label=\"Downwelling Thermal fine\")\n",
    "plot!(1 .+Eplu2',-sumLAI2, label=\"Upwelling Thermal fine\")\n",
    "xlabel!(\"W/m2\")\n",
    "ylabel!(\"-Cum LAI\")\n",
    "#plot!(Eplu',1:1:21, label=\"Upwnwelling Thermal\")"
   ]
  },
  {
   "cell_type": "code",
   "execution_count": null,
   "metadata": {},
   "outputs": [],
   "source": [
    "(0.98*consts.σ*290^4)\n"
   ]
  },
  {
   "cell_type": "code",
   "execution_count": null,
   "metadata": {},
   "outputs": [],
   "source": [
    "plot(netLW'-S⁺'-S⁻',-sumLAI[1:nl], label=\"net Thermal\")\n",
    "#plot!(Eplu',-sumLAI, label=\"Upwelling Thermal\")\n",
    "xlabel!(\"W/m2\")\n",
    "ylabel!(\"-Cum LAI\")"
   ]
  },
  {
   "cell_type": "code",
   "execution_count": null,
   "metadata": {},
   "outputs": [],
   "source": [
    "# Hack Thermal optical properties per layer here:\n",
    "nl = 200\n",
    "nwl = 1\n",
    "iLAI    = 0.02;#canopy.LAI/nl;\n",
    "sigf = canOpt.ddf*leaf.ρ_LW + canOpt.ddb*leaf.τ_LW\n",
    "sigb = canOpt.ddb*leaf.ρ_LW + canOpt.ddf*leaf.τ_LW\n",
    "τ_dd = (1 .- (1-sigf)*iLAI)*ones(nwl,nl)\n",
    "ρ_dd = (sigb*iLAI)*ones(nwl,nl)\n",
    "\n",
    "1.0-τ_dd[1,1]-ρ_dd[1,1]\n",
    "@show 1-exp(-sigf*iLAI)\n",
    "@show (1-sigf)*iLAI"
   ]
  },
  {
   "cell_type": "code",
   "execution_count": null,
   "metadata": {},
   "outputs": [],
   "source": [
    "S⁺ = zeros(nwl,nl).+150*iLAI*0.98\n",
    "S⁻ = zeros(nwl,nl).+150*iLAI*0.98\n",
    "#S⁺[1,80:109].=200*iLAI\n",
    "#S⁻[1,80:109].=200*iLAI\n",
    "size(S⁺)\n",
    "Emin2,Eplu2,netLW2 =  CanopyRTMod.RTM_diffuseS(τ_dd, ρ_dd,S⁻, S⁺, [0.0], [300.0], [0.06]);\n"
   ]
  },
  {
   "cell_type": "code",
   "execution_count": null,
   "metadata": {},
   "outputs": [],
   "source": [
    "sumLAI2 = [0:iLAI:nl*iLAI;];\n",
    "plot(Emin2',-sumLAI2, label=\"Downwelling Thermal\")\n",
    "plot!(Eplu2',-sumLAI2, label=\"Upwelling Thermal\")\n",
    "xlabel!(\"W/m2\")\n",
    "ylabel!(\"-Cum LAI\")"
   ]
  },
  {
   "cell_type": "code",
   "execution_count": null,
   "metadata": {},
   "outputs": [],
   "source": [
    "# Hack Thermal optical properties per layer here:\n",
    "nl = 20\n",
    "nwl = 1\n",
    "iLAI    = 4/nl;0.002;#canopy.LAI/nl;\n",
    "sigf = canOpt.ddf*leaf.ρ_LW + canOpt.ddb*leaf.τ_LW\n",
    "sigb = canOpt.ddb*leaf.ρ_LW + canOpt.ddf*leaf.τ_LW\n",
    "τ_dd = (1 - (exp(-sigf*iLAI))*ones(nwl,nl)\n",
    "ρ_dd = (sigb*iLAI)*ones(nwl,nl)\n",
    "\n",
    "1.0-τ_dd[1,1]-ρ_dd[1,1]\n",
    "S⁺ = zeros(nwl,nl).+150*iLAI*0.98\n",
    "S⁻ = zeros(nwl,nl).+150*iLAI*0.98\n",
    "#S⁺[1,80:109].=200*iLAI\n",
    "#S⁻[1,80:109].=200*iLAI\n",
    "size(S⁺)\n",
    "Emin3,Eplu3,netLW3 =  CanopyRTMod.RTM_diffuseS(τ_dd, ρ_dd,S⁻, S⁺, [0.0], [300.0], [0.06]);\n",
    "sumLAI3 = [0:iLAI:nl*iLAI;];\n",
    "plot(Emin2',-sumLAI2, label=\"Downwelling Thermal\")\n",
    "plot!(Eplu2',-sumLAI2, label=\"Upwelling Thermal\")\n",
    "xlabel!(\"W/m2\")\n",
    "ylabel!(\"-Cum LAI\")"
   ]
  },
  {
   "cell_type": "code",
   "execution_count": null,
   "metadata": {},
   "outputs": [],
   "source": [
    "plot(Emin3',-sumLAI3, label=\"Downwelling Thermal\")\n",
    "plot!(Eplu3',-sumLAI3, label=\"Upwelling Thermal\")\n",
    "plot!(1 .+Emin2',-sumLAI2, label=\"Downwelling Thermal fine\")\n",
    "plot!(1 .+Eplu2',-sumLAI2, label=\"Upwelling Thermal fine\")\n",
    "xlabel!(\"W/m2\")\n",
    "ylabel!(\"-Cum LAI\")"
   ]
  },
  {
   "cell_type": "code",
   "execution_count": null,
   "metadata": {},
   "outputs": [],
   "source": []
  },
  {
   "cell_type": "code",
   "execution_count": null,
   "metadata": {},
   "outputs": [],
   "source": []
  }
 ],
 "metadata": {
  "kernelspec": {
   "display_name": "Julia 1.3.1",
   "language": "julia",
   "name": "julia-1.3"
  },
  "language_info": {
   "file_extension": ".jl",
   "mimetype": "application/julia",
   "name": "julia",
   "version": "1.3.1"
  }
 },
 "nbformat": 4,
 "nbformat_minor": 2
}
