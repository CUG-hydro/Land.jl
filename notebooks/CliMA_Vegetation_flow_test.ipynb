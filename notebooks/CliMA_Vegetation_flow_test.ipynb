{
 "cells": [
  {
   "cell_type": "markdown",
   "metadata": {},
   "source": [
    "# CliMA Vegetation model\n",
    "---\n",
    "Modules:\n",
    "\n",
    "Compute leaf optical properties for standard values\n",
    "\n",
    "Compute canopy radiation (both reflectance as well as within canopy distributions for SW energy balance)\n",
    "\n",
    "Compute photosynthesis\n"
   ]
  },
  {
   "cell_type": "code",
   "execution_count": null,
   "metadata": {},
   "outputs": [],
   "source": [
    "# Add PATH (adapt!)\n",
    "push!(LOAD_PATH, \"/Users/braghier/Documents/CliMA/CliMA-land/Land/src/Leaf/\");\n",
    "push!(LOAD_PATH, \"/Users/braghier/Documents/CliMA/CliMA-land/Land/src/Utils/\");"
   ]
  },
  {
   "cell_type": "markdown",
   "metadata": {},
   "source": [
    "# Canopy optical module\n",
    "---\n",
    "Fixed leaf optical properties within canopt (can be changed to vertical explicity approach later as in mSCOPE)\n"
   ]
  },
  {
   "cell_type": "code",
   "execution_count": null,
   "metadata": {},
   "outputs": [],
   "source": [
    "#Loading required modules\n",
    "using PhysCon\n",
    "using WaterVaporMod\n",
    "using MathTools\n",
    "using Leaf\n",
    "using CanopyRTMod\n",
    "using BenchmarkTools\n",
    "using Statistics\n",
    "using Plots"
   ]
  },
  {
   "cell_type": "markdown",
   "metadata": {},
   "source": [
    "# Run Fluspect\n",
    "\n",
    "Leaf optical property generator (provides reflectance and transmittance)\n",
    "\n",
    "---\n",
    "\n",
    "INPUT: \n",
    "\n",
    "1) optis = optipar{typ}(loadOpti(swl)...);\n",
    "\n",
    "A list of input variables related to leaf biological status is defined in PhotoStructs.jl, including:     \n",
    "\n",
    "    \"Leaf structure parameter\"\n",
    "    N::FT    = 1.5       # | -          | (1.0, 3.0)  | \"Leaf structure parameter\"\n",
    "    \"Chlorophyll a+b content\"\n",
    "    Cab::FT  = 40.0      # | μg cm^-2   | (0.0, 110)  | \"Chlorophyll a+b content\"\n",
    "    \"Carotenoid content\"\n",
    "    Car::FT  = 10.0      # | μg cm^-2   | (0.0, 40.0) | \"Carotenoid content\"\n",
    "    \"Anthocynanin content\"\n",
    "    Ant::FT  = 8.0       # | μg cm^-2   | (0.0, 40.0) | \"Anthocynanin content\"\n",
    "    \"Senescent material fraction\"\n",
    "    Cs::FT   = 0.0       # | -          | (0.0, 1.0)  | \"Senescent material fraction\"\n",
    "    \"Equivalent water thickness\"\n",
    "    Cw::FT   = 0.015     # | cm         | (0.0, 0.05) | \"Equivalent water thickness\"\n",
    "    \"Dry matter content (dry leaf mass per unit area)\"\n",
    "    Cm::FT   = 0.01      # | g cm^-2    | (0.0, 0.2)  | \"Dry matter content (dry leaf mass per unit area)\"\n",
    "    \"Fractionation between Zeaxanthin and Violaxanthin in Car (1=all Zeaxanthin)\"\n",
    "    Cx::FT   = 0.0       # | -          | (0.0, 1.0)  | \"Fractionation between Zeaxanthin and Violaxanthin in Car (1=all Zeaxanthin)\"\n",
    "    \"Broadband thermal reflectance\"\n",
    "    ρ_LW::FT = 0.01      # | -          | (0.0, 1.0)  | \"Broadband thermal reflectance\"\n",
    "    \"Broadband thermal transmission\"\n",
    "    τ_LW::FT = 0.01      # | -          | (0.0, 1.0)  | \"Broadband thermal transmission\"\n",
    "    \"Leaf fluorescence efficiency\"\n",
    "    fqe::FT = 0.01       # | -          | (0.0, 1.0)  | \"Leaf fluorescence efficiency\"\n",
    "    \n",
    "OUTPUT:\n",
    "\n",
    "2) leaf   = leafbio{typ}(ρ_SW=similar(wl),τ_SW=similar(wl), kChlrel=similar(wl), Mb=zeros(typ,length(wle), length(wlf)), Mf=zeros(typ,length(wle), length(wlf)) );\n",
    "\n",
    "    \" leaf reflectance\"\n",
    "    ρ_SW::Array{FT,1}    # | -          | (0.0, 1.0)  | \" leaf reflectance\"\n",
    "    \n",
    "    \" leaf transmittance\"\n",
    "    τ_SW::Array{FT,1}    # | -          | (0.0, 1.0)  | \" leaf transmittance\"\n",
    "    \n",
    "    \"relative absorption by Chlorophyll\"\n",
    "    kChlrel::Array{FT,1} # | -          | (0.0, 1.0)  | \"relative absorption by Chlorophyll\"\n",
    "    \n",
    "    \"Fluorescence excitation matrix backwards\"\n",
    "    Mb::Array{FT,2}      # | -          | (0.0, 1.0)  | \"Fluorescence excitation matrix backwards\"\n",
    "    \n",
    "    \"Fluorescence excitation matrix forwards\"\n",
    "    Mf::Array{FT,2}      # | -          | (0.0, 1.0)  | \"Fluorescence excitation matrix forwards\"\n"
   ]
  },
  {
   "cell_type": "code",
   "execution_count": null,
   "metadata": {},
   "outputs": [],
   "source": [
    "wl = CanopyRTMod.wl;\n",
    "wle = CanopyRTMod.wle;\n",
    "wlf = CanopyRTMod.wlf;\n",
    "\n",
    "arrayOfLeaves = Array{leafbio{FT,length(wl), length(wle), length(wlf),length(wle)*length(wlf)}, 1}(undef, CanopyRTMod.canopy.nlayers)\n",
    "for i = 1:CanopyRTMod.canopy.nlayers\n",
    "    #@show i\n",
    "    arrayOfLeaves[i] = leafbio{FT, length(wl), length(wle), length(wlf),length(wle)*length(wlf)}()\n",
    "    @time CanopyRTMod.fluspect!(arrayOfLeaves[i], CanopyRTMod.optis)\n",
    "end\n",
    "\n",
    "#How long does Fluspect take to run per layer? \n",
    "@time CanopyRTMod.fluspect!(leaf, CanopyRTMod.optis)\n",
    "@time CanopyRTMod.computeCanopyGeomProps!(canopy, angles,canOpt)\n",
    "@time CanopyRTMod.computeCanopyMatrices!(arrayOfLeaves,canOpt);"
   ]
  },
  {
   "cell_type": "markdown",
   "metadata": {},
   "source": [
    "# What are the spectral values of reflectance and transmittance?"
   ]
  },
  {
   "cell_type": "code",
   "execution_count": null,
   "metadata": {},
   "outputs": [],
   "source": [
    "plot(CanopyRTMod.optis.lambda, leaf.ρ_SW, label=\"Reflectance\")\n",
    "plot!(CanopyRTMod.optis.lambda, 1 .-leaf.τ_SW, label=\"1-Transmittance\")\n",
    "xlabel!(\"lambda (nm)\")"
   ]
  },
  {
   "cell_type": "markdown",
   "metadata": {},
   "source": [
    "## Canopy Radiative Transfer module  \n",
    "\n",
    "An adapted version of PRO-SAIL with PROSPECT-D but also adding within canopy radiation via SCOPE\n",
    "\n",
    "---\n",
    "\n",
    "INPUT:\n",
    "\n",
    "FluspectMod.leaf -> Leaf optical properties (see Fluspect variables)\n",
    "\n",
    "FluspectMod.canopy -> Canopy structural properties\n",
    "\n",
    "    \"number of canopy layers\"\n",
    "    nlayers::Int64     = 20    # | -          | (2, 60)      | \"number of canopy layers\"\n",
    "    \"Leaf Area Index\"\n",
    "    LAI::FT            = 3.0   # | -          | (0.0, 9.0)   | \"Leaf Area Index\"\n",
    "    \"Clumping factor\"\n",
    "    Ω::FT             = 1.0   # | -          | (0.0, 1.0)   | \"clumping factor\"\n",
    "    \"Leaf width\"\n",
    "    leafwidth::FT      = 0.1   # | m          | (0.0, 1.0)   | \"Leaf width\"\n",
    "    \"Vegetation height\"\n",
    "    hc::FT             = 2.0   # | m          | (0.0, 70.0)  | \"Vegetation height\"\n",
    "    \"Leaf Inclination\"\n",
    "    LIDFa::FT          = -0.35 # | -          | (-1.0, 1.0)  | \"Leaf Inclination\"\n",
    "    \"Variation in leaf inclination\"\n",
    "    LIDFb::FT          = -0.15 # | -          | (-1.0, 1.0)  | \"Variation in leaf inclination\"\n",
    "    \"HotSpot parameter (still need to check!)\"\n",
    "    hot::FT            = 0.05  # | -          | (0, 1.0)     | \"HotSpot parameter (still need to check!)\"\n",
    "    \"Leaf distribution type (2=campbell, 1=ladgen)\"\n",
    "    TypeLidf::FT       = 1     # | -          | (-1.0, 1.0)  | \"Leaf distribution type (2=campbell, 1=ladgen)\"\n",
    "    \"leaf azimuth angles relative to the sun\"\n",
    "    lazitab::Array{FT} = collect(5.0:10.0:355.0)\n",
    "    \n",
    "FluspectMod.angle -> Sun/Observation angular properties\n",
    "\n",
    "    \"Solar Zenith Angle in degrees\"\n",
    "    tts::FT=45\n",
    "    \"Viewing Zenith Angle in degrees\"\n",
    "    tto::FT=0\n",
    "    \"relative azimuth in degrees\"\n",
    "    psi::FT=0\n",
    "    \n",
    "FluspectMod.sunRad -> Incoming Shortwave Radiation (read from test case now, but coming from the atmosphere later on)\n",
    "\n",
    "    \"Spectral direct radiation at top of canopy\"\n",
    "    Edir =  suni[\"Edirect\"]\n",
    "    \"Spectral direct radiation at top of canopy\"\n",
    "    Ediff =  suni[\"Ediffuse\"]\n"
   ]
  },
  {
   "cell_type": "markdown",
   "metadata": {},
   "source": [
    "### How does the Incoming Shortwave Radiation spectral curve look like?"
   ]
  },
  {
   "cell_type": "code",
   "execution_count": null,
   "metadata": {},
   "outputs": [],
   "source": [
    "plot(CanopyRTMod.wl,CanopyRTMod.sunRad.E_diffuse, label=\"Diffuse incoming top of canopy\")\n",
    "plot!(CanopyRTMod.wl,CanopyRTMod.sunRad.E_direct, label=\"Direct incoming top of canopy\")\n",
    "ylabel!(\"mW m-2 μm-1\")\n",
    "xlabel!(\"lambda (nm)\")"
   ]
  },
  {
   "cell_type": "markdown",
   "metadata": {},
   "source": [
    "OUTPUT:\n",
    "\n",
    "    \"integrated TOC outgoing flux\"\n",
    "    intEout::FT                       # | W m^-2               | (0.0, 2500)  | \"integrated TOC outgoing flux\"\n",
    "    \"incident spectrally integrated total PAR\"\n",
    "    PAR::FT                           # | moles m^-2 s^-1      | (0.0, 2.5e-9)| \"incident spectrally integrated total PAR\"\n",
    "    \"incident spectrally integrated direct PAR\"\n",
    "    PAR_direct::FT                    # | moles m^-2 s^-1      | (0.0, 2.5e-9)| \"incident spectrally integrated direct PAR\"\n",
    "    \"incident spectrally integrated diffuse PAR\"\n",
    "    PAR_diffuse::FT                   # | moles m^-2 s^-1      | (0.0, 2.5e-9)| \"incident spectrally integrated diffuse PAR\"\n",
    "    \"net radiation of shaded soil\"\n",
    "    Rnhs::FT                          # | W m^-2               | (0.0, 2500)  | \"net radiation of shaded soil\"\n",
    "    \"net radiation of sunlit soil\"\n",
    "    Rnus::FT                          # | W m^-2               | (0.0, 2500)  | \"net radiation of sunlit soil\"\n",
    "    \"extinction cofficient in the solar direction\"\n",
    "    k::FT\n",
    "    \"extinction cofficient in the viewing direction\"\n",
    "    K::FT\n",
    "\n",
    "    # Dim of nLayers+1\n",
    "    \"gap fraction in the solar direction\"\n",
    "    Ps::Array{FT,1}\n",
    "    \"gap fraction in the viewing direction\"\n",
    "    Po::Array{FT,1}\n",
    "    \"bi-derectional gap fraction (solar->canopy->viewing)\"\n",
    "    Pso::Array{FT,1}\n",
    "\n",
    "    # Dim of nLayers\n",
    "    \"net radiation of shaded leaves\"\n",
    "    Rnhc::Array{FT,1}                 # | W m^-2               | (0.0, 2500)  | \"net radiation of shaded leaves\"\n",
    "    \"net PAR of shaded leaves\"\n",
    "    Pnh::Array{FT,1}                  # | moles m^-2 s^-1      | (0.0, 2.5e-9)| \"net PAR of shaded leaves\"\n",
    "    \"net PAR absorbed by Cab of shaded leaves\"\n",
    "    Pnh_Cab::Array{FT,1}              # | moles m^-2 s^-1      | (0.0, 2.5e-9)| \"net PAR absorbed by Cab of shaded leaves\"\n",
    "    \"net PAR absorbed by shaded leaves\"\n",
    "    Rnh_PAR::Array{FT,1}              # | W m^-2               | (0.0, 2500)  | \"net PAR absorbed by shaded leaves\n",
    "\n",
    "    # Dimension of wavelength only:\n",
    "    \"TOC outgoing radiance in observation direction\"\n",
    "    Lo::Array{FT,1}                   # | mW m^-2 μm^-1 sr^-1  | (0.0, 2500)  | \"TOC outgoing radiance in observation direction\"\n",
    "    \"TOC outgoing radiation\"\n",
    "    Eout::Array{FT,1}                 # | mW m^-2 μm^-1        | (0.0, 2500)  | \"TOC outgoing radiation\"\n",
    "    \"incident direct radiation at top of canopy\"\n",
    "    inc_SW_direct::Array{FT,1}        # | mW m^-2 μm^-1        | (0.0, 2500)  | \"incident direct radiation at top of canopy\"\n",
    "    \"incident diffuse radiation at top of canopy\"\n",
    "    inc_SW_diffuse::Array{FT,1}       # | mW m^-2 μm^-1        | (0.0, 2500)  | \"incident diffuse radiation at top of canopy\"\n",
    "    \"Albedo for direct incoming radiation\"\n",
    "    alb_direct::Array{FT,1}           # | -                    | (0.0, 1.0)   | \"Albedo for direct incoming radiation\"\n",
    "    \"Albedo for diffuse incoming radiation\"\n",
    "    alb_diffuse::Array{FT,1}          # | -                    | (0.0, 1.0)   | \"Albedo for diffuse incoming radiation\"\n",
    "\n",
    "\n",
    "    # Dimension of nLayer+1 * nWavelengths\n",
    "    \"upwelling diffuse radiation within canopy\"\n",
    "    E_up::Array{FT,2}                 # | mW m^-2 μm^-1        | (0.0, 2500)  | \"upwelling diffuse radiation within canopy\"\n",
    "    \"downwelling diffuse radiation within canopy\"\n",
    "    E_down::Array{FT,2}               # | mW m^-2 μm^-1        | (0.0, 2500)  | \"downwelling diffuse radiation within canopy\"\n",
    "\n",
    "    # Dimension of nLeafInclination * nLeafAzimuth * nLayer\n",
    "    \"net radiation of sunlit leaves\"\n",
    "    Rnuc::Array{FT,3}                 # | W m^-2               | (0.0, 2500)  | \"net radiation of sunlit leaves\"\n",
    "    \"net PAR of sunlit leaves\"\n",
    "    Pnu::Array{FT,3}                  # | moles m^-2 s^-1      | (0.0, 2.5e-9)| \"net PAR of sunlit leaves\"\n",
    "    \"net PAR absorbed by Cab of sunlit leaves\"\n",
    "    Pnu_Cab::Array{FT,3}              # | moles m^-2 s^-1      | (0.0, 2.5e-9)| \"net PAR absorbed by Cab of sunlit leaves\"\n",
    "    \"net PAR absorbed by sunlit leaves\"\n",
    "    Rnu_PAR::Array{FT,3}              # | W m^-2               | (0.0, 2500)  | \"net PAR absorbed by sunlit leaves\"\n"
   ]
  },
  {
   "cell_type": "code",
   "execution_count": null,
   "metadata": {},
   "outputs": [],
   "source": [
    "#How long does RTM_sail take to run? \n",
    "#can::struct_canopy, cO::struct_canopyOptProps, cR::struct_canopyRadiation, sun::incomingRadiation, so::struct_soil\n",
    "@time CanopyRTMod.RTM_SW!(canopy, canOpt, canRad,sunRad, CanopyRTMod.soil)"
   ]
  },
  {
   "cell_type": "markdown",
   "metadata": {},
   "source": [
    "### How does canopy albedo look like?"
   ]
  },
  {
   "cell_type": "code",
   "execution_count": null,
   "metadata": {},
   "outputs": [],
   "source": [
    "plot(CanopyRTMod.wl,CanopyRTMod.canRad.alb_direct, label=\"Albedo for direct light\")\n",
    "plot!(CanopyRTMod.wl,CanopyRTMod.canRad.alb_diffuse, label=\"Albedo for diffuse light\")\n",
    "xlabel!(\"lambda (nm)\")"
   ]
  },
  {
   "cell_type": "markdown",
   "metadata": {},
   "source": [
    "### What is the value of transmitted radiation reaching the soil?\n",
    "\n",
    "Soil is still defined as polynomial (depends on state vector size), still TBD in the structure mode. Currently:\n",
    "\n",
    "    pSoil =  Polynomials.Poly(typ(0.2))\n",
    "    rsoil = Polynomials.polyval(pSoil,wl.-mean(wl));\n",
    "    soil_emissivity = 1 .-rsoil # emissivity of soil (goes into structure later)"
   ]
  },
  {
   "cell_type": "code",
   "execution_count": null,
   "metadata": {},
   "outputs": [],
   "source": [
    "@time CanopyRTMod.deriveCanopyFluxes!(canopy, canOpt, canRad,sunRad, CanopyRTMod.soil, arrayOfLeaves);\n",
    "\n",
    "println(\"Net radiation diffuse soil  \", CanopyRTMod.canRad.RnSoil_diffuse)\n",
    "println(\"Net radiation direct soil  \", CanopyRTMod.canRad.RnSoil_direct)\n",
    "println(\"Net radiation soil  \", CanopyRTMod.canRad.RnSoil_direct+CanopyRTMod.canRad.RnSoil_diffuse)"
   ]
  },
  {
   "cell_type": "markdown",
   "metadata": {},
   "source": [
    "### Leaf photosynthesis module"
   ]
  },
  {
   "cell_type": "code",
   "execution_count": null,
   "metadata": {},
   "outputs": [],
   "source": [
    "# Create a leaf structure\n",
    "l = leaf_params{Float32}();\n",
    "l2 = leaf_params{Float32}();\n",
    "# Create a Flux structure\n",
    "f = Leaf.fluxes{Float32}();"
   ]
  },
  {
   "cell_type": "code",
   "execution_count": null,
   "metadata": {},
   "outputs": [],
   "source": [
    "# initialize some reasonable values\n",
    "f.je = 100;\n",
    "f.gbc = 100;\n",
    "f.gbv = 100;\n",
    "f.ceair =1500;\n",
    "f.eair = 1500;\n",
    "#f.APAR = 500;\n",
    "#vertical mean of net PAR absorbed by Cab of sunlit leaves\"\n",
    "APAR_sunlit = mean(CanopyRTMod.canOpt.Ps[1:end-1].*mean(CanopyRTMod.canRad.absPAR_sun*1e6, dims=1:2)[1,1,:]);  \n",
    "#vertical mean of net PAR absorbed by Cab of shaded leaves\"\n",
    "APAR_shaded = mean((1 .- CanopyRTMod.canOpt.Ps[1:end-1]).*mean(CanopyRTMod.canRad.absPAR_shade*1e6, dims=1:2)[1,1,:]);  \n",
    "f.APAR = APAR_sunlit + APAR_shaded\n",
    "println(\"Sunlit absorbed PAR  \",APAR_sunlit)\n",
    "println(\"Shaded absorbed PAR  \",APAR_shaded)\n",
    "println(\"Total absorbed PAR  \",f.APAR)"
   ]
  },
  {
   "cell_type": "code",
   "execution_count": null,
   "metadata": {},
   "outputs": [],
   "source": [
    "l.Kn = 2.44\n",
    "\n",
    "#Temperature em Celsius\n",
    "Temp = 24.85\n",
    "\n",
    "#How long does the leaf photosynthesis module take to run? \n",
    "@time Leaf.LeafPhotosynthesis(f,l,(Temp + 273.15),f.APAR);"
   ]
  },
  {
   "cell_type": "markdown",
   "metadata": {},
   "source": [
    "### Get some PAR response curves"
   ]
  },
  {
   "cell_type": "code",
   "execution_count": null,
   "metadata": {},
   "outputs": [],
   "source": [
    "apar = Float32[]\n",
    "gpp_sunlit_1  = Float32[]\n",
    "gpp_shaded_1  = Float32[]\n",
    "apar_ = Float32[]\n",
    "gpp_sunlit_2  = Float32[]\n",
    "gpp_shaded_2  = Float32[]\n",
    "gpp_total_1  = Float32[]\n",
    "gpp_total_2  = Float32[]\n",
    "f.cair = 400\n",
    "l.vcmax25 = 90\n",
    "l.jmax25 = 90*1.9\n",
    "l2.vcmax25 = 50\n",
    "l2.jmax25 = 50*1.9\n",
    "\n",
    "\n",
    "vertical_APAR_sunlit = CanopyRTMod.canOpt.Ps[1:end-1].*mean(CanopyRTMod.canRad.absPAR_sun*1e6, dims=1:2)[1,1,:]\n",
    "\n",
    "vertical_APAR_shaded =(1 .- CanopyRTMod.canOpt.Ps[1:end-1]).*mean(CanopyRTMod.canRad.absPAR_shade*1e6, dims=1:2)[1,1,:] \n",
    "\n",
    "vertical_APAR = vertical_APAR_sunlit .+ vertical_APAR_shaded\n",
    "\n",
    "#Sunlit\n",
    "#for f.APAR in 0:10:1000\n",
    "for f.APAR in vertical_APAR_sunlit\n",
    "    Leaf.LeafPhotosynthesis(f,l,(Temp + 273.15),f.APAR);\n",
    "    push!(apar, f.APAR)\n",
    "    push!(gpp_sunlit_1, f.an)\n",
    "    Leaf.LeafPhotosynthesis(f,l2,(Temp + 273.15),f.APAR);\n",
    "    push!(apar_, f.APAR)\n",
    "    push!(gpp_sunlit_2, f.an)\n",
    "    #println(f.APAR, \" \", f.ag, \" \", f.an)\n",
    "end\n",
    "\n",
    "#Shaded\n",
    "for f.APAR in vertical_APAR_shaded\n",
    "    Leaf.LeafPhotosynthesis(f,l,(Temp + 273.15),f.APAR);\n",
    "    push!(apar, f.APAR)\n",
    "    push!(gpp_shaded_1, f.an)\n",
    "    Leaf.LeafPhotosynthesis(f,l2,(Temp + 273.15),f.APAR);\n",
    "    push!(apar_, f.APAR)\n",
    "    push!(gpp_shaded_2, f.an)\n",
    "    #println(f.APAR, \" \", f.ag, \" \", f.an)\n",
    "end\n",
    "\n",
    "gpp_total_1 = ( CanopyRTMod.canOpt.Ps[1:end-1]).*(gpp_sunlit_1) + (1 .-CanopyRTMod.canOpt.Ps[1:end-1].*(gpp_shaded_1))\n",
    "gpp_total_2 = ( CanopyRTMod.canOpt.Ps[1:end-1]).*(gpp_sunlit_2) + (1 .-CanopyRTMod.canOpt.Ps[1:end-1].*(gpp_shaded_2))"
   ]
  },
  {
   "cell_type": "code",
   "execution_count": null,
   "metadata": {},
   "outputs": [],
   "source": [
    "# Test the impact of Vcmax on vertical photosynthesis\n",
    "plot(reverse(gpp_sunlit_1),[1:1:CanopyRTMod.canopy.nlayers],lw=3, label=\"Vcmax25=90 - sunlit\", ylabel=\"Canopy layer\", xlabel=\"An\")\n",
    "plot!(reverse(gpp_sunlit_2),[1:1:CanopyRTMod.canopy.nlayers],lw=3, label=\"Vcmax25=50 - sunlit\")\n",
    "plot!(reverse(gpp_shaded_1),[1:1:CanopyRTMod.canopy.nlayers],lw=3, label=\"Vcmax25=90 - shaded\")\n",
    "plot!(reverse(gpp_shaded_2),[1:1:CanopyRTMod.canopy.nlayers],lw=3, label=\"Vcmax25=50 - shaded\")\n",
    "plot!(reverse(gpp_total_1),[1:1:CanopyRTMod.canopy.nlayers],lw=3, label=\"Vcmax25=90 - total\")\n",
    "plot!(reverse(gpp_total_2),[1:1:CanopyRTMod.canopy.nlayers],lw=3, label=\"Vcmax25=50 - total\",legend=:bottomright)\n"
   ]
  },
  {
   "cell_type": "markdown",
   "metadata": {},
   "source": [
    "### Get some PAR response curves"
   ]
  },
  {
   "cell_type": "code",
   "execution_count": null,
   "metadata": {},
   "outputs": [],
   "source": [
    "print(\"Vcmax25=90\",\"Total GPP =\",sum(gpp_total_1)./CanopyRTMod.canopy.nlayers,\"\\n\")\n",
    "print(\"Vcmax25=50\",\"Total GPP =\",sum(gpp_total_2)./CanopyRTMod.canopy.nlayers)"
   ]
  },
  {
   "cell_type": "code",
   "execution_count": null,
   "metadata": {},
   "outputs": [],
   "source": [
    "# Test T dependence\n",
    "T_ = Float32[]\n",
    "ag_T_  = Float32[]\n",
    "an_T_  = Float32[]\n",
    "vcmax_T_  = Float32[]\n",
    "electron_co2_T_  = Float32[]\n",
    "gamma_T_  = Float32[]\n",
    "#f.APAR = 500\n",
    "f.APAR = APAR_sunlit + APAR_shaded\n",
    "\n",
    "for T in 260:1:320\n",
    "    Leaf.LeafPhotosynthesis(f,l,T,f.APAR);\n",
    "    push!(T_, T)\n",
    "    push!(ag_T_, f.ag)\n",
    "    push!(an_T_, f.an)\n",
    "    push!(vcmax_T_, l.vcmax)\n",
    "    push!(electron_co2_T_, l.CO2_per_electron)\n",
    "    push!(gamma_T_ , l.Γstar)\n",
    "end"
   ]
  },
  {
   "cell_type": "code",
   "execution_count": null,
   "metadata": {},
   "outputs": [],
   "source": [
    "m = f.APAR\n",
    "plot(T_.-273.15, ag_T_, lw=3, label=\"Ag; Vcmax25=90, PAR=$m\",  xlabel=\"T (degC)\")\n",
    "plot!(T_.-273.15, an_T_, lw=3, label=\"An; Vcmax25=90, PAR=$m\")\n",
    "plot!(T_.-273.15, vcmax_T_/10, lw=3, label=\"Vcmax/10; Vcmax25=90, PAR=$m\")\n",
    "plot!(T_.-273.15, electron_co2_T_*100, lw=3, label=\"CO2 per electron*100; Vcmax25=90, PAR=$m\")\n",
    "plot!(T_.-273.15, gamma_T_/10, lw=3, label=\"CO2 Compensation Point/10; Vcmax25=90, PAR=$m\")"
   ]
  },
  {
   "cell_type": "code",
   "execution_count": null,
   "metadata": {},
   "outputs": [],
   "source": []
  }
 ],
 "metadata": {
  "kernelspec": {
   "display_name": "Julia 1.3.1",
   "language": "julia",
   "name": "julia-1.3"
  },
  "language_info": {
   "file_extension": ".jl",
   "mimetype": "application/julia",
   "name": "julia",
   "version": "1.3.1"
  }
 },
 "nbformat": 4,
 "nbformat_minor": 4
}
