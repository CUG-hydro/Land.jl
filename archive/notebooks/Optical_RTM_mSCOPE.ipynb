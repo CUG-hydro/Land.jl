{
 "cells": [
  {
   "cell_type": "markdown",
   "metadata": {},
   "source": [
    "# Canopy RT module (rewrite from mSCOPE)\n",
    "---\n",
    "### Can use different leaf properties per layer, but can be boiled down to a simpler version as well. Some examples shown here.\n",
    "---\n",
    "To be looked at here:\n",
    "Computer leaf optical properties for standard values\n",
    "Compute canopy radiation (both reflectance as well as within canopy distributions for SW energy balance).\n"
   ]
  },
  {
   "cell_type": "code",
   "execution_count": null,
   "metadata": {},
   "outputs": [],
   "source": [
    "# Add PATH (adapt!)\n",
    "push!(LOAD_PATH, \"/Volumes/cfranken/code/gitHub/LSM-SPAM/src/Leaf/\");\n",
    "push!(LOAD_PATH, \"/Volumes/cfranken/code/gitHub/LSM-SPAM/src/Utils/\");\n",
    "#push!(LOAD_PATH, \"/Volumes/cfranken/code/gitHub/LSM-SPAM/src/tools/\");\n",
    "\n",
    "# Use Plots:\n",
    "using Plots\n",
    "#using PhotoStructs\n",
    "pyplot()"
   ]
  },
  {
   "cell_type": "code",
   "execution_count": null,
   "metadata": {},
   "outputs": [],
   "source": [
    "using CanopyRTMod\n",
    "using BenchmarkTools\n",
    "using Statistics"
   ]
  },
  {
   "cell_type": "code",
   "execution_count": null,
   "metadata": {},
   "outputs": [],
   "source": [
    "wl = CanopyRTMod.wl;\n",
    "wle = CanopyRTMod.wle;\n",
    "wlf = CanopyRTMod.wlf;"
   ]
  },
  {
   "cell_type": "markdown",
   "metadata": {},
   "source": [
    "---\n",
    "Define the different leaf properties per layer in an array of leaves, can be simplified later if we want to. Right now, I just re-use the same leaf everywhere"
   ]
  },
  {
   "cell_type": "code",
   "execution_count": null,
   "metadata": {},
   "outputs": [],
   "source": [
    "arrayOfLeaves = Array{leafbio{FT,length(wl), length(wle), length(wlf),length(wle)*length(wlf)}, 1}(undef, CanopyRTMod.canopy.nlayers)\n",
    "for i = 1:CanopyRTMod.canopy.nlayers\n",
    "    #@show i\n",
    "    arrayOfLeaves[i] = leafbio{FT, length(wl), length(wle), length(wlf),length(wle)*length(wlf)}()\n",
    "    CanopyRTMod.fluspect!(arrayOfLeaves[i], CanopyRTMod.optis)\n",
    "end\n",
    "# This actually almost takes 1ms!\n",
    "#CanopyRTMod.fluspect!(leaf, CanopyRTMod.optis)\n"
   ]
  },
  {
   "cell_type": "markdown",
   "metadata": {},
   "source": [
    "---\n",
    "## Perform 4 separate steps towards canopy SW RT"
   ]
  },
  {
   "cell_type": "markdown",
   "metadata": {},
   "source": [
    "#### Compute canopy geometric properties (entirely dependent on LAI and leaf angular distributions)"
   ]
  },
  {
   "cell_type": "code",
   "execution_count": null,
   "metadata": {},
   "outputs": [],
   "source": [
    "CanopyRTMod.computeCanopyGeomProps!(canopy, angles,canOpt)"
   ]
  },
  {
   "cell_type": "markdown",
   "metadata": {},
   "source": [
    "#### Compute layer optical properties (includes leaf reflectance and transmittance now)"
   ]
  },
  {
   "cell_type": "code",
   "execution_count": null,
   "metadata": {},
   "outputs": [],
   "source": [
    "CanopyRTMod.computeCanopyMatrices!(arrayOfLeaves,canOpt);"
   ]
  },
  {
   "cell_type": "markdown",
   "metadata": {},
   "source": [
    "#### Compute SW radiation transfer via mSCOPE approach"
   ]
  },
  {
   "cell_type": "code",
   "execution_count": null,
   "metadata": {},
   "outputs": [],
   "source": [
    "@btime CanopyRTMod.RTM_SW!(canopy, canOpt, canRad,sunRad, CanopyRTMod.soil);"
   ]
  },
  {
   "cell_type": "code",
   "execution_count": null,
   "metadata": {},
   "outputs": [],
   "source": [
    "@time CanopyRTMod.computeSIF_Fluxes!(arrayOfLeaves, canOpt, canRad, canopy, CanopyRTMod.soil);\n",
    "#piLo1, piLo2, piLo3, piLo4, F⁻,F⁺,S⁻,S⁺,piLs, piLd =\n",
    "#println(size(piLs))\n",
    "#plot(wlf, piLs)\n",
    "plot(wlf, canRad.SIF_hemi/pi, label=\"Hemispheric Fluorescence (/pi)\")\n",
    "plot!(wlf, canRad.SIF_obs_sunlit, label=\"Sunlit direct\")\n",
    "plot!(wlf, canRad.SIF_obs_shaded, label=\"Shaded direct\")\n",
    "plot!(wlf, canRad.SIF_obs_scattered, label=\"Scattered\")\n",
    "plot!(wlf, canRad.SIF_obs_soil, label=\"Soil\")"
   ]
  },
  {
   "cell_type": "code",
   "execution_count": null,
   "metadata": {},
   "outputs": [],
   "source": [
    "plot(wlf, canRad.SIF_hemi, label=\"Outgoing hemispheric\")\n",
    "plot!(wlf, canRad.SIF_sum, label=\"Sum of all layer SIF sources\")\n"
   ]
  },
  {
   "cell_type": "code",
   "execution_count": null,
   "metadata": {},
   "outputs": [],
   "source": [
    "plot(wlf, canRad.SIF_hemi./canRad.SIF_sum, label=\"Outgoing hemispheric/sources\")\n",
    "plot!(wlf, pi*canRad.SIF_obs./canRad.SIF_sum, label=\"π*SIF_obs/sources\")\n",
    "#plot!(wlf, , label=\"Sum of all layer SIF sources\")"
   ]
  },
  {
   "cell_type": "code",
   "execution_count": null,
   "metadata": {},
   "outputs": [],
   "source": [
    "plot(wlf, arrayOfLeaves[1].Mb[:,1])"
   ]
  },
  {
   "cell_type": "code",
   "execution_count": null,
   "metadata": {},
   "outputs": [],
   "source": [
    "iLAI = canopy.LAI/canopy.nlayers\n",
    "ϵ = zeros(20).+0.98\n",
    "fSun = (canOpt.Ps[1:20]+canOpt.Ps[2:21])/2\n",
    "wlii = [10]\n",
    "S⁺,S⁻ = CanopyRTMod.computeThermalFluxes(canRad.T_shade, canRad.T_sun, ϵ, iLAI, canopy.lidf, fSun, wlii)\n",
    "#plot(S⁺)"
   ]
  },
  {
   "cell_type": "markdown",
   "metadata": {},
   "source": [
    "#### Compute all derived fluxes necessary for Photosynthesis and radiation balance "
   ]
  },
  {
   "cell_type": "code",
   "execution_count": null,
   "metadata": {},
   "outputs": [],
   "source": [
    "@btime CanopyRTMod.deriveCanopyFluxes!(canopy, canOpt, canRad,sunRad, CanopyRTMod.soil, arrayOfLeaves);"
   ]
  },
  {
   "cell_type": "markdown",
   "metadata": {},
   "source": [
    "## Canopy albedos\n",
    "need to still check whether directional is ok, looks a bit low."
   ]
  },
  {
   "cell_type": "code",
   "execution_count": null,
   "metadata": {},
   "outputs": [],
   "source": [
    "plot(wl,canRad.alb_direct, label=\"Direct hemispheric albedo\")\n",
    "plot!(wl,canRad.alb_diffuse, label=\"Diffuse hemispheric albedo\")\n",
    "plot!(wl,canRad.alb_obs, label=\"observed directional (nadir) albedo\")"
   ]
  },
  {
   "cell_type": "code",
   "execution_count": null,
   "metadata": {},
   "outputs": [],
   "source": [
    "\n",
    "sumLAI = [0:iLAI:canopy.LAI;]\n",
    "plot(canOpt.Pso,-sumLAI, label=\"Pso\")\n",
    "plot!(canOpt.Ps,-sumLAI, label=\"Ps\")\n",
    "plot!(canOpt.Po,-sumLAI, label=\"Po\")\n",
    "ylabel!(\"-Cumulative LAI\")\n",
    "xlabel!(\"Probability \")\n",
    "title!(\"solar Ps, outgoing Po, in-out Pso likelihoods\")"
   ]
  },
  {
   "cell_type": "markdown",
   "metadata": {},
   "source": [
    "## Energy Balance test\n",
    "need to check consistency between net TOA radiation and soil+vegetation absorption."
   ]
  },
  {
   "cell_type": "code",
   "execution_count": null,
   "metadata": {},
   "outputs": [],
   "source": [
    "solar_in = sunRad.E_diffuse+sunRad.E_direct;\n",
    "soil_absorbed = canRad.E_down[:,end]+canOpt.Es_[:,end]-canRad.E_up[:,end]\n",
    "canopy_absorbed_diff = sum(canRad.netSW_shade, dims=2)[:,1]\n",
    "canopy_absorbed_dir = sum(canRad.netSW_sunlit, dims=2)[:,1]\n",
    "plot(wl,solar_in-CanopyRTMod.canRad.E_up[:,1].+10, label=\"Net TOA incoming (+10)\")\n",
    "plot!(wl,soil_absorbed, label=\"Absorbed  by soil\")\n",
    "plot!(wl,soil_absorbed+canopy_absorbed_diff, label=\"Absorbed  by soil + canopy (diffuse)\")\n",
    "plot!(wl,soil_absorbed+canopy_absorbed_diff+canopy_absorbed_dir, label=\"Absorbed  by soil + canopy (total)\")\n",
    "xlabel!(\"Wavelength (nm)\")\n",
    "ylabel!(\"Radiance (mW m-2 μm-1)\")"
   ]
  },
  {
   "cell_type": "markdown",
   "metadata": {},
   "source": [
    "### Energy balance test"
   ]
  },
  {
   "cell_type": "code",
   "execution_count": null,
   "metadata": {},
   "outputs": [],
   "source": [
    "sum(soil_absorbed+canopy_absorbed_diff+canopy_absorbed_dir-solar_in+CanopyRTMod.canRad.E_up[:,1], dims=1)"
   ]
  },
  {
   "cell_type": "markdown",
   "metadata": {},
   "source": [
    "---\n",
    "Run Fluspect, leaf optical property generator (provides reflectance and transmittance)"
   ]
  },
  {
   "cell_type": "code",
   "execution_count": null,
   "metadata": {},
   "outputs": [],
   "source": [
    "plot(wl, arrayOfLeaves[10].ρ_SW, label=\"Reflectance\")\n",
    "plot!(wl, 1 .-arrayOfLeaves[10].τ_SW, label=\"1-Transmission\")"
   ]
  },
  {
   "cell_type": "code",
   "execution_count": null,
   "metadata": {},
   "outputs": [],
   "source": [
    "println(\"Net Soil radiation (direct): \", canRad.RnSoil_direct, \"W/m2\")\n",
    "println(\"Net Soil radiation (diffuse): \", canRad.RnSoil_diffuse, \"W/m2\")"
   ]
  },
  {
   "cell_type": "code",
   "execution_count": null,
   "metadata": {},
   "outputs": [],
   "source": [
    "println(\"Incoming direct PAR: \", 1e6*canRad.incomingPAR_direct, \"moles m^-2 s^-1\")\n",
    "println(\"Incoming diffuse PAR: \", 1e6*canRad.incomingPAR_diffuse, \"moles m^-2 s^-1\")"
   ]
  },
  {
   "cell_type": "code",
   "execution_count": null,
   "metadata": {},
   "outputs": [],
   "source": [
    "nl = CanopyRTMod.canopy.nlayers\n",
    "#normi = 1/mean(canOpt.fs'*canopy.lidf)\n",
    "plot(sumLAI[1:nl], 1e6*canRad.absPAR_shadeCab, label=\"Diffuse absorbed PAR\")\n",
    "plot!(sumLAI[1:nl], 1e6*canRad.absPAR_sunCab[5,4,:].*canOpt.Ps[1:nl], label=\"Direct absorbed PAR*Ps\")\n",
    "plot!(sumLAI[1:nl], 1e6*canRad.absPAR_sunCab[5,4,:], label=\"Direct absorbed PAR\")"
   ]
  },
  {
   "cell_type": "code",
   "execution_count": null,
   "metadata": {},
   "outputs": [],
   "source": [
    "mean(canOpt.Ps)"
   ]
  },
  {
   "cell_type": "markdown",
   "metadata": {},
   "source": [
    "#### Azimuth (x) and Inclination (y) dependence on absorbed PAR for sunlit leaves"
   ]
  },
  {
   "cell_type": "code",
   "execution_count": null,
   "metadata": {},
   "outputs": [],
   "source": [
    "contourf(1e6*canRad.absPAR_sunCab[:,:,1])\n",
    "#plot!(1e6*canRad.absPAR_sun[:,:,1][:])"
   ]
  },
  {
   "cell_type": "code",
   "execution_count": null,
   "metadata": {},
   "outputs": [],
   "source": [
    "# plot(wl[CanopyRTMod.iPAR], arrayOfLeaves[1].kChlrel[CanopyRTMod.iPAR], label=\"Relative absorbed light by Cab+Car\")\n",
    "plot(wl[CanopyRTMod.iPAR], arrayOfLeaves[1].kChlrel_old[CanopyRTMod.iPAR], label=\"Relative absorbed light by Cab\")\n"
   ]
  },
  {
   "cell_type": "code",
   "execution_count": null,
   "metadata": {},
   "outputs": [],
   "source": [
    "nwl2,nl2 = size(canOpt.R_dd)"
   ]
  },
  {
   "cell_type": "code",
   "execution_count": null,
   "metadata": {},
   "outputs": [],
   "source": [
    "nwl2"
   ]
  },
  {
   "cell_type": "code",
   "execution_count": null,
   "metadata": {},
   "outputs": [],
   "source": []
  }
 ],
 "metadata": {
  "kernelspec": {
   "display_name": "Julia 1.3.1",
   "language": "julia",
   "name": "julia-1.3"
  },
  "language_info": {
   "file_extension": ".jl",
   "mimetype": "application/julia",
   "name": "julia",
   "version": "1.3.1"
  }
 },
 "nbformat": 4,
 "nbformat_minor": 2
}
