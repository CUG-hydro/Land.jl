{
 "cells": [
  {
   "cell_type": "code",
   "execution_count": null,
   "metadata": {},
   "outputs": [],
   "source": [
    "\n",
    "## Use Julia Plots package and switch to plotly js option:\n",
    "using Plots\n",
    "pyplot()\n",
    "\n",
    "#----------------------------------------------------------------------------\n",
    "\n",
    "# First, we include Revise (good for debugging) and Parameters (tools for structures)\n",
    "\n",
    "#using Revise\n",
    "using Parameters\n",
    "#----------------------------------------------------------------------------\n",
    "\n",
    "# Now include the Land modules\n",
    "\n",
    "using Land\n",
    "using Land.CanopyRT\n",
    "#----------------------------------------------------------------------------"
   ]
  },
  {
   "cell_type": "code",
   "execution_count": null,
   "metadata": {},
   "outputs": [],
   "source": [
    "# Define a few wavelengths:\n",
    "wl_blue = 450.0;\n",
    "wl_red = 600.0;\n",
    "wl_FarRed = 740.0;\n",
    "wl_Red = 685.0;\n",
    "ind_wle_blue  = argmin(abs.(wle .-wl_blue));\n",
    "ind_wle_red = argmin(abs.(wle .-wl_red));\n",
    "ind_wlf_FR  = argmin(abs.(wlf .-wl_FarRed));\n",
    "ind_wlf_R  = argmin(abs.(wlf .-wl_Red));\n",
    "ind_red = argmin(abs.(wl .-wl_Red));\n",
    "ind_NIR = argmin(abs.(wl .-800));"
   ]
  },
  {
   "cell_type": "code",
   "execution_count": null,
   "metadata": {},
   "outputs": [],
   "source": [
    "const color_class = [collect(FT(1):FT(1):20)]\n",
    "\n",
    "const dry_bnd = FT[[0.36,0.34,0.32,0.31,0.30,0.29,0.28,0.27,0.26,0.25,0.24,0.23,0.22,0.20,0.18,0.16,0.14,0.12,0.10,0.08] [0.61,0.57,0.53,0.51,0.49,0.48,0.45,0.43,0.41,0.39,0.37,0.35,0.33,0.31,0.29,0.27,0.25,0.23,0.21,0.16]];\n",
    "\n",
    "const sat_bnd = FT[[0.25,0.23,0.21,0.20,0.19,0.18,0.17,0.16,0.15,0.14,0.13,0.12,0.11,0.10,0.09,0.08,0.07,0.06,0.05,0.04] [0.50,0.46,0.42,0.40,0.38,0.36,0.34,0.32,0.30,0.28,0.26,0.24,0.22,0.20,0.18,0.16,0.14,0.12,0.10,0.08]];\n"
   ]
  },
  {
   "cell_type": "code",
   "execution_count": null,
   "metadata": {},
   "outputs": [],
   "source": [
    "plot(color_class, dry_bnd, label=[\"Dry PAR\" \"Dry NIR\"])\n",
    "plot!(color_class, sat_bnd, label=[\"Sat PAR\" \"Sat NIR\"])\n",
    "ylabel!(\"Soil albedo\")\n",
    "xlabel!(\"Color Class\")\n",
    "plot!(xlims = (0.0,21.), ylims = (-0.05, 1.0), xticks = 1:5:21., yticks = 0:0.2:1.0)"
   ]
  },
  {
   "cell_type": "code",
   "execution_count": null,
   "metadata": {},
   "outputs": [],
   "source": [
    "function soil_albedo(color_class, soil_moisture)\n",
    "    \n",
    "  #soil moisture = the volumetric water content of the first soil layer theta1 mm3.mm-3;\n",
    "\n",
    "  delta = 0.11 - 0.40*soil_moisture;\n",
    "\n",
    "  delta = max(delta,0.0);\n",
    "    \n",
    "  CanopyRT.soil.albedo_SW[1:30] .= max(dry_bnd[color_class,1],sat_bnd[color_class,1]+delta);\n",
    "  CanopyRT.soil.albedo_SW[31:114] .= max(dry_bnd[color_class,2],sat_bnd[color_class,2]+delta); \n",
    "    \n",
    "  return CanopyRT.soil.albedo_SW\n",
    "    \n",
    "end;\n"
   ]
  },
  {
   "cell_type": "code",
   "execution_count": null,
   "metadata": {},
   "outputs": [],
   "source": [
    "\n",
    "plot(wl,soil_albedo(1,0.01),label=\"Color_class = 1\")\n",
    "plot!(wl,soil_albedo(5,0.01),label=\"Color_class = 5\")\n",
    "plot!(wl,soil_albedo(10,0.01),label=\"Color_class = 10\")\n",
    "plot!(wl,soil_albedo(15,0.01),label=\"Color_class = 15\")\n",
    "plot!(wl,soil_albedo(20,0.01),label=\"Color_class = 20\")\n",
    "\n",
    "ylabel!(\"Soil albedo\")\n",
    "xlabel!(\"wl (nm)\")\n",
    "\n",
    "plot!(xlims = (400.0,2401.), ylims = (-0.05, 1.0), xticks = 0:250:2401., yticks = 0:0.2:1.0)"
   ]
  },
  {
   "cell_type": "code",
   "execution_count": null,
   "metadata": {},
   "outputs": [],
   "source": [
    "soil_albedo_var_1 = []\n",
    "soil_albedo_var_5 = []\n",
    "soil_albedo_var_10 = []\n",
    "soil_albedo_var_15 = []\n",
    "soil_albedo_var_20 = []\n",
    "\n",
    "  for soil_moisture=0.0:0.01:1.0\n",
    "    push!(soil_albedo_var_1, soil_albedo(1,soil_moisture)[28])\n",
    "    push!(soil_albedo_var_5, soil_albedo(5,soil_moisture)[28])\n",
    "    push!(soil_albedo_var_10, soil_albedo(10,soil_moisture)[28])\n",
    "    push!(soil_albedo_var_15, soil_albedo(15,soil_moisture)[28])\n",
    "    push!(soil_albedo_var_20, soil_albedo(20,soil_moisture)[28])\n",
    "  end"
   ]
  },
  {
   "cell_type": "code",
   "execution_count": null,
   "metadata": {},
   "outputs": [],
   "source": [
    "soil_moisture=0.0:0.01:1.0\n",
    "plot(soil_moisture,soil_albedo_var_1,label=\"Color_class = 1\")\n",
    "plot!(soil_moisture,soil_albedo_var_5,label=\"Color_class = 5\")\n",
    "plot!(soil_moisture,soil_albedo_var_10,label=\"Color_class = 10\")\n",
    "plot!(soil_moisture,soil_albedo_var_15,label=\"Color_class = 15\")\n",
    "plot!(soil_moisture,soil_albedo_var_20,label=\"Color_class = 20\")\n",
    "ylabel!(\"Soil albedo\")\n",
    "xlabel!(\"volumetric water content of the first soil layer  (mm3.mm-3)\")\n",
    "title!(\"PAR albedo\")\n",
    "\n",
    "plot!(xlims = (0.0,1.0), ylims = (-0.05, 1.0), xticks = 0:0.2:1.0, yticks = 0:0.2:1.0)"
   ]
  },
  {
   "cell_type": "code",
   "execution_count": null,
   "metadata": {},
   "outputs": [],
   "source": [
    "soil_albedo_var_1 = []\n",
    "soil_albedo_var_5 = []\n",
    "soil_albedo_var_10 = []\n",
    "soil_albedo_var_15 = []\n",
    "soil_albedo_var_20 = []\n",
    "\n",
    "  for soil_moisture=0.0:0.01:1.0\n",
    "    push!(soil_albedo_var_1, soil_albedo(1,soil_moisture)[52])\n",
    "    push!(soil_albedo_var_5, soil_albedo(5,soil_moisture)[52])\n",
    "    push!(soil_albedo_var_10, soil_albedo(10,soil_moisture)[52])\n",
    "    push!(soil_albedo_var_15, soil_albedo(15,soil_moisture)[52])\n",
    "    push!(soil_albedo_var_20, soil_albedo(20,soil_moisture)[52])\n",
    "  end"
   ]
  },
  {
   "cell_type": "code",
   "execution_count": null,
   "metadata": {},
   "outputs": [],
   "source": [
    "soil_moisture=0.0:0.01:1.0\n",
    "plot(soil_moisture,soil_albedo_var_1,label=\"Color_class = 1\")\n",
    "plot!(soil_moisture,soil_albedo_var_5,label=\"Color_class = 5\")\n",
    "plot!(soil_moisture,soil_albedo_var_10,label=\"Color_class = 10\")\n",
    "plot!(soil_moisture,soil_albedo_var_15,label=\"Color_class = 15\")\n",
    "plot!(soil_moisture,soil_albedo_var_20,label=\"Color_class = 20\")\n",
    "ylabel!(\"Soil albedo\")\n",
    "xlabel!(\"volumetric water content of the first soil layer  (mm3.mm-3)\")\n",
    "title!(\"NIR albedo\")\n",
    "\n",
    "plot!(xlims = (0.0,1.0), ylims = (-0.05, 1.0), xticks = 0:0.2:1.0, yticks = 0:0.2:1.0)\n"
   ]
  }
 ],
 "metadata": {
  "kernelspec": {
   "display_name": "Julia 1.3.1",
   "language": "julia",
   "name": "julia-1.3"
  },
  "language_info": {
   "file_extension": ".jl",
   "mimetype": "application/julia",
   "name": "julia",
   "version": "1.3.1"
  }
 },
 "nbformat": 4,
 "nbformat_minor": 4
}
