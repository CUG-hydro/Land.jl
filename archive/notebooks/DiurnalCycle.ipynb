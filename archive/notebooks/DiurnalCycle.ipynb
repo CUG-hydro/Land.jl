{
 "cells": [
  {
   "cell_type": "code",
   "execution_count": null,
   "metadata": {},
   "outputs": [],
   "source": [
    "using Revise"
   ]
  },
  {
   "cell_type": "code",
   "execution_count": null,
   "metadata": {},
   "outputs": [],
   "source": [
    "#using PyPlot\n",
    "using Plots\n",
    "using BenchmarkTools\n",
    "using DifferentialEquations\n",
    "using Land\n",
    "using Land.Photosynthesis\n",
    "\n",
    "output_dir = joinpath(@__DIR__,\"..\",\"output\")\n",
    "mkpath(output_dir)"
   ]
  },
  {
   "cell_type": "code",
   "execution_count": null,
   "metadata": {},
   "outputs": [],
   "source": [
    "const FT = Float32\n",
    "\n",
    "mods = Photosynthesis.PhotoMods(\n",
    "    fluorescence    = FlexasTolBerryFluorescence{FT}(),\n",
    "    photosynthesis  = C3FvCBPhotoGs(),\n",
    "    respiration     = RespirationCLM{FT}(),\n",
    "    stomatal        = GentineStomata{FT}(),\n",
    "    Jmax            = JmaxCLM{FT}(),\n",
    "    Vmax            = VcmaxCLM{FT}(),\n",
    "    MichaelisMenten = MM_CLM{FT}(),\n",
    "    BoundaryLayer   = GentineLeafBoundary())\n",
    "\n",
    "# Create a leaf structure\n",
    "l = leaf_params{Float32}();\n",
    "\n",
    "# Create a meteo structure\n",
    "met = meteo{Float32}();\n",
    "\n",
    "#met = meteo();\n",
    "\n",
    "# initialize some reasonable values\n",
    "#f.Je   = 100; f.gbc  = 100; f.gbv  = 100; f.ceair= 1500; f.eair = 1500; f.APAR = 500; f.H=0;f.LE=0; # leaf should not have eair\n",
    "l.Kn = 2.44; l.α=0.2; l.ε=0.98; l.LMA=100e-3; l.RWC=80/100;l.psi_l=-1e6;l.psi_l50 = -1e6;l.ck=3;met.zscreen = 2.0;\n",
    "l.height   = 1.0; met.zscreen  = 2.0;\n",
    "met.stab_type_stable = 2;\n",
    "l.gstyp = 3;\n",
    "\n",
    "met.e_air = 1500;\n",
    "\n",
    "l.Kn = 2.44; l.α=0.2; l.ε=0.98; l.LMA=100e-3; l.RWC=80/100;l.psi_l=-1e6;l.psi_l50 = -1e6;l.ck=3;met.zscreen = 2.0;\n",
    "l.height   = 1.0; met.zscreen  = 2.0;\n",
    "met.stab_type_stable = 2;\n",
    "l.dynamic_state = true;"
   ]
  },
  {
   "cell_type": "code",
   "execution_count": null,
   "metadata": {},
   "outputs": [],
   "source": [
    "\n",
    "# A diurnal cycle for radiation and Tair\n",
    "Deltat  = 60;\n",
    "Samp    = 500; # W/m2 amplitude\n",
    "Tmean   = 273.15+22;\n",
    "DeltaT  = 3;\n",
    "omega   = 2*π/(24*3600);\n",
    "t       = range(0, stop=24*3600, step=Deltat); # diurnal cycle in seconds\n",
    "#print(t)\n",
    "phi_t   = omega*t-π*ones(size(t))/2;\n",
    "Sdown_t = zeros(size(t));\n",
    "Tair_t  = zeros(size(t));\n",
    "zeros_t = zeros(size(t));\n",
    "for i = 1:length(Sdown_t)\n",
    "    Sdown_t[i] = Samp*max( sin(phi_t[i]),zeros_t[i] );#max(sin(phase[i]),zeros(size(t[i])));\n",
    "    Tair_t[i]  = Tmean + DeltaT*sin(phi_t[i]-π/3);\n",
    "end\n"
   ]
  },
  {
   "cell_type": "code",
   "execution_count": null,
   "metadata": {},
   "outputs": [],
   "source": [
    "plot(t/3600,Sdown_t,label=\"Sdown (W/m2)\")\n",
    "plot!(t/3600,10*(Tair_t-273.15*ones(size(Tair_t))),label=\"Tair (C)\")"
   ]
  },
  {
   "cell_type": "code",
   "execution_count": null,
   "metadata": {},
   "outputs": [],
   "source": [
    "psi_s      = -0.5e6 ; # soil water potential (Pa)\n",
    "U          =  1.0;\n",
    "RH         =  65/100;\n",
    "eps_air    =  0.75;\n",
    "tspan      =  (0.0,Deltat);\n",
    "N          =  length(Sdown_t);\n",
    "mutable struct parameters_ode\n",
    "    l::leaf_params;\n",
    "    met::meteo;\n",
    "    psi_s;\n",
    "end"
   ]
  },
  {
   "cell_type": "code",
   "execution_count": null,
   "metadata": {},
   "outputs": [],
   "source": [
    "# small time stepping\n",
    "dt     = 0.1*60; # in s\n",
    "T_t    = zeros(size(Sdown_t));\n",
    "sif_yield = similar(T_t)\n",
    "φ_t= similar(T_t)\n",
    "psil_t = zeros(size(Sdown_t));\n",
    "Cc_t   = zeros(size(Sdown_t));\n",
    "Rn_t   = zeros(size(Sdown_t));\n",
    "GPP_t  = zeros(size(Sdown_t));\n",
    "GPP_diffusion_t  = zeros(size(Sdown_t));\n",
    "LUE_t  = zeros(size(Sdown_t));\n",
    "H_t    = zeros(size(Sdown_t));\n",
    "LE_t   = zeros(size(Sdown_t));\n",
    "rs_t   = zeros(size(Sdown_t));\n",
    "ra_t   = zeros(size(Sdown_t));\n",
    "gs_t   = zeros(size(Sdown_t));\n",
    "apar = zeros(size(Sdown_t));\n",
    "\n",
    "function f_ode!(du,u,p,t) # p are parameters\n",
    "    du .= LeafEnergyWaterBalance(mods,u[1], u[2], u[3], p.met, p.l, p.psi_s);\n",
    "    #println(\"du_inside = $(du), u_inside = $(u)\")\n",
    "end\n",
    "\n",
    "let\n",
    "    # initial conditions\n",
    "    met.T_air  = Tair_t[1];\n",
    "    l.T        = met.T_air;\n",
    "    l.psi_l    = psi_s;\n",
    "    l.Cc       = 0.6*met.Ca;\n",
    "    #println(\"Tair1=\",met.T_air,\" Tleaf1=\",l.T,\" psi_leaf1=\",l.psi_l)\n",
    "        \n",
    "    for i=1:N\n",
    "        met.S_down = Sdown_t[i];\n",
    "        met.L_down = eps_air*physcon.σ*(Tair_t[i])^4;\n",
    "        met.T_air  = Tair_t[i];\n",
    "        met.e_air  = RH*SatVap(Tair_t[i])[1];\n",
    "        met.PAR    = 45/100*physcon.Wtoμmole_s*Sdown_t[i];\n",
    "        l.APAR     = met.PAR;\n",
    "        met.U      = U;\n",
    "        met.Ca     = 400.0; #ppm\n",
    "        l.APAR     = met.PAR;\n",
    "        #println(\"Tair=\",met.T_air,\" Tleaf=\",l.T,\" psi_leaf=\",l.psi_l)\n",
    "        for j=1:trunc(Deltat/dt)\n",
    "            u    = [l.T;l.psi_l;l.gs];\n",
    "            p    = parameters_ode(l,met,psi_s);\n",
    "            #(p.met, p.l,  p.psi_s, p.U)    = [l;met;psi_s;U];\n",
    "            #prob = ODEProblem(f_ode!,u0,tspan,p);\n",
    "            #du   = zeros(size(u));\n",
    "            #f_ode!(du,u,p,t,dummy);\n",
    "            #println(\"du_outside = $(du), u_outside = $(u)\")\n",
    "            # Rn_t[i] = dummy[3]; H_t[i] = dummy[4]; LE_t[i] = dummy[5];\n",
    "            \n",
    "            \n",
    "            du   = zeros(size(u));\n",
    "            f_ode!(du,u,p,t);\n",
    "            #@show du\n",
    "            #@show u\n",
    "            (l.T,l.psi_l,l.gs) = du*dt+u;\n",
    "            #@show p.l.gs\n",
    "            #println(\"Cc_out=\",l.Cc)\n",
    "            Rn_t[i] = p.l.Rn; H_t[i] = p.l.H; LE_t[i] = p.l.LE; \n",
    "            gs_t[i] = p.l.gs;\n",
    "            φ_t[i] = p.l.φ;\n",
    "            sif_yield[i] = l.ϕs\n",
    "            rs_t[i] = 1.0/(p.l.gs/p.met.g_m_s_to_mol_m2_s); \n",
    "            ra_t[i] = p.met.ra; \n",
    "            GPP_t[i]= p.l.An; \n",
    "            GPP_diffusion_t[i]= p.l.An; \n",
    "            LUE_t[i]= p.l.An/l.APAR; \n",
    "            apar[i]=l.APAR;\n",
    "            #T_old   = l.T;\n",
    "            #(l.T,l.psi_l) = du*dt+u;\n",
    "            T_t[i]    = l.T ; #  = T_old; \n",
    "            psil_t[i] = l.psi_l;\n",
    "            Cc_t[i]   = l.Cc;\n",
    "            \n",
    "            if(abs(H_t[i])>500)\n",
    "                println(\"index ($i) ($j)\")\n",
    "            end         \n",
    "        end\n",
    "    end\n",
    "end\n"
   ]
  },
  {
   "cell_type": "code",
   "execution_count": null,
   "metadata": {},
   "outputs": [],
   "source": [
    "plot(t/3600, T_t-273.15*ones(size(T_t)),xlabel = \"t (hr)\",ylabel = \"T (C)\",label=\"T (C)\",ylim=0:100)"
   ]
  },
  {
   "cell_type": "code",
   "execution_count": null,
   "metadata": {},
   "outputs": [],
   "source": [
    "plot(t/3600,psil_t/1e6,xlabel = \"t (hr)\",ylabel = \"|psi_l (MPa)|\",label=\"psi_l\",ylim=0:100)"
   ]
  },
  {
   "cell_type": "code",
   "execution_count": null,
   "metadata": {},
   "outputs": [],
   "source": [
    "savefig(joinpath(output_dir, \"T_psi_diurnal_t.png\"))"
   ]
  },
  {
   "cell_type": "code",
   "execution_count": null,
   "metadata": {},
   "outputs": [],
   "source": [
    "plot(t/3600,  Rn_t,xlabel = \"t (hr)\",ylabel = \"Rn (W/m2)\",label=\"Rn\")\n",
    "plot!(t/3600, H_t,xlabel  = \"t (hr)\",ylabel = \"H (W/m2)\" ,label=\"H\")\n",
    "plot!(t/3600, LE_t,xlabel = \"t (hr)\",ylabel = \"LE (W/m2)\",label=\"LE\")"
   ]
  },
  {
   "cell_type": "code",
   "execution_count": null,
   "metadata": {},
   "outputs": [],
   "source": [
    "savefig(joinpath(output_dir, \"Fluxes_diurnal_t.png\"))"
   ]
  },
  {
   "cell_type": "code",
   "execution_count": null,
   "metadata": {},
   "outputs": [],
   "source": [
    "plot(t/3600,  rs_t,xlabel = \"t (s)\",ylabel = \"rs (s/m)\",label=\"rs\")\n",
    "plot!(t/3600, ra_t,xlabel  = \"t (s)\",ylabel = \"ra (s/m)\" ,label=\"ra\")"
   ]
  },
  {
   "cell_type": "code",
   "execution_count": null,
   "metadata": {},
   "outputs": [],
   "source": [
    "savefig(joinpath(output_dir, \"resistances_diurnal_t.png\"))"
   ]
  },
  {
   "cell_type": "code",
   "execution_count": null,
   "metadata": {},
   "outputs": [],
   "source": [
    "plot(t/3600, GPP_t,xlabel = \"t (s)\",ylabel = \"GPP (micomles/m2/s)\",label=\"GPP\",ylim=0:100)"
   ]
  },
  {
   "cell_type": "code",
   "execution_count": null,
   "metadata": {},
   "outputs": [],
   "source": [
    "savefig(joinpath(output_dir, \"GPP_diurnal_t.png\"))"
   ]
  },
  {
   "cell_type": "code",
   "execution_count": null,
   "metadata": {},
   "outputs": [],
   "source": [
    "plot(t/3600, max.(0,GPP_t)./apar,xlabel = \"t (s)\",ylabel = \"LUE (-)\",label=\"GPP\",ylim=0:100)"
   ]
  },
  {
   "cell_type": "code",
   "execution_count": null,
   "metadata": {},
   "outputs": [],
   "source": [
    "savefig(joinpath(output_dir, \"LUE_diurnal_t.png\"))"
   ]
  },
  {
   "cell_type": "code",
   "execution_count": null,
   "metadata": {},
   "outputs": [],
   "source": [
    "plot(apar, max.(0,GPP_t)./apar,xlabel = \"APAR\",ylabel = \"LUE\",label=\"LUE\",ylim=0:100)"
   ]
  },
  {
   "cell_type": "code",
   "execution_count": null,
   "metadata": {},
   "outputs": [],
   "source": [
    "plot(t/3600, gs_t, xlabel = \"t (hr)\",ylabel = \"gs\",label=\"gs\")"
   ]
  },
  {
   "cell_type": "code",
   "execution_count": null,
   "metadata": {},
   "outputs": [],
   "source": [
    "plot(t/3600, Cc_t,xlabel = \"t (hr)\",ylabel = \"Cc\",label=\"Cc\")"
   ]
  },
  {
   "cell_type": "code",
   "execution_count": null,
   "metadata": {},
   "outputs": [],
   "source": [
    "plot(t/3600, sif_yield,xlabel = \"t (hr)\",ylabel = \"SIF yield\",label=\"SIF yield\")"
   ]
  },
  {
   "cell_type": "code",
   "execution_count": null,
   "metadata": {},
   "outputs": [],
   "source": [
    "plot(t/3600, 10sif_yield,xlabel = \"t (hr)\",ylabel = \"SIF yield\",label=\"SIF yield\")\n",
    "plot!(t/3600, max.(0,GPP_t)./apar,xlabel = \"t (hr)\",ylabel = \"LUE\",label=\"LUE\")"
   ]
  },
  {
   "cell_type": "code",
   "execution_count": null,
   "metadata": {},
   "outputs": [],
   "source": [
    "scatter(max.(0,GPP_t)./apar, sif_yield,xlabel = \"LUE\",ylabel = \"SIF yield\",label=\"SIF yield\")\n",
    "#plot!(t/3600, max.(0,GPP_t)./apar,xlabel = \"t (hr)\",ylabel = \"LUE\",label=\"LUE\")"
   ]
  },
  {
   "cell_type": "code",
   "execution_count": null,
   "metadata": {},
   "outputs": [],
   "source": [
    "scatter(max.(0,GPP_t), sif_yield.*apar,xlabel = \"GPP\",ylabel = \"total SIF\",label=\"SIF\")"
   ]
  },
  {
   "cell_type": "code",
   "execution_count": null,
   "metadata": {},
   "outputs": [],
   "source": [
    "scatter(apar, sif_yield,xlabel = \"APAR\",ylabel = \"SIF yield\",label=\"SIF\")"
   ]
  },
  {
   "cell_type": "code",
   "execution_count": null,
   "metadata": {},
   "outputs": [],
   "source": [
    "scatter(apar, φ_t,xlabel = \"GPP\",ylabel = \"PSII yield\",label=\"SIF\")"
   ]
  },
  {
   "cell_type": "code",
   "execution_count": null,
   "metadata": {},
   "outputs": [],
   "source": []
  },
  {
   "cell_type": "code",
   "execution_count": null,
   "metadata": {},
   "outputs": [],
   "source": [
    "l.APAR = 100\n",
    "LeafPhotosynthesis!(mods, l,met)\n",
    "@show l.φ\n",
    "@show l.Ac\n",
    "@show l.Aj\n",
    "@show l.Ap\n",
    "@show l.ϕs\n",
    "@show l.NPQ\n",
    "@show l.Cc\n",
    "@show l.Vcmax25"
   ]
  },
  {
   "cell_type": "code",
   "execution_count": null,
   "metadata": {},
   "outputs": [],
   "source": []
  }
 ],
 "metadata": {
  "kernelspec": {
   "display_name": "Julia 1.3.1",
   "language": "julia",
   "name": "julia-1.3"
  },
  "language_info": {
   "file_extension": ".jl",
   "mimetype": "application/julia",
   "name": "julia",
   "version": "1.3.1"
  }
 },
 "nbformat": 4,
 "nbformat_minor": 2
}
