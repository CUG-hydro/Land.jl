{
 "cells": [
  {
   "cell_type": "code",
   "execution_count": null,
   "metadata": {},
   "outputs": [],
   "source": [
    "import glob\n",
    "\n",
    "rad_part = [\"fabs\",\"fref\",\"ftran\"]\n",
    "SZA = [\"27\",\"60\",\"83\"]\n",
    "soil = [\"BLK\",\"MED\",\"SNW\"]\n",
    "canopy = [\"SHR\",\"OFC\"]\n",
    "LAI = [\"050\",\"150\",\"250\"]\n",
    "\n",
    "for j in soil:\n",
    "    for k in LAI: \n",
    "        for i in rad_part:  \n",
    "            SZA_hold = []\n",
    "            for m in SZA:   \n",
    "                txtfiles = []\n",
    "                for file in glob.glob(\"/Users/braghier/Documents/CliMA/spartacus_vegetation-1.1/RAMI4PILPS/\" + str(i) + \"_RAMI4PILPSREF-OFC\"+str(k)+\"_\"+str(j)+\"_UNI_NIR_\"+str(m)+\".mes\"):\n",
    "                    txtfiles.append(file)                   \n",
    "                    #print(file)\n",
    "                    f = open(file,\"r\")\n",
    "                    lines = f.readlines()\n",
    "                    result = []\n",
    "                    for x in lines:\n",
    "                        result.append(x.split('\\t')[0])\n",
    "                        #RAMI_absRed_050_BLK\n",
    "                        SZA_hold.append(float(result[0])/100.)\n",
    "                        if(len(SZA_hold) == 3):\n",
    "                            print(\"RAMI_\"+ str(i) + \"NIR_\" + str(k) + \"_\" + str(j) + \" = \", SZA_hold)\n",
    "                    f.close()\n",
    "    \n",
    "    "
   ]
  },
  {
   "cell_type": "code",
   "execution_count": null,
   "metadata": {},
   "outputs": [],
   "source": []
  }
 ],
 "metadata": {
  "kernelspec": {
   "display_name": "Python 3",
   "language": "python",
   "name": "python3"
  },
  "language_info": {
   "codemirror_mode": {
    "name": "ipython",
    "version": 3
   },
   "file_extension": ".py",
   "mimetype": "text/x-python",
   "name": "python",
   "nbconvert_exporter": "python",
   "pygments_lexer": "ipython3",
   "version": "3.7.6"
  }
 },
 "nbformat": 4,
 "nbformat_minor": 4
}
