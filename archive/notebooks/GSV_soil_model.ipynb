{
 "cells": [
  {
   "cell_type": "markdown",
   "metadata": {},
   "source": [
    "# # GSV: a general model for hyperspectral soil reflectance simulation\n",
    "\n",
    "Soil reflectance is crucial for canopy radiative transfer modeling. Spectral vector models are more flexible than typical soil albedo models, because they can ingest observed data and significantly improves hyperspectral soil reflectance modeling in terms of accuracy and robustness. \n",
    "\n",
    "We demonstrate the usage of the general spectral vectors (GSV) model[^1] developed to employ three dry spectral vectors and one humid spectral vector derived from global dry and humid soil reflectance databases including 23,871 soil spectra (400–2500 nm). The GSV model accurately simulates global soil reflectance with an R2 of 0.99 and RMSE of 0.01. The GSV model is highly suitable to be coupled with the CliMA model for vegetation remote sensing studies. \n",
    "\n",
    " [^1]: Jiang, C., & Fang, H. (2019). GSV: a general model for hyperspectral soil reflectance simulation. International Journal of Applied Earth Observation and Geoinformation, 83(July), 101932. https://doi.org/10.1016/j.jag.2019.101932\n"
   ]
  },
  {
   "cell_type": "markdown",
   "metadata": {},
   "source": [
    "# Load used packages"
   ]
  },
  {
   "cell_type": "code",
   "execution_count": null,
   "metadata": {},
   "outputs": [],
   "source": [
    "## Use Julia Plots package and switch to plotly js option:\n",
    "using Plots\n",
    "using StatsPlots\n",
    "pyplot()\n",
    "\n",
    "#----------------------------------------------------------------------------\n",
    "\n",
    "# First, we include Revise (good for debugging) and Parameters (tools for structures)\n",
    "\n",
    "#using Revise\n",
    "using Parameters\n",
    "using Statistics\n",
    "using CSV\n",
    "using DataStructures\n",
    "\n",
    "#----------------------------------------------------------------------------\n",
    "using LinearAlgebra"
   ]
  },
  {
   "cell_type": "markdown",
   "metadata": {},
   "source": [
    "# Define used variables"
   ]
  },
  {
   "cell_type": "code",
   "execution_count": null,
   "metadata": {},
   "outputs": [],
   "source": [
    "# The hyperspectral wavelengths\n",
    "WVL = 400:10:2501\n",
    "# The general spectral vectors derived in the manuscript\n",
    "GSV = [CSV.read(\"DryVec.csv\"; header=false);CSV.read(\"SMVec.csv\"; header=false)]\n",
    "# The test hyperspectral data\n",
    "hyper = CSV.read(\"TestSpectrum_v1.csv\";header=false)\n",
    "# The wavelengths of multispectral data\n",
    "wvl = [450,550,650,850,1650,2150]\n",
    "# The test multispectral data sliced from hyperspectral data\n",
    "indices = []\n",
    "\n",
    "for i in wvl\n",
    "    push!(indices, findall(x -> x==i, WVL)[1])\n",
    "end \n",
    "\n",
    "multi = hyper[:,indices]\n",
    "\n",
    "\n",
    "# Step 1: slice GSV according to the wavelengths of multispectral data\n",
    "gsv = GSV[:,indices]"
   ]
  },
  {
   "cell_type": "markdown",
   "metadata": {},
   "source": [
    "# Define plot"
   ]
  },
  {
   "cell_type": "code",
   "execution_count": null,
   "metadata": {},
   "outputs": [],
   "source": [
    "# Step 2: fit multispectral soil reflectance and reconstruct multispectral soil reflectance\n",
    "X=convert(Matrix,multi)\n",
    "V=convert(Matrix,gsv)\n",
    "C = X * LinearAlgebra.pinv(V)\n",
    "R = C * V\n",
    "R[R.<0] .= 0\n",
    "R[R.>1] .= 1"
   ]
  },
  {
   "cell_type": "code",
   "execution_count": null,
   "metadata": {},
   "outputs": [],
   "source": [
    "scatter(X,R,label=\"\")\n",
    "plot!([0,0.4],[0,0.4],label=\"\")\n",
    "ylabel!(\"Simulations\")\n",
    "xlabel!(\"Measurements\")"
   ]
  },
  {
   "cell_type": "code",
   "execution_count": null,
   "metadata": {},
   "outputs": [],
   "source": [
    "# Step 3: reconstruct hyperspectral soil reflectance using coefficients fitted from multispectral data\n",
    "X = convert(Matrix,hyper)\n",
    "V = convert(Matrix,GSV)\n",
    "R = C * V\n",
    "R[R.<0] .= 0\n",
    "R[R.>1] .= 1"
   ]
  },
  {
   "cell_type": "code",
   "execution_count": null,
   "metadata": {},
   "outputs": [],
   "source": [
    "scatter(X,R,label=\"\")\n",
    "plot!([0,0.4],[0,0.4],label=\"\")\n",
    "ylabel!(\"Simulations\")\n",
    "xlabel!(\"Measurements\")"
   ]
  },
  {
   "cell_type": "code",
   "execution_count": null,
   "metadata": {},
   "outputs": [],
   "source": [
    "# Compare measured multispectral data and hyperspectral data with reconstructed ones\n",
    "plot(WVL,transpose(convert(Matrix,hyper)),label=\"Actual hyperspectral reflectance\")\n",
    "scatter!(wvl,transpose(Matrix(multi)),label=\"Observed multispectral reflectance\")\n",
    "plot!(WVL,transpose(R),label=\"Simulated hyperspectral reflectance\\nfitted from multispectral reflectance\")\n",
    "ylabel!(\"Soil albedo\")\n",
    "xlabel!(\"wl (nm)\")\n"
   ]
  }
 ],
 "metadata": {
  "kernelspec": {
   "display_name": "Julia 1.3.1",
   "language": "julia",
   "name": "julia-1.3"
  },
  "language_info": {
   "file_extension": ".jl",
   "mimetype": "application/julia",
   "name": "julia",
   "version": "1.3.1"
  }
 },
 "nbformat": 4,
 "nbformat_minor": 4
}
