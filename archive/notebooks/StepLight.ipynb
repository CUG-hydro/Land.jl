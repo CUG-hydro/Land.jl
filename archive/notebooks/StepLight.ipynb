{
 "cells": [
  {
   "cell_type": "code",
   "execution_count": null,
   "metadata": {},
   "outputs": [],
   "source": [
    "#using Revise"
   ]
  },
  {
   "cell_type": "code",
   "execution_count": null,
   "metadata": {},
   "outputs": [],
   "source": [
    "# Add PATH\n",
    "push!(LOAD_PATH, joinpath(@__DIR__, \"..\", \"src\"))\n",
    "\n",
    "#using PyPlot\n",
    "using Plots\n",
    "using BenchmarkTools\n",
    "using DifferentialEquations\n",
    "\n",
    "using LSM.PhysCon\n",
    "using LSM.WaterMod\n",
    "#using LSM.LeafPhotosynthesisMod\n",
    "using LSM.LeafEnergyWaterBalanceMod\n",
    "\n",
    "output_dir = joinpath(@__DIR__,\"..\",\"output\")\n",
    "mkpath(output_dir)"
   ]
  },
  {
   "cell_type": "code",
   "execution_count": null,
   "metadata": {},
   "outputs": [],
   "source": [
    "# T=270:0.1:315\n",
    "# muT = zeros(size(T));"
   ]
  },
  {
   "cell_type": "code",
   "execution_count": null,
   "metadata": {},
   "outputs": [],
   "source": [
    "# for i=1:length(T)\n",
    "#     muT[i] = μ_l(T[i]);\n",
    "# end\n",
    "# plot(T-273.15*ones(size(T)),muT/μ_l(273.15+20),label=\"mu/mu(20C)\")"
   ]
  },
  {
   "cell_type": "code",
   "execution_count": null,
   "metadata": {},
   "outputs": [],
   "source": [
    "\n",
    "\n",
    "# function lorenz!(du,u,p,t)\n",
    "#  du[1] = 10.0*(u[2]-u[1]);\n",
    "#  du[2] = u[1]*(28.0-u[3]) - u[2];\n",
    "#  du[3] = u[1]*u[2] - (8/3)*u[3];\n",
    "# end\n",
    "# u0 = [1.0;0.0;0.0];\n",
    "# tspan = (0.0,100.0);\n",
    "# prob = ODEProblem(lorenz!,u0,tspan);\n",
    "# sol = solve(prob);\n",
    "\n",
    "# plot(sol,vars=(1,2,3))\n",
    "\n",
    "# Create a leaf structure\n",
    "l = leaf_params{Float32}();\n",
    "# Create a Flux structure\n",
    "f = fluxes{Float32}();\n",
    "# Create a meteo structure\n",
    "met = meteo{Float32}();\n",
    "\n",
    "#met = meteo();\n",
    "\n",
    "# initialize some reasonable values\n",
    "f.Je   = 100; f.gbc  = 100; f.gbv  = 100; f.ceair= 1500; f.eair = 1500; f.APAR = 500; f.H=0;f.LE=0; # leaf should not have eair\n",
    "l.Kn = 2.44; l.α=0.2; l.ε=0.98; l.LMA=100e-3; l.RWC=80/100;l.psi_l=-1e6;l.psi_l50 = -2e6;l.ck=3;met.zscreen = 2.0;\n",
    "l.height   = 1.0; met.zscreen  = 2.0;\n",
    "met.stab_type_stable = 2;"
   ]
  },
  {
   "cell_type": "code",
   "execution_count": null,
   "metadata": {},
   "outputs": [],
   "source": [
    "# A diurnal cycle for radiation and Tair\n",
    "Deltat  = 60.0;\n",
    "Samp    = 500.0; # W/m2 amplitude\n",
    "DeltaSamp = 100.0;\n",
    "Tmean   = 273.15+20;\n",
    "DeltaT  = 3.0;\n",
    "t       = range(0, stop=24*3600, step=Deltat); # diurnal cycle in seconds\n",
    "#print(t)\n",
    "Sdown_t = Samp*ones(size(t));\n",
    "Tair_t  = Tmean*ones(size(t));\n",
    "zeros_t = zeros(size(t));\n",
    "for i = 1:length(Sdown_t)\n",
    "    if(t[i]>3*3600)\n",
    "         Sdown_t[i] = Samp+DeltaSamp;\n",
    "    end\n",
    "end\n",
    "#print(typeof(phase[1]));\n",
    "#print(typeof(Sdown_t[1]));\n",
    "#print(Sdown_t);\n",
    "#clf();\n",
    "#fig = figure(\"Diurnal cycle\", figsize=(10,5));\n",
    "# plot(t/3600,Sdown_t)\n",
    "#plot!(t/3600,10*(Tair_t-273.15*ones(size(Tair_t))))\n",
    "#    title = \"Shortwave Incoming radiation (W/m^2)\");#,\n",
    "#    xlabel = \"Hours\",\n",
    "#    ylabel = \"S_{down} (W/m^2)\")\n",
    "#plot(t/3600,Tair_t-273.15*ones(size(Tair_t)),\n",
    "#    title = \"Temperature (C)\",\n",
    "#    xlabel = \"Hours\",\n",
    "#    ylabel = \"Temperature (C)\")\n"
   ]
  },
  {
   "cell_type": "code",
   "execution_count": null,
   "metadata": {},
   "outputs": [],
   "source": []
  },
  {
   "cell_type": "code",
   "execution_count": null,
   "metadata": {},
   "outputs": [],
   "source": [
    "plot(t/3600,Sdown_t,label=\"Sdown (W/m2)\")"
   ]
  },
  {
   "cell_type": "code",
   "execution_count": null,
   "metadata": {},
   "outputs": [],
   "source": [
    "plot(t/3600,Tair_t-273.15*ones(size(Tair_t)),label=\"Tair (C)\")"
   ]
  },
  {
   "cell_type": "code",
   "execution_count": null,
   "metadata": {},
   "outputs": [],
   "source": [
    "psi_s      = -0.3e6 ; # soil water potential (Pa)\n",
    "U          =  1.0;\n",
    "RH         =  65/100;\n",
    "eps_air    =  0.75;\n",
    "tspan      =  (0.0,Deltat);\n",
    "N          =  length(Sdown_t);\n",
    "mutable struct parameters_ode\n",
    "    l::leaf_params;\n",
    "    met::meteo;\n",
    "    f::fluxes;\n",
    "    psi_s;\n",
    "end"
   ]
  },
  {
   "cell_type": "code",
   "execution_count": null,
   "metadata": {},
   "outputs": [],
   "source": [
    "# small time stepping\n",
    "dt     = 0.1*60; # in s\n",
    "T_t    = zeros(size(Sdown_t));\n",
    "psil_t = zeros(size(Sdown_t));\n",
    "Cc_t   = zeros(size(Sdown_t));\n",
    "Rn_t   = zeros(size(Sdown_t));\n",
    "GPP_t  = zeros(size(Sdown_t));\n",
    "GPP_diffusion_t  = zeros(size(Sdown_t));\n",
    "LUE_t  = zeros(size(Sdown_t));\n",
    "H_t    = zeros(size(Sdown_t));\n",
    "LE_t   = zeros(size(Sdown_t));\n",
    "rs_t   = zeros(size(Sdown_t));\n",
    "ra_t   = zeros(size(Sdown_t));\n",
    "\n",
    "function f_ode!(du,u,p,t) # p are parameters\n",
    "    du .= LeafEnergyWaterBalance(u[1], u[2], u[3], p.met, p.l, p.f, p.psi_s);\n",
    "    #println(\"du_inside = $(du), u_inside = $(u)\")\n",
    "end\n",
    "\n",
    "let\n",
    "    # initial conditions\n",
    "    met.T_air  = Tair_t[1];\n",
    "    l.T        = met.T_air;\n",
    "    l.psi_l    = psi_s;\n",
    "    l.Cc       = 0.6*met.Ca;\n",
    "    #println(\"Tair1=\",met.T_air,\" Tleaf1=\",l.T,\" psi_leaf1=\",l.psi_l)\n",
    "        \n",
    "    for i=1:N\n",
    "        met.S_down = Sdown_t[i];\n",
    "        met.L_down = eps_air*physcon.σ*(Tair_t[i])^4;\n",
    "        met.T_air  = Tair_t[i];\n",
    "        met.e_air  = RH*SatVap(Tair_t[i])[1];\n",
    "        met.PAR    = 45/100*physcon.Wtoμmole_s*Sdown_t[i];\n",
    "        f.APAR     = met.PAR;\n",
    "        met.U      = U;\n",
    "        met.Ca     = 400.0; #ppm\n",
    "        f.APAR     = met.PAR;\n",
    "        #println(\"Tair=\",met.T_air,\" Tleaf=\",l.T,\" psi_leaf=\",l.psi_l)\n",
    "        for j=1:trunc(Deltat/dt)\n",
    "            u    = [l.T;l.psi_l;l.Cc];\n",
    "            p    = parameters_ode(l,met,f,psi_s);\n",
    "            #(p.met, p.l,  p.psi_s, p.U)    = [l;met;psi_s;U];\n",
    "            #prob = ODEProblem(f_ode!,u0,tspan,p);\n",
    "            #du   = zeros(size(u));\n",
    "            #f_ode!(du,u,p,t,dummy);\n",
    "            #println(\"du_outside = $(du), u_outside = $(u)\")\n",
    "            # Rn_t[i] = dummy[3]; H_t[i] = dummy[4]; LE_t[i] = dummy[5];\n",
    "            \n",
    "            \n",
    "#             du   = zeros(size(u));\n",
    "#             f_ode!(du,u,p,t);\n",
    "#             (l.T,l.psi_l,l.Cc) = du*dt+u;\n",
    "            \n",
    "            u0   = [l.T;l.psi_l;l.Cc];\n",
    "            prob = ODEProblem(f_ode!,u0,tspan,p);\n",
    "            sol  = solve(prob);            \n",
    "            # save values\n",
    "            met = p.met;\n",
    "            f   = p.f;\n",
    "            l   = p.l;\n",
    "            (l.T,l.psi_l,l.Cc) = sol[1:3,end];\n",
    "            \n",
    "            #println(\"Cc_out=\",l.Cc)\n",
    "            Rn_t[i] = p.f.Rn; H_t[i] = p.f.H; LE_t[i] = p.f.LE; \n",
    "            rs_t[i] = 1.0/(p.l.gs/p.f.g_m_s_to_mol_m2_s); \n",
    "            ra_t[i] = p.f.ra; \n",
    "            GPP_t[i]= p.f.An_biochemistry; \n",
    "            GPP_diffusion_t[i]= p.f.An_diffusion; \n",
    "            LUE_t[i]= p.f.An_biochemistry/f.APAR; \n",
    "            \n",
    "            #T_old   = l.T;\n",
    "            #(l.T,l.psi_l) = du*dt+u;\n",
    "            T_t[i]    = l.T ; #  = T_old; \n",
    "            psil_t[i] = l.psi_l;\n",
    "            Cc_t[i]   = l.Cc;\n",
    "            \n",
    "            if(abs(H_t[i])>500)\n",
    "                println(\"index ($i) ($j)\")\n",
    "            end\n",
    "            \n",
    "            \n",
    "#             (dumb,l.psi_l) = du*dt+u;\n",
    "#             T_t[i]  = dumb ; #  = T_old; \n",
    "\n",
    "            \n",
    "        end\n",
    "    end\n",
    "\n",
    "#     l.T        = Tair_t[1]; # initialize temperature of the leaf\n",
    "#     l.psi_l    = psi_s;\n",
    "\n",
    "#     for i=1:N\n",
    "#         met.S_down = Sdown_t[i];\n",
    "#         met.L_down = eps_air*physcon.σ*(Tair_t[i])^4;\n",
    "#         met.T_air  = Tair_t[i];\n",
    "#         met.ea_air = RH*SatVap(Tair_t[i])[1];\n",
    "#         u0   = [l.T;l.psi_l];\n",
    "#         p    = parameters_ode(l,met,psi_s);\n",
    "#         #(p.met, p.l,  p.psi_s, p.U)    = [l;met;psi_s;U];\n",
    "#         prob = ODEProblem(f_ode!,u0,tspan,p);\n",
    "#         sol  = solve(prob);\n",
    "#         (l.T,l.psi_l) = sol[:,end];\n",
    "#         T_t[i] = l.T; psil_t[i]=l.psi_l;\n",
    "#         #print((l.T,l.psi_l) )\n",
    "#         #dT_dt,dH2Ol_dt = LeafEnergyWaterBalance(met, l, psi_s);\n",
    "#         #l.T        = l.T + Deltat*dT_dt;\n",
    "#     end\n",
    "\n",
    "   \n",
    "end\n"
   ]
  },
  {
   "cell_type": "code",
   "execution_count": null,
   "metadata": {},
   "outputs": [],
   "source": [
    "plot(t/3600, T_t-273.15*ones(size(T_t)),xlabel = \"t (hours)\",ylabel = \"T (C)\",label=\"T (C)\",ylim=0:100)\n",
    "#plot!(t/3600,-psil_t/100000,xlabel = \"t (s)\",ylabel = \"|psi_l (1000 hPa)|\",label=\"psi_l\",ylim=0:100)"
   ]
  },
  {
   "cell_type": "code",
   "execution_count": null,
   "metadata": {},
   "outputs": [],
   "source": [
    "plot(t-3*3600*ones(size(t)), T_t-273.15*ones(size(T_t)),xlabel = \"t (s)\",ylabel = \"T (C)\",label=\"T (C)\",xlims=(0*3600,0.1*3600))"
   ]
  },
  {
   "cell_type": "code",
   "execution_count": null,
   "metadata": {},
   "outputs": [],
   "source": [
    "savefig(joinpath(output_dir, \"T_step_t.png\"))"
   ]
  },
  {
   "cell_type": "code",
   "execution_count": null,
   "metadata": {},
   "outputs": [],
   "source": [
    "plot(t-3*3600*ones(size(t)), Cc_t,xlabel = \"t (s)\",ylabel = \"Cc (ppm)\",label=\"Cc\",xlims=(0*3600,0.1*3600))"
   ]
  },
  {
   "cell_type": "code",
   "execution_count": null,
   "metadata": {},
   "outputs": [],
   "source": [
    "plot(t-3*3600*ones(size(t)),  Rn_t,xlabel = \"t (s)\",ylabel = \"Rn (W/m2)\",label=\"Rn\",xlims=(0*3600,0.1*3600))\n",
    "plot!(t-3*3600*ones(size(t)), H_t,xlabel  = \"t (s)\",ylabel = \"H (W/m2)\" ,label=\"H\",xlims=(0*3600,0.1*3600))\n",
    "plot!(t-3*3600*ones(size(t)), LE_t,xlabel = \"t (s)\",ylabel = \"LE (W/m2)\",label=\"LE\",xlims=(0*3600,0.1*3600))"
   ]
  },
  {
   "cell_type": "code",
   "execution_count": null,
   "metadata": {},
   "outputs": [],
   "source": [
    "savefig(joinpath(output_dir, \"Fluxes_step_t.png\"))"
   ]
  },
  {
   "cell_type": "code",
   "execution_count": null,
   "metadata": {},
   "outputs": [],
   "source": [
    "plot(t-3*3600*ones(size(t)),  rs_t,xlabel = \"t (s)\",ylabel = \"rs (s/m)\",label=\"rs\",xlims=(0*3600,0.1*3600))\n",
    "plot!(t-3*3600*ones(size(t)), ra_t,xlabel  = \"t (s)\",ylabel = \"ra (s/m)\" ,label=\"ra\",xlims=(0*3600,0.1*3600))"
   ]
  },
  {
   "cell_type": "code",
   "execution_count": null,
   "metadata": {},
   "outputs": [],
   "source": [
    "savefig(joinpath(output_dir, \"resistances_step_t.png\"))"
   ]
  },
  {
   "cell_type": "code",
   "execution_count": null,
   "metadata": {},
   "outputs": [],
   "source": [
    "plot(t/3600, GPP_t,xlabel = \"t (hr)\",ylabel = \"GPP (micomles/m2/s)\",label=\"GPP\",ylim=0:100)\n",
    "plot!(t/3600, GPP_diffusion_t,xlabel = \"t (hr)\",ylabel = \"GPP  (micomles/m2/s)\",label=\"GPP diffusion\",ylim=0:100)"
   ]
  },
  {
   "cell_type": "code",
   "execution_count": null,
   "metadata": {},
   "outputs": [],
   "source": [
    "plot(t-3*3600*ones(size(t)), GPP_t-GPP_diffusion_t,xlabel = \"t (s)\",ylabel = \"GPP - GPP diffusion (micomles/m2/s)\",label=\"GPP biochemistry\",xlims=(0*3600,0.5*3600),ylim=0:100)"
   ]
  },
  {
   "cell_type": "code",
   "execution_count": null,
   "metadata": {},
   "outputs": [],
   "source": [
    "savefig(joinpath(output_dir, \"GPP_step_t.png\"))"
   ]
  },
  {
   "cell_type": "code",
   "execution_count": null,
   "metadata": {},
   "outputs": [],
   "source": [
    "plot(t/3600, LUE_t,xlabel = \"t (hr)\",ylabel = \"LUE (-)\",label=\"LUE\",ylim=0:100)"
   ]
  },
  {
   "cell_type": "code",
   "execution_count": null,
   "metadata": {},
   "outputs": [],
   "source": [
    "savefig(joinpath(output_dir, \"LUE_step_t.png\"))"
   ]
  },
  {
   "cell_type": "code",
   "execution_count": null,
   "metadata": {},
   "outputs": [],
   "source": []
  },
  {
   "cell_type": "code",
   "execution_count": null,
   "metadata": {},
   "outputs": [],
   "source": []
  },
  {
   "cell_type": "code",
   "execution_count": null,
   "metadata": {},
   "outputs": [],
   "source": []
  },
  {
   "cell_type": "code",
   "execution_count": null,
   "metadata": {},
   "outputs": [],
   "source": []
  },
  {
   "cell_type": "code",
   "execution_count": null,
   "metadata": {},
   "outputs": [],
   "source": []
  },
  {
   "cell_type": "code",
   "execution_count": null,
   "metadata": {},
   "outputs": [],
   "source": []
  },
  {
   "cell_type": "code",
   "execution_count": null,
   "metadata": {},
   "outputs": [],
   "source": []
  },
  {
   "cell_type": "code",
   "execution_count": null,
   "metadata": {},
   "outputs": [],
   "source": []
  },
  {
   "cell_type": "code",
   "execution_count": null,
   "metadata": {},
   "outputs": [],
   "source": []
  }
 ],
 "metadata": {
  "kernelspec": {
   "display_name": "Julia 1.0.1",
   "language": "julia",
   "name": "julia-1.0"
  },
  "language_info": {
   "file_extension": ".jl",
   "mimetype": "application/julia",
   "name": "julia",
   "version": "1.2.0"
  }
 },
 "nbformat": 4,
 "nbformat_minor": 2
}
