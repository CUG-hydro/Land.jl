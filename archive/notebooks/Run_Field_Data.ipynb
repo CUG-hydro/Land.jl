{
 "cells": [
  {
   "cell_type": "code",
   "execution_count": null,
   "metadata": {},
   "outputs": [],
   "source": [
    "#using Revise"
   ]
  },
  {
   "cell_type": "code",
   "execution_count": null,
   "metadata": {},
   "outputs": [],
   "source": [
    "# Add PATH\n",
    "push!(LOAD_PATH, joinpath(@__DIR__, \"..\", \"src\"))\n",
    "\n",
    "#using PyPlot\n",
    "using Plots\n",
    "using BenchmarkTools\n",
    "using DifferentialEquations\n",
    "\n",
    "using LSM.PhysCon\n",
    "using LSM.WaterMod\n",
    "#using LSM.LeafPhotosynthesisMod\n",
    "using LSM.LeafEnergyWaterBalanceMod\n",
    "\n",
    "output_dir = joinpath(@__DIR__,\"..\",\"output\")\n",
    "mkpath(output_dir)"
   ]
  },
  {
   "cell_type": "code",
   "execution_count": null,
   "metadata": {},
   "outputs": [],
   "source": [
    "# stab_type_stable = 2;\n",
    "# z_L = -2.0:0.001:2.0;\n",
    "# psim_z = zeros(size(z_L));\n",
    "# psih_z = zeros(size(z_L));\n",
    "# for i=1:length(z_L) \n",
    "#     psim_z[i] = ψ_m(z_L[i],stab_type_stable);\n",
    "#     psih_z[i] = ψ_h(z_L[i],stab_type_stable);\n",
    "# end"
   ]
  },
  {
   "cell_type": "code",
   "execution_count": null,
   "metadata": {},
   "outputs": [],
   "source": [
    "# plot(z_L,psih_z,label=\"psi_h\")\n",
    "# plot!(z_L,psim_z,label=\"psi_m\")"
   ]
  },
  {
   "cell_type": "code",
   "execution_count": null,
   "metadata": {},
   "outputs": [],
   "source": [
    "using DelimitedFiles\n",
    "PAR  = readdlm(\"PAR.dat\");\n",
    "size(PAR)\n",
    "# use just a subset \n",
    "#PAR = PAR[1:1000,:];"
   ]
  },
  {
   "cell_type": "code",
   "execution_count": null,
   "metadata": {},
   "outputs": [],
   "source": [
    "tmax = length(PAR) # Time in seconds here\n",
    "t = range(1,tmax,step=1)\n",
    "l = leaf_params{Float32}()\n",
    "f = fluxes{Float32}()\n",
    "met = meteo{Float32}()\n",
    "\n",
    "mutable struct parameters_ode\n",
    "    l::leaf_params;\n",
    "    met::meteo;\n",
    "    f::fluxes;\n",
    "    psi_s;\n",
    "end\n",
    "\n",
    "function f_ode!(du,u,p,t) # p are parameters\n",
    "    du .= LeafEnergyWaterBalance(u[1], u[2], u[3], p.met, p.l, p.f, p.psi_s);\n",
    "    #println(\"du_inside = $(du), u_inside = $(u)\")\n",
    "end\n",
    "\n",
    "\n",
    "f.Je   = 100; f.gbc  = 100; f.gbv  = 100; f.ceair= 1500; f.eair = 1500;  f.H=0;f.LE=0; # leaf should not have eair\n",
    "l.Kn = 2.44; l.α=0.2; l.ε=0.98; l.LMA=100e-3; l.RWC=80/100;l.psi_l=-1e6;l.psi_l50 = -2e6;l.ck=3;met.zscreen = 2.0;\n",
    "l.height   = 1.0; \n",
    "met.stab_type_stable = 2;\n",
    "psi_s      = -0.3e6 ; # soil water potential (Pa)\n",
    "U          =  1.0;\n",
    "RH         =  65/100;\n",
    "eps_air    =  0.75;\n",
    "\n",
    "l.dynamic_state = true\n",
    "l.gstyp = 1 # Ball Berry\n",
    "l.g1_BB=4\n",
    "met.Ca = 400\n",
    "l.Vcmax25 = 90\n",
    "l.Jmax25 = 90*1.9\n",
    "uu = zeros(tmax,16)\n",
    "uu[1,2] = 0.07\n",
    "uu[1,1] = 0.5\n",
    "f.APAR = 50\n",
    "l.Rdleaf = 1.0\n",
    "met.T_air = 298;\n",
    "l.T = met.T_air + 0.5;\n",
    "l.psi_l = psi_s;\n",
    "l.Cc = 0.6*400;\n",
    "#apar[1:500]=0\n",
    "#apar[501:100]=0\n",
    "tspan      =  (0.0,1.0);\n",
    "\n",
    "\n",
    "\n",
    "for c = 2:1:tmax\n",
    "    #println(apar[c])\n",
    "       met.S_down = PAR[c]/(45/100*physcon.Wtoμmole_s);\n",
    "       #println(met.S_down)\n",
    "       met.T_air  = 298.0;\n",
    "       met.L_down = eps_air*physcon.σ*(met.T_air)^4;\n",
    "       met.e_air  = RH*SatVap(met.T_air)[1];\n",
    "       met.PAR    = PAR[c];\n",
    "       met.U      = 1.0;\n",
    "    \n",
    "       f.APAR = PAR[c]*0.5 \n",
    "       f.APAR = max(10,f.APAR)\n",
    "       #l.gs = uu[c-1,2]\n",
    "       l.Kn = uu[c-1,1]\n",
    "       uu[c-1,3]=l.ϕs\n",
    "       uu[c-1,4]=l.Cc\n",
    "       uu[c-1,5]=f.φ\n",
    "       uu[c-1,6]=l.Kp\n",
    "       uu[c-1,7]=f.APAR\n",
    "       uu[c-1,8]=f.An_biochemistry\n",
    "       uu[c-1,9]=l.Fm′\n",
    "       uu[c-1,10]=l.T\n",
    "       uu[c-1,11]=f.Rn\n",
    "       uu[c-1,12]=f.H\n",
    "       uu[c-1,13]=f.LE\n",
    "       uu[c-1,14]=l.Cc\n",
    "       uu[c-1,15]=f.An_diffusion\n",
    "       uu[c-1,16]=l.gs\n",
    "#        println(\"gs out=\",l.gs)\n",
    "       #l.Kp = 4\n",
    "       u    = [l.T;l.psi_l;l.Cc];\n",
    "       p    = parameters_ode(l,met,f,psi_s);\n",
    "        #(p.met, p.l,  p.psi_s, p.U)    = [l;met;psi_s;U];\n",
    "        #prob = ODEProblem(f_ode!,u0,tspan,p);\n",
    "        #du   = zeros(size(u));\n",
    "        #f_ode!(du,u,p,t,dummy);\n",
    "        #println(\"du_outside = $(du), u_outside = $(u)\")\n",
    "        # Rn_t[i] = dummy[3]; H_t[i] = dummy[4]; LE_t[i] = dummy[5];\n",
    "\n",
    "\n",
    "#             du   = zeros(size(u));\n",
    "#             f_ode!(du,u,p,t);\n",
    "#             (l.T,l.psi_l,l.Cc) = du*dt+u;\n",
    "\n",
    "       u0   = [l.T;l.psi_l;l.Cc];\n",
    "       prob = ODEProblem(f_ode!,u0,tspan,p);\n",
    "       sol  = solve(prob);            \n",
    "       # save values\n",
    "       met = p.met;\n",
    "       f   = p.f;\n",
    "#        println(\"gs out 1=\",l.gs)\n",
    "       l   = p.l;\n",
    "#        println(\"gs out 2=\",l.gs)\n",
    "       (l.T,l.psi_l,l.Cc) = sol[1:3,end];\n",
    "            \n",
    "    \n",
    "       #LeafPhotosynthesis!(f,l,met)\n",
    "    if (l.Kn_ss-l.Kn) > 0\n",
    "        tau_k = 1\n",
    "    else\n",
    "        tau_k = 1\n",
    "    end\n",
    "       uu[c,1] = uu[c-1,1]+(l.Kn_ss-l.Kn)/tau_k*1/60\n",
    "       uu[c,2] = uu[c-1,2]+(l.gs_ss-l.gs)/20*1/60\n",
    "    #println(l.Kn_ss, \" \",  l.Ci, \" \", f.φ, \" \", l.gs_ss, \" \", f.APAR)\n",
    "end"
   ]
  },
  {
   "cell_type": "code",
   "execution_count": null,
   "metadata": {},
   "outputs": [],
   "source": [
    "plot(t/3600, uu[:,8],label=\"GPP\")\n",
    "plot!(t/3600, PAR/10,label=\"PAR/10\")"
   ]
  },
  {
   "cell_type": "code",
   "execution_count": null,
   "metadata": {},
   "outputs": [],
   "source": [
    "plot(t/3600, uu[:,16],label=\"g_leaf\")"
   ]
  },
  {
   "cell_type": "code",
   "execution_count": null,
   "metadata": {},
   "outputs": [],
   "source": [
    "plot(t/3600, uu[:,8],label=\"GPP biochemistry\")\n",
    "plot!(t/3600, uu[:,15],label=\"GPP diffusion\")"
   ]
  },
  {
   "cell_type": "code",
   "execution_count": null,
   "metadata": {},
   "outputs": [],
   "source": [
    "plot(t/3600, uu[:,11],label=\"Rn\",ylim=-50:500)\n",
    "plot!(t/3600, uu[:,12],label=\"H\",ylim=-50:500)\n",
    "plot!(t/3600, uu[:,13],label=\"LE\",ylim=-50:500)"
   ]
  },
  {
   "cell_type": "code",
   "execution_count": null,
   "metadata": {},
   "outputs": [],
   "source": [
    "plot(t/3600, uu[:,14]/met.Ca,label=\"Cc/Ca\")"
   ]
  },
  {
   "cell_type": "code",
   "execution_count": null,
   "metadata": {},
   "outputs": [],
   "source": []
  },
  {
   "cell_type": "code",
   "execution_count": null,
   "metadata": {},
   "outputs": [],
   "source": []
  },
  {
   "cell_type": "code",
   "execution_count": null,
   "metadata": {},
   "outputs": [],
   "source": []
  },
  {
   "cell_type": "code",
   "execution_count": null,
   "metadata": {},
   "outputs": [],
   "source": []
  },
  {
   "cell_type": "code",
   "execution_count": null,
   "metadata": {},
   "outputs": [],
   "source": []
  }
 ],
 "metadata": {
  "kernelspec": {
   "display_name": "Julia 1.3.1",
   "language": "julia",
   "name": "julia-1.3"
  },
  "language_info": {
   "file_extension": ".jl",
   "mimetype": "application/julia",
   "name": "julia",
   "version": "1.3.1"
  }
 },
 "nbformat": 4,
 "nbformat_minor": 2
}
