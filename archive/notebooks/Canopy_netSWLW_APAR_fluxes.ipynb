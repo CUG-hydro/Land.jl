{
 "cells": [
  {
   "cell_type": "markdown",
   "metadata": {},
   "source": [
    "# Canopy LW + SW net Energy Balance test per layer"
   ]
  },
  {
   "cell_type": "code",
   "execution_count": null,
   "metadata": {},
   "outputs": [],
   "source": [
    "\n",
    "# Use Plots:\n",
    "using Plots\n",
    "using BenchmarkTools\n",
    "using Statistics\n",
    "using Parameters"
   ]
  },
  {
   "cell_type": "code",
   "execution_count": null,
   "metadata": {},
   "outputs": [],
   "source": [
    "using Revise\n",
    "using Land\n",
    "using Land.CanopyRT\n",
    "using Land.Photosynthesis"
   ]
  },
  {
   "cell_type": "code",
   "execution_count": null,
   "metadata": {},
   "outputs": [],
   "source": [
    "\n",
    "# Create an array of standard leaves (needs to be in Module later on:\n",
    "arrayOfLeaves = Array{leafbio{FT,length(wl), length(wle), length(wlf),length(wle)*length(wlf)}, 1}(undef, CanopyRT.canopy.nlayers)\n",
    "for i = 1:CanopyRT.canopy.nlayers\n",
    "    #@show i\n",
    "    arrayOfLeaves[i] = leafbio{FT, length(wl), length(wle), length(wlf),length(wle)*length(wlf)}()\n",
    "    CanopyRT.fluspect!(arrayOfLeaves[i], CanopyRT.optis)\n",
    "end\n"
   ]
  },
  {
   "cell_type": "code",
   "execution_count": null,
   "metadata": {},
   "outputs": [],
   "source": [
    "# 4 Different steps to compute Short-Wave RT\n",
    "@time CanopyRT.computeCanopyGeomProps!(canopy, angles,canOpt)\n",
    "@time CanopyRT.computeCanopyMatrices!(arrayOfLeaves,canOpt)\n",
    "@time CanopyRT.RTM_SW!(canopy, canOpt, canRad,sunRad, soil)\n",
    "@time CanopyRT.deriveCanopyFluxes!(canopy, canOpt, canRad,sunRad, soil, arrayOfLeaves)\n",
    "# Compute Long Wave (Last term is LW incoming in W m^-2)\n",
    "@time CanopyRT.computeThermalFluxes!(arrayOfLeaves, canOpt, canRad, canopy, soil, [Float32(400.0)])"
   ]
  },
  {
   "cell_type": "code",
   "execution_count": null,
   "metadata": {},
   "outputs": [],
   "source": [
    "#@show arrayOfLeaves[1].kChlrel\n",
    "# Layer Temperatures are here:\n",
    "@show canRad.T_sun;\n",
    "@show canRad.T_shade;"
   ]
  },
  {
   "cell_type": "code",
   "execution_count": null,
   "metadata": {},
   "outputs": [],
   "source": [
    "# Net Energy fluxes\n",
    "@show canRad.intNetLW_shade;\n",
    "@show canRad.intNetLW_sunlit;\n",
    "@show canRad.intNetSW_shade;\n",
    "@show canRad.intNetSW_sunlit;\n",
    "@show canRad.RnSoilLW;\n",
    "@show canRad.RnSoil;\n",
    "#@show 1e6 * canRad.absPAR_sunCab;\n",
    "@show 1e6 * canRad.absPAR_shadeCab;"
   ]
  },
  {
   "cell_type": "code",
   "execution_count": null,
   "metadata": {},
   "outputs": [],
   "source": [
    "plot(wl, canRad.netSW_sunlit)"
   ]
  },
  {
   "cell_type": "code",
   "execution_count": null,
   "metadata": {},
   "outputs": [],
   "source": [
    "iLAI = canopy.LAI/canopy.nlayers\n",
    "plot(wl,1 ./canOpt.Ps[10] / iLAI * canRad.netSW_sunlit[:,10])\n",
    "plot!(wl, sunRad.E_direct)"
   ]
  },
  {
   "cell_type": "code",
   "execution_count": null,
   "metadata": {},
   "outputs": [],
   "source": [
    "\n",
    "l = leaf_params{Float32}();\n",
    "l2 = leaf_params{Float32}();\n",
    "# Create a Flux structure\n",
    "met = meteo{Float32}();\n",
    "l.Vcmax25=120\n",
    "l.Jmax25=l.Vcmax25*1.8"
   ]
  },
  {
   "cell_type": "code",
   "execution_count": null,
   "metadata": {},
   "outputs": [],
   "source": [
    "# initialize some reasonable values\n",
    "\n",
    "met.e_air=500;\n",
    "met.T_air=293;\n",
    "l.APAR = 1.0e6 * canRad.absPAR_shadeCab[1];\n",
    "1e6*mean(canRad.absPAR_sunCab[:,:,1])"
   ]
  },
  {
   "cell_type": "code",
   "execution_count": null,
   "metadata": {},
   "outputs": [],
   "source": [
    "mods = Photosynthesis.PhotoMods()"
   ]
  },
  {
   "cell_type": "code",
   "execution_count": null,
   "metadata": {},
   "outputs": [],
   "source": [
    "l.dynamic_state = false\n",
    "@btime Photosynthesis.CanopyPhotosynthesis!(mods, l, met, canRad)"
   ]
  },
  {
   "cell_type": "code",
   "execution_count": null,
   "metadata": {},
   "outputs": [],
   "source": [
    "using Plots\n",
    "\n",
    "plot(Float32(1.0e6) * canRad.absPAR_sunCab[:,:,1][:], canRad.GPP_sun[:,:,1][:], seriestype = :scatter,legend=:bottomright, label=\"Individual sunlit leaves in one layer  (A(APAR))\")\n",
    "#plot!([Float32(1.0e6) * mean(canRad.absPAR_sunCab[:,:,1])], [f.an], seriestype = :scatter,  label=\"A(average(APAR))\")\n",
    "plot!([Float32(1.0e6) * mean(canRad.absPAR_sunCab[:,:,1])], [mean(canRad.GPP_sun)], seriestype = :scatter, label=\"average(A((APAR)))\")\n",
    "plot!(Float32(1.0e6) * canRad.absPAR_shadeCab[:], canRad.GPP_shade, seriestype = :scatter,legend=:bottomright, label=\"Individual shaded layers\")\n",
    "\n"
   ]
  },
  {
   "cell_type": "code",
   "execution_count": null,
   "metadata": {},
   "outputs": [],
   "source": [
    "plot(Float32(1.0e6) * canRad.absPAR_sunCab[:,:,1][:], canRad.ϕ_sun[:,:,1][:], seriestype = :scatter,legend=:bottomright, label=\"Individual sunlit leaves in one layer  (A(APAR))\")"
   ]
  },
  {
   "cell_type": "code",
   "execution_count": null,
   "metadata": {},
   "outputs": [],
   "source": [
    "sF = (canOpt.Ps[2:end]+canOpt.Ps[1:end-1])/2\n",
    "plot((1 .- sF).*canRad.GPP_shade,reverse(layers), label=\"Shade\" )\n",
    "plot!((sF).*mean(canRad.GPP_sun,dims=(1,2))[1,1,:],reverse(layers),label=\"Sun\"   )"
   ]
  },
  {
   "cell_type": "code",
   "execution_count": null,
   "metadata": {},
   "outputs": [],
   "source": [
    "mean(canRad.GPP_sun,dims=(1,2))[1,1,:]"
   ]
  },
  {
   "cell_type": "code",
   "execution_count": null,
   "metadata": {},
   "outputs": [],
   "source": [
    "levels = collect(0:canopy.LAI/canopy.nlayers:canopy.LAI)"
   ]
  },
  {
   "cell_type": "code",
   "execution_count": null,
   "metadata": {},
   "outputs": [],
   "source": [
    "layers = (levels[2:end]+levels[1:end-1])/2"
   ]
  },
  {
   "cell_type": "code",
   "execution_count": null,
   "metadata": {},
   "outputs": [],
   "source": [
    "plot((1 .- sF).*canRad.H_shade,reverse(layers), label=\"Shade\" )\n",
    "plot!((sF).*mean(canRad.H_sun,dims=(1,2))[1,1,:],reverse(layers),label=\"Sun\"   )"
   ]
  },
  {
   "cell_type": "code",
   "execution_count": null,
   "metadata": {},
   "outputs": [],
   "source": [
    "plot((1 .- sF).*canRad.LE_shade,reverse(layers), label=\"Shade\" )\n",
    "plot!((sF).*mean(canRad.LE_sun,dims=(1,2))[1,1,:],reverse(layers),label=\"Sun\"   )"
   ]
  },
  {
   "cell_type": "code",
   "execution_count": null,
   "metadata": {},
   "outputs": [],
   "source": [
    "l.LE"
   ]
  },
  {
   "cell_type": "code",
   "execution_count": null,
   "metadata": {},
   "outputs": [],
   "source": [
    "met.T_air"
   ]
  },
  {
   "cell_type": "code",
   "execution_count": null,
   "metadata": {},
   "outputs": [],
   "source": [
    "l.T"
   ]
  },
  {
   "cell_type": "code",
   "execution_count": null,
   "metadata": {},
   "outputs": [],
   "source": [
    "l.esat-met.e_air"
   ]
  },
  {
   "cell_type": "code",
   "execution_count": null,
   "metadata": {},
   "outputs": [],
   "source": [
    "l.esat"
   ]
  },
  {
   "cell_type": "code",
   "execution_count": null,
   "metadata": {},
   "outputs": [],
   "source": [
    "met.e_air"
   ]
  },
  {
   "cell_type": "code",
   "execution_count": null,
   "metadata": {},
   "outputs": [],
   "source": [
    "met.g_m_s_to_mol_m2_s/l.gs"
   ]
  },
  {
   "cell_type": "code",
   "execution_count": null,
   "metadata": {},
   "outputs": [],
   "source": []
  }
 ],
 "metadata": {
  "kernelspec": {
   "display_name": "Julia 1.3.1",
   "language": "julia",
   "name": "julia-1.3"
  },
  "language_info": {
   "file_extension": ".jl",
   "mimetype": "application/julia",
   "name": "julia",
   "version": "1.3.1"
  }
 },
 "nbformat": 4,
 "nbformat_minor": 2
}
