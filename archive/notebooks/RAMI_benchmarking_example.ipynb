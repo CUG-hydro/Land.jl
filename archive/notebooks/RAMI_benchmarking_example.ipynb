{
 "cells": [
  {
   "cell_type": "markdown",
   "metadata": {},
   "source": [
    "# # RAMI Benchmarking \n",
    " The goal of the RAMI4PILPS experiment[^1] is to evaluate different approaches by which Land Surface Models in larger Earth System Models quantify the radiation transfer within vegetation canopies. The RAMI4PILPS can be interpreted as a quality control mechanism used to: \n",
    "\n",
    "1) quantify the errors in the radiative transfer scheme;\n",
    "\n",
    "2) identify the impact that structural and spectral sub-grid variability may have on radiative transfer; and \n",
    "\n",
    "3) verify the conservation of energy at the level of the surface, as well as inconsistencies arising from different levels of assumptions/simplifications. \n",
    "\n",
    "This approach involves direct comparison with reference solutions obtained from highly accurate 3D models identified during the third phase of the RAMI benchmarking exercise[^2]. \n",
    "\n",
    "A set of 3D experiments compares the partitioning of incident solar energy into an absorbed (A) flux, a transmitted (T) flux component and the surface reflectance (R). The overall canopy structure for these test cases is reminiscent of open forest canopies with randomly oriented foliage, confined to spherical volumes located at varying heights above the ground.\n",
    "In here, we use a total of 36 test cases including various canopy density, soil brightness, and illumination conditions for the visible (VIS) (400-700nm) and near infra-red (NIR) (700-3000nm) spectral ranges. \n",
    "\n",
    " [^1]: J.L. Widlowski, B. Pinty, M. Clerici, Y. Dai, M. De Kauwe, K. de Ridder, A. Kallel, H. Kobayashi, T. Lavergne, W. Ni-Meister, A. Olchev, T. Quaife, S. Wang, W. Yang, Y. Yang, and H. Yuan (2011), RAMI4PILPS: An intercomparison of formulations for the partitioning of solar radiation in land surface models, Journal of Geophysical Research, 116, G02019, 25, DOI: 10.1029/2010JG001511.\n",
    " \n",
    " [^2]: Widlowski, J-L., M. Taberner, B. Pinty, V. Bruniquel-Pinel, M. Disney, R. Fernandes, J.-P. Gastellu-Etchegorry, N. Gobron, A. Kuusk, T. Lavergne, S. Leblanc, P. Lewis, E. Martin, M. Mottus, P. J. R. North, W. Qin, M.Robustelli, N. Rochdi, R.Ruiloba, C.Soler, R.Thompson, W. Verhoef, M. M.Verstraete, and D. Xie (2007), 'The third RAdiation transfer Model Intercomparison (RAMI) exercise: Documenting progress in canopy reflectance modelling', Journal of Geophysical Research, 112, D09111, 28, DOI: 10.1029/2006JD007821. \n"
   ]
  },
  {
   "cell_type": "code",
   "execution_count": null,
   "metadata": {},
   "outputs": [],
   "source": [
    "\n",
    "## Use Julia Plots package and switch to plotly js option:\n",
    "using Plots\n",
    "pyplot()\n",
    "\n",
    "#----------------------------------------------------------------------------\n",
    "\n",
    "# First, we include Revise (good for debugging) and Parameters (tools for structures)\n",
    "\n",
    "#using Revise\n",
    "using Parameters\n",
    "#----------------------------------------------------------------------------\n",
    "\n",
    "# Now include the Land modules\n",
    "\n",
    "using Land\n",
    "using Land.CanopyRT\n",
    "#----------------------------------------------------------------------------"
   ]
  },
  {
   "cell_type": "code",
   "execution_count": null,
   "metadata": {},
   "outputs": [],
   "source": [
    "#Defining all reference values for the Sparse case \n",
    "\n",
    "\n",
    "RAMI_SZA = [27.,60.,83.]\n",
    "\n",
    "RAMI_fabsRed_050_BLK =  [0.09380509999999999, 0.16259713, 0.53931207]\n",
    "RAMI_frefRed_050_BLK =  [0.00330673, 0.00517598, 0.01626682]\n",
    "RAMI_ftranRed_050_BLK =  [0.90288817, 0.83222689, 0.44442110999999995]\n",
    "\n",
    "RAMI_fabsRed_050_MED =  [0.10897124, 0.17760124000000002, 0.54764719]\n",
    "RAMI_frefRed_050_MED =  [0.09759354, 0.09107608, 0.06177913]\n",
    "RAMI_ftranRed_050_MED =  [0.90337609, 0.83265704, 0.44469279]\n",
    "\n",
    "RAMI_fabsRed_050_SNW =  [0.21471034, 0.28200132, 0.60564705]\n",
    "RAMI_frefRed_050_SNW =  [0.7526521700000001, 0.6879087300000001, 0.37825442000000004]\n",
    "RAMI_ftranRed_050_SNW =  [0.90659694, 0.83583194, 0.44718138]\n"
   ]
  },
  {
   "cell_type": "code",
   "execution_count": null,
   "metadata": {},
   "outputs": [],
   "source": [
    "arrayOfLeaves = Array{leafbio{FT,length(wl), length(wle), length(wlf),length(wle)*length(wlf)}, 1}(undef, CanopyRT.canopy.nlayers)\n",
    "for i = 1:CanopyRT.canopy.nlayers\n",
    "    #@show i\n",
    "    arrayOfLeaves[i] = leafbio{FT, length(wl), length(wle), length(wlf),length(wle)*length(wlf)}()\n",
    "    CanopyRT.fluspect!(arrayOfLeaves[i], CanopyRT.optis)\n",
    "end"
   ]
  },
  {
   "cell_type": "code",
   "execution_count": null,
   "metadata": {},
   "outputs": [],
   "source": [
    "function RAMI_case(LAI, soil_albedo, clumping_index)\n",
    "\n",
    "  CanopyRT.soil.albedo_SW[:] .=soil_albedo;\n",
    "  #Clumping index\n",
    "  CanopyRT.canopy.Ω = 1.0\n",
    "  #Viewing Zenith Angle in degrees\n",
    "  CanopyRT.angles.tto=0.0\n",
    "  #Leaf Area index\n",
    "  CanopyRT.canopy.LAI=LAI\n",
    "\n",
    "  reflRed_SZA = []\n",
    "  absRed_SZA = []\n",
    "  transRed_SZA = []\n",
    "\n",
    "  for SZA=0.0:1:85\n",
    "    CanopyRT.angles.tts=SZA  \n",
    "\n",
    "   CanopyRT.fluspect!(leaf, CanopyRT.optis)\n",
    "   CanopyRT.computeCanopyGeomProps!(canopy, angles,canOpt)\n",
    "   CanopyRT.computeCanopyMatrices!(arrayOfLeaves,canOpt);\n",
    "\n",
    "   # leaf reflectance RED\n",
    "   leaf.ρ_SW[28] = 0.0735\n",
    "   # leaf transmittance\n",
    "   leaf.τ_SW[28]= 0.0566 \n",
    "    \n",
    "    #Setting all diffuse to zero\n",
    "    sunRad.E_diffuse[28] = 0.0\n",
    "    \n",
    "    CanopyRT.RTM_SW!(canopy, canOpt, canRad,sunRad, CanopyRT.soil);\n",
    "    push!(reflRed_SZA, canRad.alb_direct[28])\n",
    "    push!(absRed_SZA, (sum(canRad.netSW_shade,dims=2)[28,1].+sum(canRad.netSW_sunlit,dims=2)[28,1])./(sunRad.E_diffuse[28].+sunRad.E_direct[28]))\n",
    "    push!(transRed_SZA,  (canOpt.Es_[28,end] .+ canRad.E_down[28,end])./(sunRad.E_diffuse[28].+sunRad.E_direct[28]))\n",
    "  end\n",
    "\n",
    "  #### Clumped Case\n",
    "\n",
    "  reflRed_clump_SZA = []\n",
    "  absRed_clump_SZA = []\n",
    "  transRed_clump_SZA = []\n",
    "\n",
    "\n",
    "  #Clumping index\n",
    "  CanopyRT.canopy.Ω = clumping_index\n",
    "\n",
    "  for SZA=0.0:1:85\n",
    "    CanopyRT.angles.tts=SZA  \n",
    "\n",
    "    CanopyRT.fluspect!(leaf, CanopyRT.optis)\n",
    "    CanopyRT.computeCanopyGeomProps!(canopy, angles,canOpt)\n",
    "    CanopyRT.computeCanopyMatrices!(arrayOfLeaves,canOpt);\n",
    "    \n",
    "    CanopyRT.RTM_SW!(canopy, canOpt, canRad,sunRad, CanopyRT.soil);\n",
    "    push!(reflRed_clump_SZA, canRad.alb_direct[28])\n",
    "    push!(absRed_clump_SZA, (sum(canRad.netSW_shade,dims=2)[28,1].+sum(canRad.netSW_sunlit,dims=2)[28,1])./(sunRad.E_diffuse[28].+sunRad.E_direct[28]))\n",
    "    push!(transRed_clump_SZA,  (canOpt.Es_[28,end] .+ canRad.E_down[28,end])./(sunRad.E_diffuse[28].+sunRad.E_direct[28]))\n",
    "\n",
    "  end\n",
    "    \n",
    "  return reflRed_SZA,absRed_SZA,transRed_SZA,reflRed_clump_SZA,absRed_clump_SZA,transRed_clump_SZA\n",
    "    \n",
    "end;\n"
   ]
  },
  {
   "cell_type": "code",
   "execution_count": null,
   "metadata": {},
   "outputs": [],
   "source": [
    "#Sparse case with black soil\n",
    "reflRed_SZA,absRed_SZA,transRed_SZA,reflRed_clump_SZA,absRed_clump_SZA,transRed_clump_SZA=RAMI_case(0.50265, 0.0, 0.365864235);\n"
   ]
  },
  {
   "cell_type": "code",
   "execution_count": null,
   "metadata": {},
   "outputs": [],
   "source": [
    "SZA=0:1:85\n",
    "\n",
    "plot(SZA, [reflRed_SZA, reflRed_clump_SZA],label=[\"\" \"reflectance\"] , layout = (1, 2),title=[\"050_BLK - Default\" \"Clumping\"])\n",
    "plot!(SZA, [absRed_SZA, absRed_clump_SZA] ,label=[\"\" \"absorptance\"])\n",
    "plot!(SZA, [transRed_SZA,transRed_clump_SZA],label=[\"\" \"transmittance\"])\n",
    "\n",
    "\n",
    "##Reference values\n",
    "scatter!(RAMI_SZA, [RAMI_frefRed_050_BLK,RAMI_frefRed_050_BLK],label=[\"\" \"RAMI reflectance\"])\n",
    "scatter!(RAMI_SZA, [RAMI_fabsRed_050_BLK,RAMI_fabsRed_050_BLK],label=[\"\" \"RAMI absorptance\"])\n",
    "scatter!(RAMI_SZA, [RAMI_ftranRed_050_BLK,RAMI_ftranRed_050_BLK],label=[\"\" \"RAMI transmittance\"])\n",
    "ylabel!(\"Radiation Partitioning\")\n",
    "xlabel!(\"Sun Zenith Angle\")\n",
    "\n",
    "plot!(xlims = (0.0, 90.), ylims = (-0.05, 1.0), xticks = 0:20:91., yticks = 0:0.2:1.0)\n",
    "\n"
   ]
  },
  {
   "cell_type": "code",
   "execution_count": null,
   "metadata": {},
   "outputs": [],
   "source": [
    "#Sparse case with medium soil\n",
    "reflRed_SZA,absRed_SZA,transRed_SZA,reflRed_clump_SZA,absRed_clump_SZA,transRed_clump_SZA=RAMI_case(0.50265, 0.1217, 0.365864235);\n"
   ]
  },
  {
   "cell_type": "code",
   "execution_count": null,
   "metadata": {},
   "outputs": [],
   "source": [
    "SZA=0:1:85\n",
    "\n",
    "plot(SZA, [reflRed_SZA, reflRed_clump_SZA],label=[\"\" \"reflectance\"] , layout = (1, 2),title=[\"050_MED - Default\" \"Clumping\"])\n",
    "plot!(SZA, [absRed_SZA, absRed_clump_SZA] ,label=[\"\" \"absorptance\"])\n",
    "plot!(SZA, [transRed_SZA,transRed_clump_SZA],label=[\"\" \"transmittance\"])\n",
    "\n",
    "\n",
    "##Reference values\n",
    "scatter!(RAMI_SZA, [RAMI_frefRed_050_MED,RAMI_frefRed_050_MED],label=[\"\" \"RAMI reflectance\"])\n",
    "scatter!(RAMI_SZA, [RAMI_fabsRed_050_MED,RAMI_fabsRed_050_MED],label=[\"\" \"RAMI absorptance\"])\n",
    "scatter!(RAMI_SZA, [RAMI_ftranRed_050_MED,RAMI_ftranRed_050_MED],label=[\"\" \"RAMI transmittance\"])\n",
    "ylabel!(\"Radiation Partitioning\")\n",
    "xlabel!(\"Sun Zenith Angle\")\n",
    "\n",
    "plot!(xlims = (0.0, 90.), ylims = (-0.05, 1.0), xticks = 0:20:91., yticks = 0:0.2:1.0)\n"
   ]
  },
  {
   "cell_type": "code",
   "execution_count": null,
   "metadata": {},
   "outputs": [],
   "source": [
    "#Sparse case with snowy soil\n",
    "reflRed_SZA,absRed_SZA,transRed_SZA,reflRed_clump_SZA,absRed_clump_SZA,transRed_clump_SZA=RAMI_case(0.50265, 0.9640, 0.365864235);\n"
   ]
  },
  {
   "cell_type": "code",
   "execution_count": null,
   "metadata": {},
   "outputs": [],
   "source": [
    "SZA=0:1:85\n",
    "\n",
    "plot(SZA, [reflRed_SZA, reflRed_clump_SZA],label=[\"\" \"reflectance\"] , layout = (1, 2),title=[\"050_SNW - Default\" \"Clumping\"])\n",
    "plot!(SZA, [absRed_SZA, absRed_clump_SZA] ,label=[\"\" \"absorptance\"])\n",
    "plot!(SZA, [transRed_SZA,transRed_clump_SZA],label=[\"\" \"transmittance\"])\n",
    "\n",
    "\n",
    "##Reference values\n",
    "scatter!(RAMI_SZA, [RAMI_frefRed_050_SNW,RAMI_frefRed_050_SNW],label=[\"\" \"RAMI reflectance\"])\n",
    "scatter!(RAMI_SZA, [RAMI_fabsRed_050_SNW,RAMI_fabsRed_050_SNW],label=[\"\" \"RAMI absorptance\"])\n",
    "scatter!(RAMI_SZA, [RAMI_ftranRed_050_SNW,RAMI_ftranRed_050_SNW],label=[\"\" \"RAMI transmittance\"])\n",
    "ylabel!(\"Radiation Partitioning\")\n",
    "xlabel!(\"Sun Zenith Angle\")\n",
    "\n",
    "plot!(xlims = (0.0, 90.), ylims = (-0.05, 1.0), xticks = 0:20:91., yticks = 0:0.2:1.0)"
   ]
  },
  {
   "cell_type": "code",
   "execution_count": null,
   "metadata": {},
   "outputs": [],
   "source": [
    "#Defining all reference values for the Medium case \n",
    "\n",
    "RAMI_SZA = [27.,60.,83.]\n",
    "\n",
    "\n",
    "RAMI_fabsRed_150_BLK =  [0.28137804, 0.46514268999999997, 0.89063486]\n",
    "RAMI_frefRed_150_BLK =  [0.00923676, 0.01379672, 0.02970703]\n",
    "RAMI_ftranRed_150_BLK =  [0.7093851999999999, 0.52106059, 0.07965811]\n",
    "\n",
    "RAMI_fabsRed_150_MED =  [0.31403827, 0.49003033, 0.89432051]\n",
    "RAMI_frefRed_150_MED =  [0.06195053, 0.05151941, 0.03561715]\n",
    "RAMI_ftranRed_150_MED =  [0.7104761399999999, 0.52197456, 0.07977039000000001]\n",
    "\n",
    "RAMI_fabsRed_150_SNW =  [0.5431621799999999, 0.66519762, 0.9201217300000001]\n",
    "RAMI_frefRed_150_SNW =  [0.43100610000000006, 0.31581022999999997, 0.07698033]\n",
    "RAMI_ftranRed_150_SNW =  [0.71754777, 0.52755972, 0.08049832999999999]"
   ]
  },
  {
   "cell_type": "code",
   "execution_count": null,
   "metadata": {},
   "outputs": [],
   "source": [
    "#Medium case with black soil\n",
    "reflRed_SZA,absRed_SZA,transRed_SZA,reflRed_clump_SZA,absRed_clump_SZA,transRed_clump_SZA=RAMI_case(1.5017, 0.0, 0.405417644);\n"
   ]
  },
  {
   "cell_type": "code",
   "execution_count": null,
   "metadata": {},
   "outputs": [],
   "source": [
    "SZA=0:1:85\n",
    "\n",
    "plot(SZA, [reflRed_SZA, reflRed_clump_SZA],label=[\"\" \"reflectance\"] , layout = (1, 2),title=[\"150_BLK - Default\" \"Clumping\"])\n",
    "plot!(SZA, [absRed_SZA, absRed_clump_SZA] ,label=[\"\" \"absorptance\"])\n",
    "plot!(SZA, [transRed_SZA,transRed_clump_SZA],label=[\"\" \"transmittance\"])\n",
    "\n",
    "\n",
    "##Reference values\n",
    "scatter!(RAMI_SZA, [RAMI_frefRed_150_BLK,RAMI_frefRed_150_BLK],label=[\"\" \"RAMI reflectance\"])\n",
    "scatter!(RAMI_SZA, [RAMI_fabsRed_150_BLK,RAMI_fabsRed_150_BLK],label=[\"\" \"RAMI absorptance\"])\n",
    "scatter!(RAMI_SZA, [RAMI_ftranRed_150_BLK,RAMI_ftranRed_150_BLK],label=[\"\" \"RAMI transmittance\"])\n",
    "ylabel!(\"Radiation Partitioning\")\n",
    "xlabel!(\"Sun Zenith Angle\")\n",
    "\n",
    "plot!(xlims = (0.0, 90.), ylims = (-0.05, 1.0), xticks = 0:20:91., yticks = 0:0.2:1.0)\n"
   ]
  },
  {
   "cell_type": "code",
   "execution_count": null,
   "metadata": {},
   "outputs": [],
   "source": [
    "#Medium case with medium soil\n",
    "reflRed_SZA,absRed_SZA,transRed_SZA,reflRed_clump_SZA,absRed_clump_SZA,transRed_clump_SZA=RAMI_case(1.5017, 0.1217, 0.405417644);\n"
   ]
  },
  {
   "cell_type": "code",
   "execution_count": null,
   "metadata": {},
   "outputs": [],
   "source": [
    "SZA=0:1:85\n",
    "\n",
    "plot(SZA, [reflRed_SZA, reflRed_clump_SZA],label=[\"\" \"reflectance\"] , layout = (1, 2),title=[\"150_MED - Default\" \"Clumping\"])\n",
    "plot!(SZA, [absRed_SZA, absRed_clump_SZA] ,label=[\"\" \"absorptance\"])\n",
    "plot!(SZA, [transRed_SZA,transRed_clump_SZA],label=[\"\" \"transmittance\"])\n",
    "\n",
    "\n",
    "##Reference values\n",
    "scatter!(RAMI_SZA, [RAMI_frefRed_150_MED,RAMI_frefRed_150_MED],label=[\"\" \"RAMI reflectance\"])\n",
    "scatter!(RAMI_SZA, [RAMI_fabsRed_150_MED,RAMI_fabsRed_150_MED],label=[\"\" \"RAMI absorptance\"])\n",
    "scatter!(RAMI_SZA, [RAMI_ftranRed_150_MED,RAMI_ftranRed_150_MED],label=[\"\" \"RAMI transmittance\"])\n",
    "ylabel!(\"Radiation Partitioning\")\n",
    "xlabel!(\"Sun Zenith Angle\")\n",
    "\n",
    "plot!(xlims = (0.0, 90.), ylims = (-0.05, 1.0), xticks = 0:20:91., yticks = 0:0.2:1.0)\n"
   ]
  },
  {
   "cell_type": "code",
   "execution_count": null,
   "metadata": {},
   "outputs": [],
   "source": [
    "#Medium case with black soil\n",
    "reflRed_SZA,absRed_SZA,transRed_SZA,reflRed_clump_SZA,absRed_clump_SZA,transRed_clump_SZA=RAMI_case(1.5017, 0.9640, 0.405417644);\n"
   ]
  },
  {
   "cell_type": "code",
   "execution_count": null,
   "metadata": {},
   "outputs": [],
   "source": [
    "SZA=0:1:85\n",
    "\n",
    "plot(SZA, [reflRed_SZA, reflRed_clump_SZA],label=[\"\" \"reflectance\"] , layout = (1, 2),title=[\"150_SNW - Default\" \"Clumping\"])\n",
    "plot!(SZA, [absRed_SZA, absRed_clump_SZA] ,label=[\"\" \"absorptance\"])\n",
    "plot!(SZA, [transRed_SZA,transRed_clump_SZA],label=[\"\" \"transmittance\"])\n",
    "\n",
    "\n",
    "##Reference values\n",
    "scatter!(RAMI_SZA, [RAMI_frefRed_150_SNW,RAMI_frefRed_150_SNW],label=[\"\" \"RAMI reflectance\"])\n",
    "scatter!(RAMI_SZA, [RAMI_fabsRed_150_SNW,RAMI_fabsRed_150_SNW],label=[\"\" \"RAMI absorptance\"])\n",
    "scatter!(RAMI_SZA, [RAMI_ftranRed_150_SNW,RAMI_ftranRed_150_SNW],label=[\"\" \"RAMI transmittance\"])\n",
    "ylabel!(\"Radiation Partitioning\")\n",
    "xlabel!(\"Sun Zenith Angle\")\n",
    "\n",
    "plot!(xlims = (0.0, 90.), ylims = (-0.05, 1.0), xticks = 0:20:91., yticks = 0:0.2:1.0)\n"
   ]
  },
  {
   "cell_type": "code",
   "execution_count": null,
   "metadata": {},
   "outputs": [],
   "source": [
    "#Defining all reference values for the Dense case \n",
    "\n",
    "RAMI_SZA = [27.,60.,83.]\n",
    "\n",
    "\n",
    "RAMI_fabsRed_250_BLK =  [0.46852539, 0.70426097, 0.9461774300000001]\n",
    "RAMI_frefRed_250_BLK =  [0.01445858, 0.02016963, 0.03477486]\n",
    "RAMI_ftranRed_250_BLK =  [0.51701603, 0.2755694, 0.01904771]\n",
    "\n",
    "RAMI_fabsRed_250_MED =  [0.50540545, 0.72429659, 0.94742381]\n",
    "RAMI_frefRed_250_MED =  [0.03953053, 0.03315039, 0.03580858]\n",
    "RAMI_ftranRed_250_MED =  [0.51811911, 0.27616192, 0.01909098]\n",
    "\n",
    "RAMI_fabsRed_250_SNW =  [0.76512258, 0.86538802, 0.9562473199999999]\n",
    "RAMI_frefRed_250_SNW =  [0.21595537, 0.124503, 0.043056080000000004]\n",
    "RAMI_ftranRed_250_SNW =  [0.5256125, 0.280805, 0.01935]"
   ]
  },
  {
   "cell_type": "code",
   "execution_count": null,
   "metadata": {},
   "outputs": [],
   "source": [
    "#Dense case with black soil\n",
    "reflRed_SZA,absRed_SZA,transRed_SZA,reflRed_clump_SZA,absRed_clump_SZA,transRed_clump_SZA=RAMI_case(2.5007, 0.0, 0.45946608);\n"
   ]
  },
  {
   "cell_type": "code",
   "execution_count": null,
   "metadata": {},
   "outputs": [],
   "source": [
    "SZA=0:1:85\n",
    "\n",
    "plot(SZA, [reflRed_SZA, reflRed_clump_SZA],label=[\"\" \"reflectance\"] , layout = (1, 2),title=[\"250_BLK - Default\" \"Clumping\"])\n",
    "plot!(SZA, [absRed_SZA, absRed_clump_SZA] ,label=[\"\" \"absorptance\"])\n",
    "plot!(SZA, [transRed_SZA,transRed_clump_SZA],label=[\"\" \"transmittance\"])\n",
    "\n",
    "\n",
    "##Reference values\n",
    "scatter!(RAMI_SZA, [RAMI_frefRed_250_BLK,RAMI_frefRed_250_BLK],label=[\"\" \"RAMI reflectance\"])\n",
    "scatter!(RAMI_SZA, [RAMI_fabsRed_250_BLK,RAMI_fabsRed_250_BLK],label=[\"\" \"RAMI absorptance\"])\n",
    "scatter!(RAMI_SZA, [RAMI_ftranRed_250_BLK,RAMI_ftranRed_250_BLK],label=[\"\" \"RAMI transmittance\"])\n",
    "ylabel!(\"Radiation Partitioning\")\n",
    "xlabel!(\"Sun Zenith Angle\")\n",
    "\n",
    "plot!(xlims = (0.0, 90.), ylims = (-0.05, 1.0), xticks = 0:20:91., yticks = 0:0.2:1.0)\n"
   ]
  },
  {
   "cell_type": "code",
   "execution_count": null,
   "metadata": {},
   "outputs": [],
   "source": [
    "#Medium case with medium soil\n",
    "reflRed_SZA,absRed_SZA,transRed_SZA,reflRed_clump_SZA,absRed_clump_SZA,transRed_clump_SZA=RAMI_case(2.5007, 0.1217, 0.45946608);\n"
   ]
  },
  {
   "cell_type": "code",
   "execution_count": null,
   "metadata": {},
   "outputs": [],
   "source": [
    "SZA=0:1:85\n",
    "\n",
    "plot(SZA, [reflRed_SZA, reflRed_clump_SZA],label=[\"\" \"reflectance\"] , layout = (1, 2),title=[\"250_MED - Default\" \"Clumping\"])\n",
    "plot!(SZA, [absRed_SZA, absRed_clump_SZA] ,label=[\"\" \"absorptance\"])\n",
    "plot!(SZA, [transRed_SZA,transRed_clump_SZA],label=[\"\" \"transmittance\"])\n",
    "\n",
    "\n",
    "##Reference values\n",
    "scatter!(RAMI_SZA, [RAMI_frefRed_250_MED,RAMI_frefRed_250_MED],label=[\"\" \"RAMI reflectance\"])\n",
    "scatter!(RAMI_SZA, [RAMI_fabsRed_250_MED,RAMI_fabsRed_250_MED],label=[\"\" \"RAMI absorptance\"])\n",
    "scatter!(RAMI_SZA, [RAMI_ftranRed_250_MED,RAMI_ftranRed_250_MED],label=[\"\" \"RAMI transmittance\"])\n",
    "ylabel!(\"Radiation Partitioning\")\n",
    "xlabel!(\"Sun Zenith Angle\")\n",
    "\n",
    "plot!(xlims = (0.0, 90.), ylims = (-0.05, 1.0), xticks = 0:20:91., yticks = 0:0.2:1.0)\n"
   ]
  },
  {
   "cell_type": "code",
   "execution_count": null,
   "metadata": {},
   "outputs": [],
   "source": [
    "#Dense case with snowy soil\n",
    "reflRed_SZA,absRed_SZA,transRed_SZA,reflRed_clump_SZA,absRed_clump_SZA,transRed_clump_SZA=RAMI_case(2.5007, 0.9640, 0.45946608);\n"
   ]
  },
  {
   "cell_type": "code",
   "execution_count": null,
   "metadata": {},
   "outputs": [],
   "source": [
    "SZA=0:1:85\n",
    "\n",
    "plot(SZA, [reflRed_SZA, reflRed_clump_SZA],label=[\"\" \"reflectance\"] , layout = (1, 2),title=[\"250_SNW - Default\" \"Clumping\"])\n",
    "plot!(SZA, [absRed_SZA, absRed_clump_SZA] ,label=[\"\" \"absorptance\"])\n",
    "plot!(SZA, [transRed_SZA,transRed_clump_SZA],label=[\"\" \"transmittance\"])\n",
    "\n",
    "\n",
    "##Reference values\n",
    "scatter!(RAMI_SZA, [RAMI_frefRed_250_SNW,RAMI_frefRed_250_SNW],label=[\"\" \"RAMI reflectance\"])\n",
    "scatter!(RAMI_SZA, [RAMI_fabsRed_250_SNW,RAMI_fabsRed_250_SNW],label=[\"\" \"RAMI absorptance\"])\n",
    "scatter!(RAMI_SZA, [RAMI_ftranRed_250_SNW,RAMI_ftranRed_250_SNW],label=[\"\" \"RAMI transmittance\"])\n",
    "ylabel!(\"Radiation Partitioning\")\n",
    "xlabel!(\"Sun Zenith Angle\")\n",
    "\n",
    "plot!(xlims = (0.0, 90.), ylims = (-0.05, 1.0), xticks = 0:20:91., yticks = 0:0.2:1.0)\n"
   ]
  },
  {
   "cell_type": "markdown",
   "metadata": {},
   "source": [
    "# ### Test a VZA dependence in the principal plane with clumping"
   ]
  },
  {
   "cell_type": "code",
   "execution_count": null,
   "metadata": {},
   "outputs": [],
   "source": [
    "# Define a few wavelengths:\n",
    "wl_blue = 450.0;\n",
    "wl_red = 600.0;\n",
    "wl_FarRed = 740.0;\n",
    "wl_Red = 685.0;\n",
    "ind_wle_blue  = argmin(abs.(wle .-wl_blue));\n",
    "ind_wle_red = argmin(abs.(wle .-wl_red));\n",
    "ind_wlf_FR  = argmin(abs.(wlf .-wl_FarRed));\n",
    "ind_wlf_R  = argmin(abs.(wlf .-wl_Red));\n",
    "ind_red = argmin(abs.(wl .-wl_Red));\n",
    "ind_NIR = argmin(abs.(wl .-800));\n"
   ]
  },
  {
   "cell_type": "code",
   "execution_count": null,
   "metadata": {},
   "outputs": [],
   "source": [
    "SIF_FR = Float32[]\n",
    "SIF_R = Float32[]\n",
    "reflVIS = Float32[]\n",
    "reflNIR = Float32[]\n",
    "\n",
    "## Just running the code over all geometries:\n",
    "#MED\n",
    "CanopyRT.soil.albedo_SW[:] .=0.1217;\n",
    "## Set sun SZA to 27 degrees\n",
    "CanopyRT.angles.tts=27.\n",
    "## Set 0 azimuth (principal plane)\n",
    "CanopyRT.angles.psi=0\n",
    "\n",
    "#Adding clumping \n",
    "CanopyRT.canopy.Ω = 1.0\n",
    "## LAI of 3:\n",
    "CanopyRT.canopy.LAI = 2.5007\n",
    "## Define VZA \n",
    "VZA=collect(-89.5:0.5:89.5)\n",
    "\n",
    "for VZA_ in VZA\n",
    "    CanopyRT.angles.tto=VZA_\n",
    "    CanopyRT.computeCanopyGeomProps!(canopy, angles,canOpt);\n",
    "    CanopyRT.computeCanopyMatrices!(arrayOfLeaves,canOpt);\n",
    "    CanopyRT.RTM_SW!(canopy, canOpt, canRad,sunRad, CanopyRT.soil);\n",
    "    CanopyRT.computeSIF_Fluxes!(arrayOfLeaves, canOpt, canRad, canopy, CanopyRT.soil);\n",
    "    ## Handpicked indices in \n",
    "    push!(reflVIS, canRad.alb_obs[ind_red])\n",
    "    push!(reflNIR, canRad.alb_obs[ind_NIR])\n",
    "    push!(SIF_R , canRad.SIF_obs[ind_wlf_R])\n",
    "    push!(SIF_FR, canRad.SIF_obs[ind_wlf_FR ])\n",
    "end\n",
    "\n",
    "\n",
    "#Adding clumping \n",
    "CanopyRT.canopy.Ω = 0.45946608\n",
    "\n",
    "SIF_FR_clump = Float32[]\n",
    "SIF_R_clump = Float32[]\n",
    "reflVIS_clump = Float32[]\n",
    "reflNIR_clump = Float32[]\n",
    "\n",
    "\n",
    "for VZA_ in VZA\n",
    "    CanopyRT.angles.tto=VZA_\n",
    "    CanopyRT.computeCanopyGeomProps!(canopy, angles,canOpt);\n",
    "    CanopyRT.computeCanopyMatrices!(arrayOfLeaves,canOpt);\n",
    "    CanopyRT.RTM_SW!(canopy, canOpt, canRad,sunRad, CanopyRT.soil);\n",
    "    CanopyRT.computeSIF_Fluxes!(arrayOfLeaves, canOpt, canRad, canopy, CanopyRT.soil);\n",
    "    ## Handpicked indices in \n",
    "    push!(reflVIS_clump, canRad.alb_obs[ind_red])\n",
    "    push!(reflNIR_clump, canRad.alb_obs[ind_NIR])\n",
    "    push!(SIF_R_clump , canRad.SIF_obs[ind_wlf_R])\n",
    "    push!(SIF_FR_clump, canRad.SIF_obs[ind_wlf_FR ])\n",
    "end"
   ]
  },
  {
   "cell_type": "code",
   "execution_count": null,
   "metadata": {},
   "outputs": [],
   "source": [
    "## Plots Visible \n",
    "plot(VZA, reflVIS, color=[:black],label=\"Red Reflectance\", lw=2)\n",
    "plot!(VZA, SIF_R/30, color=[:orange],label=\"Red SIF (/30)\", lw=2)\n",
    "plot!(VZA, reflVIS_clump, color=[:black], line=(:dash,2),label=\"Red Reflectance w/ Clumping\", lw=2)\n",
    "plot!(VZA, SIF_R_clump/30, color=[:orange], line=(:dash,2),label=\"Red SIF (/30) w/ Clumping\", lw=2)\n",
    "xlabel!(\"Viewing Zenith Angle\")"
   ]
  },
  {
   "cell_type": "code",
   "execution_count": null,
   "metadata": {},
   "outputs": [],
   "source": [
    "## Plots Visible \n",
    "plot(VZA, reflNIR, color=[:black],label=\"NIR Reflectance\", lw=2)\n",
    "plot!(VZA, SIF_FR/6, color=[:orange],label=\"Far Red SIF (/6)\", lw=2)\n",
    "plot!(VZA, reflNIR_clump, color=[:black], line=(:dash,2),label=\"NIR Reflectance w/ Clumping\", lw=2)\n",
    "plot!(VZA, SIF_FR_clump/6, color=[:orange], line=(:dash,2),label=\"Far Red SIF (/6) w/ Clumping\", lw=2)\n",
    "xlabel!(\"Viewing Zenith Angle\")"
   ]
  },
  {
   "cell_type": "markdown",
   "metadata": {},
   "source": [
    "# ## BRDF sampling\n",
    "\n",
    "By going through viewing and azimuth angles, we can construct a full BRDF for reflectance and SIF emissions at different wavelengths:\n"
   ]
  },
  {
   "cell_type": "code",
   "execution_count": null,
   "metadata": {},
   "outputs": [],
   "source": [
    "reflVIS = Float32[]\n",
    "reflNIR = Float32[]\n",
    "SIF_FR = Float32[]\n",
    "SIF_R  = Float32[]\n",
    "\n",
    "#MED\n",
    "CanopyRT.soil.albedo_SW[:] .=0.1217;\n",
    "CanopyRT.angles.tts=27.\n",
    "CanopyRT.angles.psi=0\n",
    "CanopyRT.canopy.LAI=2.5007\n",
    "CanopyRT.canopy.Ω = 1.0\n",
    "for psi=0:360\n",
    "    CanopyRT.angles.psi=psi\n",
    "    for VZA=0:1:85\n",
    "        CanopyRT.angles.tto=VZA\n",
    "\n",
    "        CanopyRT.computeCanopyGeomProps!(canopy, angles,canOpt);\n",
    "        CanopyRT.computeCanopyMatrices!(arrayOfLeaves,canOpt);\n",
    "        CanopyRT.RTM_SW!(canopy, canOpt, canRad,sunRad, CanopyRT.soil);\n",
    "        CanopyRT.computeSIF_Fluxes!(arrayOfLeaves, canOpt, canRad, canopy, CanopyRT.soil);\n",
    "        push!(reflVIS, canRad.alb_obs[28])\n",
    "        push!(reflNIR, canRad.alb_obs[52])\n",
    "        push!(SIF_R , canRad.SIF_obs[8])\n",
    "        push!(SIF_FR, canRad.SIF_obs[20])\n",
    "    end\n",
    "end\n",
    "\n",
    "#Adding clumping \n",
    "CanopyRT.canopy.Ω = 0.45946608\n",
    "\n",
    "SIF_FR_clump = Float32[]\n",
    "SIF_R_clump = Float32[]\n",
    "reflVIS_clump = Float32[]\n",
    "reflNIR_clump = Float32[]\n",
    "\n",
    "for psi=0:360\n",
    "    CanopyRT.angles.psi=psi\n",
    "    for VZA=0:1:85\n",
    "        CanopyRT.angles.tto=VZA\n",
    "\n",
    "        CanopyRT.computeCanopyGeomProps!(canopy, angles,canOpt);\n",
    "        CanopyRT.computeCanopyMatrices!(arrayOfLeaves,canOpt);\n",
    "        CanopyRT.RTM_SW!(canopy, canOpt, canRad,sunRad, CanopyRT.soil);\n",
    "        CanopyRT.computeSIF_Fluxes!(arrayOfLeaves, canOpt, canRad, canopy, CanopyRT.soil);\n",
    "        push!(reflVIS_clump, canRad.alb_obs[28])\n",
    "        push!(reflNIR_clump, canRad.alb_obs[52])\n",
    "        push!(SIF_R_clump , canRad.SIF_obs[8])\n",
    "        push!(SIF_FR_clump, canRad.SIF_obs[20])\n",
    "    end\n",
    "end\n",
    "\n"
   ]
  },
  {
   "cell_type": "code",
   "execution_count": null,
   "metadata": {},
   "outputs": [],
   "source": [
    "A = reshape(reflNIR, ( 86,361));\n",
    "B = reshape(reflVIS, ( 86,361));\n",
    "SIFFER = reshape(SIF_R, ( 86,361));\n",
    "SIFFER_FR = reshape(SIF_FR, ( 86,361));\n",
    "\n",
    "A_clump = reshape(reflNIR_clump, ( 86,361));\n",
    "B_clump = reshape(reflVIS_clump, ( 86,361));\n",
    "SIFFER_clump = reshape(SIF_R_clump, ( 86,361));\n",
    "SIFFER_FR_clump = reshape(SIF_FR_clump, ( 86,361));"
   ]
  },
  {
   "cell_type": "code",
   "execution_count": null,
   "metadata": {},
   "outputs": [],
   "source": [
    "\n",
    "hm = contourf(deg2rad.(collect((0:360))),collect(0:1:85),  [A,A_clump],  proj=:polar, color=:viridis, alpha=0.5,levels=collect(0.25:0.012:0.5),layout = (1, 2),title=[\"NIR reflectance BRDF\" \"Clumping\"])\n"
   ]
  },
  {
   "cell_type": "code",
   "execution_count": null,
   "metadata": {},
   "outputs": [],
   "source": [
    "hm = contourf(deg2rad.(collect((0:360))),collect(0:1:85),  [B,B_clump],  proj=:polar, color=:viridis, alpha=0.5,levels=collect(0.0:0.005:0.045),layout = (1, 2),title=[\"Red reflectance BRDF\" \"Clumping\"])\n"
   ]
  },
  {
   "cell_type": "code",
   "execution_count": null,
   "metadata": {},
   "outputs": [],
   "source": [
    "hm = contourf(deg2rad.(collect((0:360))),collect(0:1:85),  [SIFFER,SIFFER_clump],  proj=:polar, color=:viridis, alpha=0.5,levels=collect(0.3:0.05:0.8),layout = (1, 2),title=[\"Red SIF emission BRDF\" \"Clumping\"])\n"
   ]
  },
  {
   "cell_type": "code",
   "execution_count": null,
   "metadata": {},
   "outputs": [],
   "source": [
    "hm = contourf(deg2rad.(collect((0:360))),collect(0:1:85),  [SIFFER_FR,SIFFER_FR_clump],  proj=:polar, color=:viridis, alpha=0.5,levels=collect(1.:0.1:3.5),layout = (1, 2),title=[\"Red SIF emission BRDF\" \"Clumping\"])\n"
   ]
  }
 ],
 "metadata": {
  "kernelspec": {
   "display_name": "Julia 1.3.1",
   "language": "julia",
   "name": "julia-1.3"
  },
  "language_info": {
   "file_extension": ".jl",
   "mimetype": "application/julia",
   "name": "julia",
   "version": "1.3.1"
  }
 },
 "nbformat": 4,
 "nbformat_minor": 4
}
