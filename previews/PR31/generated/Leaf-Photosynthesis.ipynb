{
 "cells": [
  {
   "cell_type": "markdown",
   "source": [
    "# Leaf Photosynthesis Basics\n",
    "This tutorial will walk you through the most basic aspects of how we implement Photosynthesis at the leaf level. Most of the concepts are described in the literature, with the first quantitative approach to modeling photosynthesis given in Farquhar, von Caemmerer and Berry[^1] in their seminal 1980 paper for C3 photosynthesis. C4 photosynthesis is largely based on Collatz et al[^2] but we approach the photosynthesis modeling with a rather generic approach that facilitates the application of different photosynthesis modeling approaches without changing the core code base. A good overview on the entire process of photosynthesis and different parameterizations can be found in Bonan[^3].\n",
    "\n",
    "At the core of both C3 and C4 photosynthesis is an enzyme catalyzed reaction of ribulose-1,5-bisphosphate (RuBP) with\n",
    "CO$_2$, yielding two 3-carbon compounds (phosphoglycerate (PGA)) as the initial products of photosynthesis. The enzyme RuBP carboxylase/oxygenase (Rubisco) catalyzes this reaction. With the regeneration of the substrate RuBP through the light reactions (using produced ATP and NADPH), the core cycle of photosynthesis is formed. This cycle was discovered in 1950 by Melvin Calvin, James Bassham, and Andrew Benson at the University of California, Berkeley[^4][^5] by using the radioactive isotope carbon-14.\n",
    "\n",
    "An oxygenation step of RuBP releases half a CO$_2$. This so called photorespiration process results in inefficiencies in C3 photosynthesis, as both CO$_2$ and O$_2$ compete at the Rubisco site. The overall photosynthetic rate of the enzyme-catalyzed turnover rates at the Rubisco site thus determine the overall photosynthesis\n",
    "\n",
    "$$A_n = V_c - 0.5V_o - R_d\\,,$$\n",
    "\n",
    "with $V_c$ being the carboxylation rate, $V_o$ the oxygenation rate and $R_d$ the mitochondrial respiration. Both rates follow Michaelis-Menten kinetics, accounting for the competing substrate effects:\n",
    "\n",
    "$$V_c = \\frac{V_{c,max}C_c}{C_c+K_c(1+O_c/K_o)}$$\n",
    "\n",
    "$$V_o = \\frac{V_{o,max}O_c}{O_c+K_o(1+C_c/K_c)}\\,$$\n",
    "\n",
    "with $K_c$ and $K_o$ being the Michaelis Menten constants for CO$_2$ and O$_2$, $C_c$ and $O_c$ the partial pressures of CO$_2$ and O$_2$ at the Rubisco site.\n",
    "\n",
    "The ratio of oxygenation to carboxylation rates is\n",
    "\n",
    "$$\\phi = \\frac{V_o}{V_c} = \\frac{V_{o,max}K_c}{V_{c,max}K_o}\\frac{O_c}{C_c}\\,$$\n",
    "\n",
    "which yields the CO$_2$ compensation point $\\Gamma_\\star$:\n",
    "\n",
    "$$\\Gamma_\\star = 0.5\\frac{V_{o,max}K_c}{V_{c,max}K_o}O_c\\,$$\n",
    "\n",
    "with is the internal CO$_2$ partial pressure at which oxygenation and carboxylation cancel each other out in terms of CO$_2$ consumption and production (neglecting $R_d$).\n",
    "\n",
    "\n",
    "\n",
    "\n",
    "[^1]: Farquhar, G.D., von Caemmerer, S.V. and Berry, J.A., 1980. A biochemical model of photosynthetic CO$_2$ assimilation in leaves of C3 species. Planta, 149(1), pp.78-90.\n",
    "\n",
    "[^2]: Collatz, G.J., Ribas-Carbo, M. and Berry, J.A., 1992. Coupled photosynthesis-stomatal conductance model for leaves of C4 plants. Functional Plant Biology, 19(5), pp.519-538.\n",
    "\n",
    "[^3]: Bonan, G., 2019. Climate change and terrestrial ecosystem modeling. Cambridge University Press.\n",
    "\n",
    "[^4]: Calvin, Melvin, and Andrew Alm Benson. \"The path of carbon in photosynthesis IV: the identity and sequence of the intermediates in sucrose synthesis.\" Science 109, no. 2824 (1949): 140-142.\n",
    "\n",
    "[^5]: Benson, A.A., Bassham, J.A., Calvin, M., Goodale, T.C., Haas, V.A. and Stepka, W., 1950. The path of carbon in photosynthesis. v. paper chromatography and radioautography of the products1. Journal of the American Chemical Society, 72(4), pp.1710-1718."
   ],
   "metadata": {}
  },
  {
   "cell_type": "markdown",
   "source": [
    "## Rate Limiting Steps for photosynthesis\n",
    "\n",
    "### Rubisco-limited rates:\n",
    "The net photosynthetic rate limited by Rubisco when RuBP re-generation is not constraining can thus be described as\n",
    "\n",
    "$$A_n = \\left(1-\\frac{\\Gamma_\\star}{C_c}\\right)V_c-R_d\\,$$\n",
    "\n",
    "which equals (now denoting $A_c$ as the Rubisco limited rate):\n",
    "\n",
    "$$A_c = \\frac{(C_c-\\Gamma_\\star) V_{c,max}}{C_c+K_c(1+O_c/K_o)}\\,$$\n",
    "\n",
    "which is implemented in our routines \"rubisco_limited_rate!\".\n",
    "\n",
    "### RuBP-regeration limited rates (light-limited):\n",
    "\n",
    "RuBP is regenerated via the ligh reaction, which generates ATP and NADP to power this part of the Calvin-Benson-Bassham cycle. Without going into details of the NADPH or ATP requirements for regeneration, the rate of RuBP limited photosynthesis through light-powered electron transport $J$ (µmol/m$^2$/s) is given as\n",
    "\n",
    "$$A_j = \\underbrace{\\frac{C_c-\\Gamma_\\star}{Cc}}_{\\text{loss in photorespiration}}\\underbrace{\\frac{J\\,C_c}{4C_c+8\\Gamma_\\star}}_{\\text{RuBP regeneration}} = \\frac{J(C_c-\\Gamma_\\star)}{4C_c+8\\Gamma_\\star}\\,$$\n",
    "\n",
    "One can already see what the key difference between C3 and C4 photosynthesis is based on these set of equation for rubisco turnover and RuBP-regeneration limited rates. In C4 photosynthesis, $C_c$ is typically only about 70% of the ambient CO$_2$ concentration as CO$_2$ has to diffuse through stomata and the mesophyll. For C4, a carbon accumulation mechanism uses a four-carbon organic acid (hence C4) to transport CO$_2$ from the mesophyll cells to the bundle sheath cells, where the reaction with Rubisco takes place. This leads to much higher $C_c$ for C4 plants ($>>$ than ambient air CO$_2$), which is often simplified for $A_c$ as the limit of C3 equation with $\\lim_{C_c \\to \\infty}$ Ac(C3):\n",
    "\n",
    "$$A_c^{C4} = V_{c,max}$$\n",
    "\n",
    "Similarly, the RuBP-regeneration limited rate simplifies to:\n",
    "\n",
    "$$A_j^{C4} = \\alpha J$$\n",
    "\n",
    "with a slightly lower efficiency $\\alpha$ for C4 photosynthesis compared to C3 (as the carbon accumulation mechanism also consumes ATP). In reality, the situation is somewhat more complex and there are different approximations for Rubisco and RuBP limited rate constants. A comprehensive overview is described in von Caemmerer [^6]. Again, our goal is to provide a flexible framework for photosynthesis modeling, so different implementations of rate limiting steps $A_c,A_j$ can be used in a modular framework (achieved through code abstraction and multiple dispatch in Julia).\n",
    "\n",
    "### Electron Transport Rate $J$\n",
    "\n",
    "The rate of electron transport is driven by absorbed photosynthetically absorbed radiation (APAR, $\\mu mol/m^2/s$) by Photosystem II (PSII). With our leaf level optical model, we already compute the efficiency of absorbtion by leaves depending on pigment contents. We define $\\varphi_{PSII}$ as the quantum yield of photosystem II (maxima about 0.83) and $f_{PSII}$ the fraction of light used for PSII (PSII/(PSI+PSII)), typically assume to be 0.5.\n",
    "\n",
    "$$J_{PSII} = f_{PSII} \\varphi_{PSII} APAR$$\n",
    "\n",
    "In most models, a maximum electron transport $J_{max}$ rate is assumed and the actual electron trapsort rate $J_a$ is defined as the lower root of the quadratic expression\n",
    "\n",
    "$$\\Theta_j J_a^2 -(J_{PSII}+J_{max})+ J_{PSII}J_{max} = 0$$\n",
    "\n",
    "where $\\Theta_j$ is a curvature parameter to assure a smooth transition.\n",
    "\n",
    "### Product limited rates:\n",
    "\n",
    "Typically, a thrid limitation of photosynthesis is being used as well, which we denote as product limited rate here, even though the processes for C3 and C4 plants differ. Typically, the export of the products of photosynthesis (triose phosphates) in the synthesis of sugars can be rate limiting, which is often parameterized by $V_{c,max}$:\n",
    "\n",
    "$$A_p = a V_{c,max}\\,,$$\n",
    "\n",
    "where our standard definition for C3 used a=0.5, which rarely limits photosynthesis compared to $A_c$ and $A_j$.\n",
    "\n",
    "For C4 plants, we use the PEP-carboxylase CO$_2$ concentration mechanism into the bundle sheath cell as product limited rate step, using Michaelis-Menten kinetics:\n",
    "\n",
    "$$A_p^{C4} = \\frac{V_{p,max}C_c}{C_c + K_p}$$\n",
    "\n",
    "with corresponding Michaelis Menten constant $K_p$ and maximal rates $V_{p,max}$.\n",
    "\n",
    "\n",
    "### Total rate:\n",
    "\n",
    "The gross photosynthetic rate $A_g$ can then be define as the mininum of all possible limitations:\n",
    "\n",
    "$$A_g = min(Ac,Aj,Ap)$$\n",
    "\n",
    "or, alternatively, using quadratic equations as for $J$, which provides smoother transitions and co-limitation to some degree (both are options in our setup with a user defined curvature parameter $\\Theta$.\n",
    "\n",
    "Net leaf photosynthesis includes mitochondrial respiration as well:\n",
    "\n",
    "$$A_n = A_g - R_d$$\n",
    "\n",
    "[^6]: Von Caemmerer, S., 2000. Biochemical models of leaf photosynthesis. Csiro publishing."
   ],
   "metadata": {}
  },
  {
   "cell_type": "markdown",
   "source": [
    "## Simple example:\n",
    "We just want to lay out a first simple example as to how our model setup work:"
   ],
   "metadata": {}
  },
  {
   "outputs": [],
   "cell_type": "code",
   "source": [
    "# Loading the Photosynthesis model:\n",
    "using Land.Photosynthesis\n",
    "# Defining our Field Type (we can easily switch between Double and Float precision this way)\n",
    "const FT = Float32;"
   ],
   "metadata": {},
   "execution_count": 1
  },
  {
   "outputs": [],
   "cell_type": "code",
   "source": [
    "# Create a standard leaf with defualt parameters\n",
    "leaf = Leaf{FT}();\n",
    "\n",
    "# Create a standard meteo structure:\n",
    "envir = AirLayer{FT}();"
   ],
   "metadata": {},
   "execution_count": 2
  },
  {
   "cell_type": "markdown",
   "source": [
    "----\n",
    "How to use the documentation, what do we know about leaf_params, which stores most physiologically relevant parameters. (Not printed here, try in the command line! Type in, do not copy and paste!)."
   ],
   "metadata": {}
  },
  {
   "outputs": [],
   "cell_type": "code",
   "source": [
    "##?LeafParams"
   ],
   "metadata": {},
   "execution_count": 3
  },
  {
   "outputs": [],
   "cell_type": "code",
   "source": [
    "##?MeteoParams"
   ],
   "metadata": {},
   "execution_count": 4
  },
  {
   "cell_type": "markdown",
   "source": [
    "### Defining the model setup\n",
    "The most important step is to define which submodules to use. There might be different implementations for Fluorescence, Photosynthesis (C3,C4,etc), respiration, stomatal conductance (e.g. Ball-Berry, Medlyn), the T-dependence of J$_{max}$, V$_{c,max}$ and Michaelis Menten constants as well as leaf boundary layer resistance (setting it to 0 here to mimic well vented laboratory leaf level measurements) and colimitation."
   ],
   "metadata": {}
  },
  {
   "outputs": [],
   "cell_type": "code",
   "source": [
    "##Here, we just have to worry abou the photosynthesis module, which we set here:\n",
    "#mod_photo = C3FvCBPhoto()\n",
    "\n",
    "# All modules here:\n",
    "const photo_set = C3CLM(FT);"
   ],
   "metadata": {},
   "execution_count": 5
  },
  {
   "outputs": [
    {
     "name": "stdout",
     "output_type": "stream",
     "text": [
      "(leaf.Vcmax, leaf.Vcmax25) = (33.269394f0, 60.0f0)\n"
     ]
    }
   ],
   "cell_type": "code",
   "source": [
    "# Set APAR to 250 $\\mu mol/m^2/s$\n",
    "leaf.APAR = 250;\n",
    "# Set temperature to 290K\n",
    "leaf.T = 290;\n",
    "# Applying the T-correction for all the rate constants\n",
    "leaf_temperature_dependence!(photo_set, leaf, envir);\n",
    "@show leaf.Vcmax, leaf.Vcmax25;"
   ],
   "metadata": {},
   "execution_count": 6
  },
  {
   "outputs": [
    {
     "name": "stdout",
     "output_type": "stream",
     "text": [
      "(leaf.Jmax, leaf.Jmax25) = (85.18405f0, 120.0f0)\n"
     ]
    }
   ],
   "cell_type": "code",
   "source": [
    "@show leaf.Jmax, leaf.Jmax25;"
   ],
   "metadata": {},
   "execution_count": 7
  },
  {
   "outputs": [
    {
     "name": "stdout",
     "output_type": "stream",
     "text": [
      "leaf.Ac = 15.233277f0\n"
     ]
    }
   ],
   "cell_type": "code",
   "source": [
    "# Specify Cc directly here in Pa\n",
    "leaf.p_i = 35;\n",
    "# update radiation dependent values first, like ETR\n",
    "leaf_photo_from_pi!(photo_set, leaf, envir);\n",
    "@show leaf.Ac;"
   ],
   "metadata": {},
   "execution_count": 8
  },
  {
   "outputs": [
    {
     "name": "stdout",
     "output_type": "stream",
     "text": [
      "leaf.Aj = 16.54324f0\n"
     ]
    }
   ],
   "cell_type": "code",
   "source": [
    "@show leaf.Aj;"
   ],
   "metadata": {},
   "execution_count": 9
  },
  {
   "outputs": [
    {
     "name": "stdout",
     "output_type": "stream",
     "text": [
      "leaf.Ap = 16.634697f0\n"
     ]
    }
   ],
   "cell_type": "code",
   "source": [
    "@show leaf.Ap;"
   ],
   "metadata": {},
   "execution_count": 10
  },
  {
   "outputs": [
    {
     "name": "stdout",
     "output_type": "stream",
     "text": [
      "leaf.An = 14.567422f0\n"
     ]
    }
   ],
   "cell_type": "code",
   "source": [
    "@show leaf.An;"
   ],
   "metadata": {},
   "execution_count": 11
  },
  {
   "cell_type": "markdown",
   "source": [
    "----\n",
    "### Summary\n",
    "This was the simplest example to compute A$_c$, A$_j$ and A$_p$ with a specified C$_c$ and APAR. In reality, C$_c$ is defined by the interplay of photosynthetic demand and the supply through diffusion through stomata and the mesophyll. However, you can easily exchange the photosynthesis model above with C4FvCBPhoto(). You can also play around with leaf temperature T and APAR as well as $C_c$. But remember to use the right function."
   ],
   "metadata": {}
  },
  {
   "outputs": [],
   "cell_type": "code",
   "source": [
    "#?Leaf"
   ],
   "metadata": {},
   "execution_count": 12
  },
  {
   "cell_type": "markdown",
   "source": [
    "---\n",
    "\n",
    "*This notebook was generated using [Literate.jl](https://github.com/fredrikekre/Literate.jl).*"
   ],
   "metadata": {}
  }
 ],
 "nbformat_minor": 3,
 "metadata": {
  "language_info": {
   "file_extension": ".jl",
   "mimetype": "application/julia",
   "name": "julia",
   "version": "1.3.1"
  },
  "kernelspec": {
   "name": "julia-1.3",
   "display_name": "Julia 1.3.1",
   "language": "julia"
  }
 },
 "nbformat": 4
}
