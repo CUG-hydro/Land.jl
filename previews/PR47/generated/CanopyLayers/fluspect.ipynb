{
 "cells": [
  {
   "cell_type": "markdown",
   "source": [
    "# Fluspect"
   ],
   "metadata": {}
  },
  {
   "outputs": [],
   "cell_type": "code",
   "source": [
    "# load packages\n",
    "using Land.CanopyLayers\n",
    "using PlotPlants\n",
    "FT = Float32;"
   ],
   "metadata": {},
   "execution_count": null
  },
  {
   "cell_type": "markdown",
   "source": [
    "## Excitation wavelength"
   ],
   "metadata": {}
  },
  {
   "outputs": [],
   "cell_type": "code",
   "source": [
    "wls    = create_wave_length(FT);\n",
    "can    = create_canopy_rt(FT);\n",
    "rt_dim = create_rt_dims(can, wls);\n",
    "leaf   = create_leaf_bios(FT, rt_dim);\n",
    "fluspect!(leaf, wls);\n",
    "\n",
    "_fig,_axes = create_canvas(\"Fluspect example\"; ncol=3);\n",
    "_ax1,_ax2,_ax3 = _axes;\n",
    "_ax1.plot(wls.WL, leaf.ρ_SW, \"k-\", label=\"Reflectance\");\n",
    "_ax1.plot(wls.WL, leaf.τ_SW, \"k:\", label=\"Transmittance\");\n",
    "_ax2.contourf(wls.WLE, wls.WLF, leaf.Mb);\n",
    "_ax3.contourf(wls.WLE, wls.WLF, leaf.Mf);\n",
    "_ax1.legend(loc=\"upper right\");\n",
    "_ax1.set_ylim(0,0.65);\n",
    "set_xlabels!(_axes, [\"Wavelength (nm)\", \"Excitation wavelength (nm)\",\n",
    "                     \"Excitation wavelength (nm)\"], fontsize=12);\n",
    "set_ylabels!(_axes, [\"Reflectance or Transmittance\", \"SIF wavelength (nm)\",\n",
    "                     \"SIF wavelength (nm)\"], fontsize=12);\n",
    "set_titles!(_axes; labels=[\"Spectrum\", \"Backward matrix\", \"Forward matrix\"],\n",
    "                   usetex=false);\n",
    "_fig.set_tight_layout(true);\n",
    "_fig"
   ],
   "metadata": {},
   "execution_count": null
  },
  {
   "cell_type": "markdown",
   "source": [
    "## Change leaf properties"
   ],
   "metadata": {}
  },
  {
   "outputs": [],
   "cell_type": "code",
   "source": [
    "# here we change all the properties at the same time as an example\n",
    "leaf.N   = 2.0;\n",
    "leaf.Cab = 50.0;\n",
    "leaf.Car = 15.0;\n",
    "leaf.Ant = 0.1;\n",
    "leaf.Cs  = 0.1;\n",
    "leaf.Cw  = 0.02;\n",
    "leaf.Cm  = 0.02;\n",
    "leaf.Cx  = 0.1;\n",
    "leaf.fqe = 0.8;\n",
    "fluspect!(leaf, wls);\n",
    "\n",
    "_fig,_axes = create_canvas(\"Change leaf properties\"; ncol=3);\n",
    "_ax1,_ax2,_ax3 = _axes;\n",
    "_ax1.plot(wls.WL, leaf.ρ_SW, \"k-\", label=\"Reflectance\");\n",
    "_ax1.plot(wls.WL, leaf.τ_SW, \"k:\", label=\"Transmittance\");\n",
    "_ax2.contourf(wls.WLE, wls.WLF, leaf.Mb);\n",
    "_ax3.contourf(wls.WLE, wls.WLF, leaf.Mf);\n",
    "_ax1.legend(loc=\"upper right\");\n",
    "_ax1.set_ylim(0,0.65);\n",
    "set_xlabels!(_axes, [\"Wavelength (nm)\", \"Excitation wavelength (nm)\",\n",
    "                     \"Excitation wavelength (nm)\"], fontsize=12);\n",
    "set_ylabels!(_axes, [\"Reflectance or Transmittance\", \"SIF wavelength (nm)\",\n",
    "                     \"SIF wavelength (nm)\"], fontsize=12);\n",
    "set_titles!(_axes; labels=[\"Spectrum\", \"Backward matrix\", \"Forward matrix\"],\n",
    "                   usetex=false);\n",
    "_fig.set_tight_layout(true);\n",
    "_fig"
   ],
   "metadata": {},
   "execution_count": null
  },
  {
   "cell_type": "markdown",
   "source": [
    "---\n",
    "\n",
    "*This notebook was generated using [Literate.jl](https://github.com/fredrikekre/Literate.jl).*"
   ],
   "metadata": {}
  }
 ],
 "nbformat_minor": 3,
 "metadata": {
  "language_info": {
   "file_extension": ".jl",
   "mimetype": "application/julia",
   "name": "julia",
   "version": "1.6.0"
  },
  "kernelspec": {
   "name": "julia-1.6",
   "display_name": "Julia 1.6.0",
   "language": "julia"
  }
 },
 "nbformat": 4
}
