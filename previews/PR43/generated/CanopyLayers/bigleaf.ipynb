{
 "cells": [
  {
   "cell_type": "markdown",
   "source": [
    "# Big Leaf Model"
   ],
   "metadata": {}
  },
  {
   "outputs": [],
   "cell_type": "code",
   "source": [
    "# load packages\n",
    "using CanopyLayers\n",
    "using PlotPlants\n",
    "FT = Float32;"
   ],
   "metadata": {},
   "execution_count": null
  },
  {
   "cell_type": "markdown",
   "source": [
    "## Sunlit and shaded layers\n",
    "### vs. leaf area index"
   ],
   "metadata": {}
  },
  {
   "outputs": [],
   "cell_type": "code",
   "source": [
    "lais   = collect(FT, 0.1:0.1:5.0);\n",
    "lai_sl = similar(lais);\n",
    "par_sl = similar(lais); par_sh = similar(lais);\n",
    "rad_sl = similar(lais); rad_sh = similar(lais);\n",
    "for i in eachindex(lais)\n",
    "    lai_sl[i], par_sl[i], par_sh[i], rad_sl[i], rad_sh[i] =\n",
    "        big_leaf_partition(lais[i], FT(30), FT(800));\n",
    "end\n",
    "\n",
    "_fig,_axes = create_canvas(\"vs LAI\"; ncol=3);\n",
    "_ax1,_ax2,_ax3 = _axes;\n",
    "_ax1.plot(lais, lai_sl, \"k-\");\n",
    "_ax2.plot(lais, par_sl, \"k-\", label=\"Sunlit\");\n",
    "_ax2.plot(lais, par_sh, \"k:\", label=\"Shaded\");\n",
    "_ax3.plot(lais, rad_sl, \"k-\", label=\"Sunlit\");\n",
    "_ax3.plot(lais, rad_sh, \"k:\", label=\"Shaded\");\n",
    "_ax2.legend(loc=\"upper right\");\n",
    "_ax3.legend(loc=\"upper right\");\n",
    "set_xlabels!(_axes, [\"Leaf area index\" for i in 1:3]);\n",
    "set_ylabels!(_axes, [\"Sunlit fraction\", \"PAR (μmol m⁻² s⁻¹)\", \"Rabs (W m⁻²)\"]);\n",
    "_fig.set_tight_layout(true);\n",
    "_fig"
   ],
   "metadata": {},
   "execution_count": null
  },
  {
   "cell_type": "markdown",
   "source": [
    "### vs. zenith angle"
   ],
   "metadata": {}
  },
  {
   "outputs": [],
   "cell_type": "code",
   "source": [
    "angles = collect(FT, 5:5:75);\n",
    "lai_sl = similar(angles);\n",
    "par_sl = similar(angles); par_sh = similar(angles);\n",
    "rad_sl = similar(angles); rad_sh = similar(angles);\n",
    "for i in eachindex(angles)\n",
    "    lai_sl[i], par_sl[i], par_sh[i], rad_sl[i], rad_sh[i] =\n",
    "        big_leaf_partition(FT(3), angles[i], FT(800));\n",
    "end\n",
    "\n",
    "_fig,_axes = create_canvas(\"vs Zenith angle\"; ncol=3);\n",
    "_ax1,_ax2,_ax3 = _axes;\n",
    "_ax1.plot(angles, lai_sl, \"k-\");\n",
    "_ax2.plot(angles, par_sl, \"k-\", label=\"Sunlit\");\n",
    "_ax2.plot(angles, par_sh, \"k:\", label=\"Shaded\");\n",
    "_ax3.plot(angles, rad_sl, \"k-\", label=\"Sunlit\");\n",
    "_ax3.plot(angles, rad_sh, \"k:\", label=\"Shaded\");\n",
    "_ax2.legend(loc=\"upper left\");\n",
    "_ax3.legend(loc=\"upper left\");\n",
    "set_xlabels!(_axes, [\"Zenith angle (°)\" for i in 1:3]);\n",
    "set_ylabels!(_axes, [\"Sunlit fraction\", \"PAR (μmol m⁻² s⁻¹)\", \"Rabs (W m⁻²)\"]);\n",
    "_fig.set_tight_layout(true);\n",
    "_fig"
   ],
   "metadata": {},
   "execution_count": null
  },
  {
   "cell_type": "markdown",
   "source": [
    "### vs. total radiation"
   ],
   "metadata": {}
  },
  {
   "outputs": [],
   "cell_type": "code",
   "source": [
    "rads   = collect(FT, 50:50:1000);\n",
    "lai_sl = similar(rads);\n",
    "par_sl = similar(rads); par_sh = similar(rads);\n",
    "rad_sl = similar(rads); rad_sh = similar(rads);\n",
    "for i in eachindex(rads)\n",
    "    lai_sl[i], par_sl[i], par_sh[i], rad_sl[i], rad_sh[i] =\n",
    "        big_leaf_partition(FT(3), FT(30), rads[i]);\n",
    "end\n",
    "\n",
    "_fig,_axes = create_canvas(\"vs Total radiation\"; ncol=3);\n",
    "_ax1,_ax2,_ax3 = _axes;\n",
    "_ax1.plot(rads, lai_sl, \"k-\");\n",
    "_ax2.plot(rads, par_sl, \"k-\", label=\"Sunlit\");\n",
    "_ax2.plot(rads, par_sh, \"k:\", label=\"Shaded\");\n",
    "_ax3.plot(rads, rad_sl, \"k-\", label=\"Sunlit\");\n",
    "_ax3.plot(rads, rad_sh, \"k:\", label=\"Shaded\");\n",
    "_ax2.legend(loc=\"upper left\");\n",
    "_ax3.legend(loc=\"upper left\");\n",
    "set_xlabels!(_axes, [\"Total radiation (W m⁻²)\" for i in 1:3]);\n",
    "set_ylabels!(_axes, [\"Sunlit fraction\", \"PAR (μmol m⁻² s⁻¹)\", \"Rabs (W m⁻²)\"]);\n",
    "_fig.set_tight_layout(true);\n",
    "_fig"
   ],
   "metadata": {},
   "execution_count": null
  },
  {
   "cell_type": "markdown",
   "source": [
    "### vs. direct light fraction"
   ],
   "metadata": {}
  },
  {
   "outputs": [],
   "cell_type": "code",
   "source": [
    "dirs   = collect(FT, 0.2:0.05:0.8);\n",
    "lai_sl = similar(dirs);\n",
    "par_sl = similar(dirs); par_sh = similar(dirs);\n",
    "rad_sl = similar(dirs); rad_sh = similar(dirs);\n",
    "for i in eachindex(dirs)\n",
    "    lai_sl[i], par_sl[i], par_sh[i], rad_sl[i], rad_sh[i] =\n",
    "        big_leaf_partition(FT(3), FT(30), FT(800), dirs[i]);\n",
    "end\n",
    "\n",
    "_fig,_axes = create_canvas(\"vs Direct light fraction\"; ncol=3);\n",
    "_ax1,_ax2,_ax3 = _axes;\n",
    "_ax1.plot(dirs, lai_sl, \"k-\");\n",
    "_ax2.plot(dirs, par_sl, \"k-\", label=\"Sunlit\");\n",
    "_ax2.plot(dirs, par_sh, \"k:\", label=\"Shaded\");\n",
    "_ax3.plot(dirs, rad_sl, \"k-\", label=\"Sunlit\");\n",
    "_ax3.plot(dirs, rad_sh, \"k:\", label=\"Shaded\");\n",
    "_ax2.legend(loc=\"upper left\");\n",
    "_ax3.legend(loc=\"upper left\");\n",
    "set_xlabels!(_axes, [\"Direct light fraction\" for i in 1:3]);\n",
    "set_ylabels!(_axes, [\"Sunlit fraction\", \"PAR (μmol m⁻² s⁻¹)\", \"Rabs (W m⁻²)\"]);\n",
    "_fig.set_tight_layout(true);\n",
    "_fig"
   ],
   "metadata": {},
   "execution_count": null
  },
  {
   "cell_type": "markdown",
   "source": [
    "---\n",
    "\n",
    "*This notebook was generated using [Literate.jl](https://github.com/fredrikekre/Literate.jl).*"
   ],
   "metadata": {}
  }
 ],
 "nbformat_minor": 3,
 "metadata": {
  "language_info": {
   "file_extension": ".jl",
   "mimetype": "application/julia",
   "name": "julia",
   "version": "1.5.3"
  },
  "kernelspec": {
   "name": "julia-1.5",
   "display_name": "Julia 1.5.3",
   "language": "julia"
  }
 },
 "nbformat": 4
}
