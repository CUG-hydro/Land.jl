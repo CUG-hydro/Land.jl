{
 "cells": [
  {
   "cell_type": "markdown",
   "source": [
    "# Temperature dependencies"
   ],
   "metadata": {}
  },
  {
   "outputs": [],
   "cell_type": "code",
   "source": [
    "# load packages\n",
    "using Land.Photosynthesis\n",
    "using PlotPlants\n",
    "FT = Float32;"
   ],
   "metadata": {},
   "execution_count": null
  },
  {
   "cell_type": "markdown",
   "source": [
    "## Simple example"
   ],
   "metadata": {}
  },
  {
   "outputs": [],
   "cell_type": "code",
   "source": [
    "# define photosynthesis system and leaf (C3 and C4), and envir\n",
    "c3_set = C3CLM(FT);\n",
    "c4_set = C4CLM(FT);\n",
    "leaf_3 = Leaf{FT}(APAR=1000);\n",
    "leaf_4 = Leaf{FT}(APAR=1000);\n",
    "envir  = AirLayer{FT}();\n",
    "\n",
    "# define leaf temperature, total leaf conductance to CO₂, and internal CO₂\n",
    "T   = FT(300);\n",
    "glc = FT(0.1);\n",
    "p_i = rand(FT) + 20;\n",
    "\n",
    "# remember to update the temperature dependencies when temperature changes\n",
    "println(\"initialize temperature dependencies\");\n",
    "leaf_temperature_dependence!(c3_set, leaf_3, envir, T);\n",
    "leaf_temperature_dependence!(c4_set, leaf_4, envir, T);\n",
    "\n",
    "println(\"calculate photosynthesis from known internal CO₂ partial pressure\");\n",
    "leaf_photo_from_pi!(c3_set, leaf_3, p_i);\n",
    "leaf_photo_from_pi!(c4_set, leaf_4, p_i);\n",
    "@show leaf_3.An;\n",
    "@show leaf_4.An;\n",
    "\n",
    "println(\"calculate photosynthesis from known leaf conductance to CO₂\");\n",
    "leaf_photo_from_glc!(c3_set, leaf_3, envir, glc);\n",
    "leaf_photo_from_glc!(c4_set, leaf_4, envir, glc);\n",
    "@show leaf_3.An;\n",
    "@show leaf_4.An;"
   ],
   "metadata": {},
   "execution_count": null
  },
  {
   "cell_type": "markdown",
   "source": [
    "## A-Ci curve\n",
    "Here we show an example of the A-Ci curves for C3 and C4 photosynthesis. As\n",
    "    stomatal conductance may differ when other environmental conditions\n",
    "    change, we leave the examples of photosynthesis responses to the\n",
    "    environment for `StomataModels` package."
   ],
   "metadata": {}
  },
  {
   "outputs": [],
   "cell_type": "code",
   "source": [
    "# temperature not changing, no temperature dependencies update required\n",
    "_p3 = collect(FT, 5:1:200);\n",
    "_p4 = collect(FT, 0:0.1:15.01);\n",
    "_a3 = similar(_p3);\n",
    "_a4 = similar(_p4);\n",
    "for i in eachindex(_p3)\n",
    "    leaf_photo_from_pi!(c3_set, leaf_3, _p3[i]); _a3[i] = leaf_3.An;\n",
    "end\n",
    "for i in eachindex(_p4)\n",
    "    leaf_photo_from_pi!(c4_set, leaf_4, _p4[i]); _a4[i] = leaf_4.An;\n",
    "end\n",
    "\n",
    "_fig,_axes = create_canvas(\"A-Ci curve\"; ncol=2);\n",
    "_ax1,_ax2 = _axes;\n",
    "_ax1.plot(_p3, _a3, \"k-\", label=\"C3\");\n",
    "_ax2.plot(_p4, _a4, \"k-\", label=\"C4\");\n",
    "_ax1.set_xlabel(\"Leaf internal CO₂ (Pa)\");\n",
    "_ax1.set_ylabel(\"Anet (μmol m⁻² s⁻¹)\");\n",
    "_ax2.set_xlabel(\"Leaf internal CO₂ (Pa)\");\n",
    "_ax1.legend(loc=\"lower right\");\n",
    "_ax2.legend(loc=\"lower right\");\n",
    "_fig"
   ],
   "metadata": {},
   "execution_count": null
  },
  {
   "cell_type": "markdown",
   "source": [
    "---\n",
    "\n",
    "*This notebook was generated using [Literate.jl](https://github.com/fredrikekre/Literate.jl).*"
   ],
   "metadata": {}
  }
 ],
 "nbformat_minor": 3,
 "metadata": {
  "language_info": {
   "file_extension": ".jl",
   "mimetype": "application/julia",
   "name": "julia",
   "version": "1.5.3"
  },
  "kernelspec": {
   "name": "julia-1.5",
   "display_name": "Julia 1.5.3",
   "language": "julia"
  }
 },
 "nbformat": 4
}
